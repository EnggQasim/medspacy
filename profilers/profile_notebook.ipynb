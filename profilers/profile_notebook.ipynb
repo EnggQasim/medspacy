{
 "cells": [
  {
   "cell_type": "code",
   "execution_count": 3,
   "id": "0dfa6796-3dca-4048-b577-09c7f113a4c2",
   "metadata": {},
   "outputs": [
    {
     "name": "stdout",
     "output_type": "stream",
     "text": [
      "['/Users/u6022257/opt/anaconda3/lib/python39.zip', '/Users/u6022257/opt/anaconda3/lib/python3.9', '/Users/u6022257/opt/anaconda3/lib/python3.9/lib-dynload', '/Users/u6022257/opt/anaconda3/lib/python3.9/site-packages/aeosa', '/Users/u6022257/opt/anaconda3/lib/python3.9/site-packages/medspacy_quickumls-2.3-py3.9.egg', '/Users/u6022257/opt/anaconda3/lib/python3.9/site-packages/quickumls_simstring-1.1.5.post1-py3.9-macosx-10.9-x86_64.egg', './', './medspacy', '/Users/u6022257/opt/anaconda3/lib/python3.9/site-packages/']\n"
     ]
    }
   ],
   "source": [
    "import sys\n",
    "sys.path = ['/Users/u6022257/opt/anaconda3/lib/python39.zip', '/Users/u6022257/opt/anaconda3/lib/python3.9', '/Users/u6022257/opt/anaconda3/lib/python3.9/lib-dynload', '/Users/u6022257/opt/anaconda3/lib/python3.9/site-packages/aeosa', '/Users/u6022257/opt/anaconda3/lib/python3.9/site-packages/medspacy_quickumls-2.3-py3.9.egg', '/Users/u6022257/opt/anaconda3/lib/python3.9/site-packages/quickumls_simstring-1.1.5.post1-py3.9-macosx-10.9-x86_64.egg', './', './medspacy','/Users/u6022257/opt/anaconda3/lib/python3.9/site-packages/']\n",
    "#sys.path.append(\"../\") #need to uninstall medspacy-io to test the package code.\n",
    "#sys.path.append(\"../medspacy\")\n",
    "print(sys.path)\n",
    "import medspacy"
   ]
  },
  {
   "cell_type": "code",
   "execution_count": null,
   "id": "668ec773-d26d-4dbb-9f76-8c6a9f7a3e14",
   "metadata": {},
   "outputs": [],
   "source": []
  },
  {
   "cell_type": "code",
   "execution_count": null,
   "id": "3fe78e31-64f7-40b0-a8e8-8f64363eddca",
   "metadata": {},
   "outputs": [],
   "source": []
  }
 ],
 "metadata": {
  "kernelspec": {
   "display_name": "Python 3 (ipykernel)",
   "language": "python",
   "name": "python3"
  },
  "language_info": {
   "codemirror_mode": {
    "name": "ipython",
    "version": 3
   },
   "file_extension": ".py",
   "mimetype": "text/x-python",
   "name": "python",
   "nbconvert_exporter": "python",
   "pygments_lexer": "ipython3",
   "version": "3.9.12"
  }
 },
 "nbformat": 4,
 "nbformat_minor": 5
}
