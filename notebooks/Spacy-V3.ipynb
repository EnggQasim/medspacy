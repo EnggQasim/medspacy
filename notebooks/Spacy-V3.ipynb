{
 "cells": [
  {
   "cell_type": "code",
   "execution_count": 1,
   "id": "amended-victory",
   "metadata": {},
   "outputs": [],
   "source": [
    "%load_ext autoreload\n",
    "%autoreload 2"
   ]
  },
  {
   "cell_type": "code",
   "execution_count": 2,
   "id": "occupational-cattle",
   "metadata": {},
   "outputs": [],
   "source": [
    "import spacy"
   ]
  },
  {
   "cell_type": "code",
   "execution_count": 3,
   "id": "smooth-registration",
   "metadata": {},
   "outputs": [],
   "source": [
    "import sys"
   ]
  },
  {
   "cell_type": "code",
   "execution_count": 4,
   "id": "shaped-windows",
   "metadata": {},
   "outputs": [],
   "source": [
    "sys.path.insert(0, \"..\")"
   ]
  },
  {
   "cell_type": "code",
   "execution_count": 28,
   "id": "maritime-specification",
   "metadata": {},
   "outputs": [],
   "source": [
    "text = \"There is no evidence of pneumonia.\""
   ]
  },
  {
   "cell_type": "code",
   "execution_count": 29,
   "id": "documented-increase",
   "metadata": {},
   "outputs": [],
   "source": [
    "nlp = spacy.blank(\"en\")"
   ]
  },
  {
   "cell_type": "markdown",
   "id": "imported-stomach",
   "metadata": {},
   "source": [
    "# Option 1: Register the class directly"
   ]
  },
  {
   "cell_type": "code",
   "execution_count": 10,
   "id": "dominant-discussion",
   "metadata": {},
   "outputs": [],
   "source": [
    "import medspacy"
   ]
  },
  {
   "cell_type": "code",
   "execution_count": 9,
   "id": "answering-astronomy",
   "metadata": {},
   "outputs": [],
   "source": [
    "# Currently can't get PyRush to work\n",
    "\n",
    "# from medspacy.sentence_splitting import PyRuSHSentencizer\n",
    "# from medspacy.section_detection import Sectionizer\n",
    "# from medspacy.target_matcher import TargetMatcher, ConceptTagger\n",
    "# from medspacy.context import ConTextComponent\n",
    "# from medspacy.postprocess import Postprocessor\n",
    "# from medspacy.io import DocConsumer"
   ]
  },
  {
   "cell_type": "code",
   "execution_count": 30,
   "id": "constitutional-canvas",
   "metadata": {},
   "outputs": [],
   "source": [
    "concept_tagger = nlp.add_pipe(\"concept_tagger\")"
   ]
  },
  {
   "cell_type": "code",
   "execution_count": 31,
   "id": "surprising-overhead",
   "metadata": {},
   "outputs": [],
   "source": [
    "target_matcher = nlp.add_pipe(\"target_matcher\", first=True)"
   ]
  },
  {
   "cell_type": "code",
   "execution_count": 32,
   "id": "affiliated-humanitarian",
   "metadata": {},
   "outputs": [],
   "source": [
    "context = nlp.add_pipe(\"context\", config={\"rules\": None})"
   ]
  },
  {
   "cell_type": "code",
   "execution_count": 33,
   "id": "delayed-western",
   "metadata": {},
   "outputs": [],
   "source": [
    "sectionizer = nlp.add_pipe(\"sectionizer\", config={\"rules\": \"default\"})"
   ]
  },
  {
   "cell_type": "code",
   "execution_count": 34,
   "id": "coral-carrier",
   "metadata": {},
   "outputs": [],
   "source": [
    "postprocessor = nlp.add_pipe(\"postprocessor\")"
   ]
  },
  {
   "cell_type": "code",
   "execution_count": 35,
   "id": "separated-foster",
   "metadata": {},
   "outputs": [
    {
     "data": {
      "text/plain": [
       "['target_matcher', 'concept_tagger', 'context', 'sectionizer', 'postprocessor']"
      ]
     },
     "execution_count": 35,
     "metadata": {},
     "output_type": "execute_result"
    }
   ],
   "source": [
    "nlp.pipe_names"
   ]
  },
  {
   "cell_type": "code",
   "execution_count": 36,
   "id": "governmental-thickness",
   "metadata": {},
   "outputs": [
    {
     "data": {
      "text/plain": [
       "<spacy.lang.en.English at 0x11c3d2370>"
      ]
     },
     "execution_count": 36,
     "metadata": {},
     "output_type": "execute_result"
    }
   ],
   "source": [
    "nlp"
   ]
  },
  {
   "cell_type": "code",
   "execution_count": 37,
   "id": "single-unemployment",
   "metadata": {},
   "outputs": [],
   "source": [
    "doc = nlp(text)"
   ]
  },
  {
   "cell_type": "code",
   "execution_count": 39,
   "id": "fancy-chorus",
   "metadata": {},
   "outputs": [],
   "source": [
    "from spacy.tokens import Span"
   ]
  },
  {
   "cell_type": "code",
   "execution_count": 46,
   "id": "finished-daughter",
   "metadata": {},
   "outputs": [],
   "source": [
    "doc.set_ents([Span(doc, 5, 6, \"CONDITION\"),])"
   ]
  },
  {
   "cell_type": "code",
   "execution_count": null,
   "id": "involved-discrimination",
   "metadata": {},
   "outputs": [],
   "source": []
  },
  {
   "cell_type": "code",
   "execution_count": 26,
   "id": "another-oracle",
   "metadata": {},
   "outputs": [],
   "source": [
    "nlp2 = medspacy.load(enable={\"target_matcher\",\"context\", \"sectionizer\", \"postprocessor\"})"
   ]
  },
  {
   "cell_type": "code",
   "execution_count": 27,
   "id": "fossil-atlanta",
   "metadata": {},
   "outputs": [
    {
     "data": {
      "text/plain": [
       "['target_matcher', 'context', 'sectionizer', 'postprocessor']"
      ]
     },
     "execution_count": 27,
     "metadata": {},
     "output_type": "execute_result"
    }
   ],
   "source": [
    "nlp2.pipe_names"
   ]
  },
  {
   "cell_type": "markdown",
   "id": "musical-endorsement",
   "metadata": {},
   "source": [
    "# Option 2: Create a factory function\n",
    "This seems a little more difficult to set up the config, but I'm not sure.\n",
    "```python\n",
    "from spacy.language import Language\n",
    "\n",
    "@Language.factory(\"context\")\n",
    "def context_component(nlp, name, default_config={\"rules\": \"default\"}):\n",
    "    return ConTextComponent(nlp, **default_config)\n",
    "\n",
    "nlp.add_pipe(\"context\", config={\"rules\": None})\n",
    "```"
   ]
  },
  {
   "cell_type": "code",
   "execution_count": null,
   "id": "representative-neutral",
   "metadata": {},
   "outputs": [],
   "source": [
    "if \"context\" in nlp.pipe_names:\n",
    "    nlp.remove_pipe(\"context\")"
   ]
  },
  {
   "cell_type": "code",
   "execution_count": null,
   "id": "quiet-greece",
   "metadata": {},
   "outputs": [],
   "source": []
  },
  {
   "cell_type": "code",
   "execution_count": null,
   "id": "speaking-occasion",
   "metadata": {},
   "outputs": [],
   "source": [
    "nlp.pipe_names"
   ]
  },
  {
   "cell_type": "code",
   "execution_count": null,
   "id": "dedicated-indonesian",
   "metadata": {},
   "outputs": [],
   "source": [
    "context = nlp.get_pipe(\"context\")"
   ]
  },
  {
   "cell_type": "code",
   "execution_count": null,
   "id": "announced-youth",
   "metadata": {},
   "outputs": [],
   "source": [
    "context.rules"
   ]
  },
  {
   "cell_type": "code",
   "execution_count": null,
   "id": "coordinate-volume",
   "metadata": {},
   "outputs": [],
   "source": []
  }
 ],
 "metadata": {
  "kernelspec": {
   "display_name": "Python 3",
   "language": "python",
   "name": "python3"
  },
  "language_info": {
   "codemirror_mode": {
    "name": "ipython",
    "version": 3
   },
   "file_extension": ".py",
   "mimetype": "text/x-python",
   "name": "python",
   "nbconvert_exporter": "python",
   "pygments_lexer": "ipython3",
   "version": "3.8.5"
  }
 },
 "nbformat": 4,
 "nbformat_minor": 5
}
