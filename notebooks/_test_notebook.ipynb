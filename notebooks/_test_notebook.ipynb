{
 "cells": [
  {
   "cell_type": "code",
   "execution_count": 1,
   "id": "78da22e7-a49e-4f8f-a8c1-615183ba2cb4",
   "metadata": {},
   "outputs": [
    {
     "name": "stdout",
     "output_type": "stream",
     "text": [
      "/Users/u6022257/Documents/medspacy/notebooks/05-Full-Pipeline.ipynb\n"
     ]
    },
    {
     "name": "stderr",
     "output_type": "stream",
     "text": [
      "[NbConvertApp] Converting notebook /Users/u6022257/Documents/medspacy/notebooks/05-Full-Pipeline.ipynb to notebook\n",
      "[NbConvertApp] Writing 43064 bytes to /var/folders/gv/s_wjfxw103524143nmnxqllw0000gq/T/tmpgzi_ijq8.ipynb\n"
     ]
    },
    {
     "name": "stdout",
     "output_type": "stream",
     "text": [
      "/Users/u6022257/Documents/medspacy/notebooks/11-QuickUMLS_Extraction.ipynb\n"
     ]
    },
    {
     "name": "stderr",
     "output_type": "stream",
     "text": [
      "[NbConvertApp] Converting notebook /Users/u6022257/Documents/medspacy/notebooks/11-QuickUMLS_Extraction.ipynb to notebook\n",
      "[NbConvertApp] Writing 26305 bytes to /var/folders/gv/s_wjfxw103524143nmnxqllw0000gq/T/tmpszp8xxmn.ipynb\n"
     ]
    },
    {
     "name": "stdout",
     "output_type": "stream",
     "text": [
      "/Users/u6022257/Documents/medspacy/notebooks/07-visualizers.ipynb\n"
     ]
    },
    {
     "name": "stderr",
     "output_type": "stream",
     "text": [
      "[NbConvertApp] Converting notebook /Users/u6022257/Documents/medspacy/notebooks/07-visualizers.ipynb to notebook\n",
      "[NbConvertApp] Writing 51127 bytes to /var/folders/gv/s_wjfxw103524143nmnxqllw0000gq/T/tmpfs69q59u.ipynb\n"
     ]
    },
    {
     "name": "stdout",
     "output_type": "stream",
     "text": [
      "/Users/u6022257/Documents/medspacy/notebooks/03-Information-Extraction.ipynb\n"
     ]
    },
    {
     "name": "stderr",
     "output_type": "stream",
     "text": [
      "[NbConvertApp] Converting notebook /Users/u6022257/Documents/medspacy/notebooks/03-Information-Extraction.ipynb to notebook\n",
      "[NbConvertApp] Writing 41110 bytes to /var/folders/gv/s_wjfxw103524143nmnxqllw0000gq/T/tmpezngxolz.ipynb\n"
     ]
    },
    {
     "name": "stdout",
     "output_type": "stream",
     "text": [
      "/Users/u6022257/Documents/medspacy/notebooks/10-Custom_Tokenizer.ipynb\n"
     ]
    },
    {
     "name": "stderr",
     "output_type": "stream",
     "text": [
      "[NbConvertApp] Converting notebook /Users/u6022257/Documents/medspacy/notebooks/10-Custom_Tokenizer.ipynb to notebook\n",
      "[NbConvertApp] Writing 7996 bytes to /var/folders/gv/s_wjfxw103524143nmnxqllw0000gq/T/tmprul3vrok.ipynb\n"
     ]
    },
    {
     "name": "stdout",
     "output_type": "stream",
     "text": [
      "/Users/u6022257/Documents/medspacy/notebooks/04-Adding-Pipeline-Components.ipynb\n"
     ]
    },
    {
     "name": "stderr",
     "output_type": "stream",
     "text": [
      "[NbConvertApp] Converting notebook /Users/u6022257/Documents/medspacy/notebooks/04-Adding-Pipeline-Components.ipynb to notebook\n",
      "[NbConvertApp] Writing 57166 bytes to /var/folders/gv/s_wjfxw103524143nmnxqllw0000gq/T/tmppuxpwszu.ipynb\n"
     ]
    },
    {
     "name": "stdout",
     "output_type": "stream",
     "text": [
      "/Users/u6022257/Documents/medspacy/notebooks/13-Extensions.ipynb\n"
     ]
    },
    {
     "name": "stderr",
     "output_type": "stream",
     "text": [
      "[NbConvertApp] Converting notebook /Users/u6022257/Documents/medspacy/notebooks/13-Extensions.ipynb to notebook\n",
      "[NbConvertApp] Writing 47252 bytes to /var/folders/gv/s_wjfxw103524143nmnxqllw0000gq/T/tmpg9bdq31n.ipynb\n"
     ]
    },
    {
     "name": "stdout",
     "output_type": "stream",
     "text": [
      "/Users/u6022257/Documents/medspacy/notebooks/08-Preprocessing-Postprocessing.ipynb\n"
     ]
    },
    {
     "name": "stderr",
     "output_type": "stream",
     "text": [
      "[NbConvertApp] Converting notebook /Users/u6022257/Documents/medspacy/notebooks/08-Preprocessing-Postprocessing.ipynb to notebook\n",
      "[NbConvertApp] Writing 28218 bytes to /var/folders/gv/s_wjfxw103524143nmnxqllw0000gq/T/tmp0efw_7hf.ipynb\n"
     ]
    },
    {
     "name": "stdout",
     "output_type": "stream",
     "text": [
      "/Users/u6022257/Documents/medspacy/notebooks/01-Introduction.ipynb\n"
     ]
    },
    {
     "name": "stderr",
     "output_type": "stream",
     "text": [
      "[NbConvertApp] Converting notebook /Users/u6022257/Documents/medspacy/notebooks/01-Introduction.ipynb to notebook\n",
      "[NbConvertApp] Writing 20628 bytes to /var/folders/gv/s_wjfxw103524143nmnxqllw0000gq/T/tmpfrtd0x2n.ipynb\n"
     ]
    },
    {
     "name": "stdout",
     "output_type": "stream",
     "text": [
      "/Users/u6022257/Documents/medspacy/notebooks/Extensions.ipynb\n"
     ]
    },
    {
     "name": "stderr",
     "output_type": "stream",
     "text": [
      "[NbConvertApp] Converting notebook /Users/u6022257/Documents/medspacy/notebooks/Extensions.ipynb to notebook\n",
      "[NbConvertApp] Writing 47240 bytes to /var/folders/gv/s_wjfxw103524143nmnxqllw0000gq/T/tmp3ifwow_v.ipynb\n"
     ]
    },
    {
     "name": "stdout",
     "output_type": "stream",
     "text": [
      "/Users/u6022257/Documents/medspacy/notebooks/02-Tokenizing-and-Sentence-Splitting.ipynb\n"
     ]
    },
    {
     "name": "stderr",
     "output_type": "stream",
     "text": [
      "[NbConvertApp] Converting notebook /Users/u6022257/Documents/medspacy/notebooks/02-Tokenizing-and-Sentence-Splitting.ipynb to notebook\n",
      "[NbConvertApp] Writing 16092 bytes to /var/folders/gv/s_wjfxw103524143nmnxqllw0000gq/T/tmpnxo6sxzd.ipynb\n"
     ]
    },
    {
     "name": "stdout",
     "output_type": "stream",
     "text": [
      "/Users/u6022257/Documents/medspacy/notebooks/context/2-Customizing-Modifiers.ipynb\n"
     ]
    },
    {
     "name": "stderr",
     "output_type": "stream",
     "text": [
      "[NbConvertApp] Converting notebook /Users/u6022257/Documents/medspacy/notebooks/context/2-Customizing-Modifiers.ipynb to notebook\n",
      "[NbConvertApp] Writing 69177 bytes to /var/folders/gv/s_wjfxw103524143nmnxqllw0000gq/T/tmpqnlvyr2j.ipynb\n"
     ]
    },
    {
     "name": "stdout",
     "output_type": "stream",
     "text": [
      "/Users/u6022257/Documents/medspacy/notebooks/context/1-Simple-Example.ipynb\n"
     ]
    },
    {
     "name": "stderr",
     "output_type": "stream",
     "text": [
      "[NbConvertApp] Converting notebook /Users/u6022257/Documents/medspacy/notebooks/context/1-Simple-Example.ipynb to notebook\n",
      "[NbConvertApp] Writing 39676 bytes to /var/folders/gv/s_wjfxw103524143nmnxqllw0000gq/T/tmpdqytc0td.ipynb\n"
     ]
    },
    {
     "name": "stdout",
     "output_type": "stream",
     "text": [
      "/Users/u6022257/Documents/medspacy/notebooks/context/4_Use_Cases.ipynb\n"
     ]
    },
    {
     "name": "stderr",
     "output_type": "stream",
     "text": [
      "[NbConvertApp] Converting notebook /Users/u6022257/Documents/medspacy/notebooks/context/4_Use_Cases.ipynb to notebook\n",
      "[NbConvertApp] Writing 48632 bytes to /var/folders/gv/s_wjfxw103524143nmnxqllw0000gq/T/tmphdu6f5nh.ipynb\n"
     ]
    },
    {
     "name": "stdout",
     "output_type": "stream",
     "text": [
      "/Users/u6022257/Documents/medspacy/notebooks/section_detection/3-Subsections.ipynb\n"
     ]
    },
    {
     "name": "stderr",
     "output_type": "stream",
     "text": [
      "[NbConvertApp] Converting notebook /Users/u6022257/Documents/medspacy/notebooks/section_detection/3-Subsections.ipynb to notebook\n"
     ]
    },
    {
     "name": "stdout",
     "output_type": "stream",
     "text": [
      "/Users/u6022257/Documents/medspacy/notebooks/.ipynb_checkpoints/02-Tokenizing-and-Sentence-Splitting-checkpoint.ipynb\n"
     ]
    },
    {
     "name": "stderr",
     "output_type": "stream",
     "text": [
      "[NbConvertApp] Writing 33255 bytes to /var/folders/gv/s_wjfxw103524143nmnxqllw0000gq/T/tmp9mgjc2yb.ipynb\n"
     ]
    }
   ],
   "source": [
    "import os\n",
    "import subprocess\n",
    "import tempfile\n",
    "from sys import platform\n",
    "\n",
    "os.chdir(\"../\" )\n",
    "for root, dirs, files in os.walk(os.path.join(os.getcwd(), \"notebooks\")):\n",
    "    for file in files:\n",
    "        if file.endswith('.ipynb'):\n",
    "            # Skip this one since it has some large dependencies and downloads\n",
    "            if 'using-pretrained-models' in file.lower():\n",
    "                continue\n",
    "            # Skip this one since it has some large dependencies and manual downloads\n",
    "            if '12-io' in file.lower():\n",
    "                continue\n",
    "            # Skip this one since it has an Exception which currently occurs intentionally\n",
    "            # Now sure if we can work around this in some way\n",
    "            if 'advanced-modifiers' in file.lower():\n",
    "                continue\n",
    "            # Skip this one since it has a manual model download which also does not currently load\n",
    "            if 'clinical-sectionizer' in file.lower():\n",
    "                continue\n",
    "            # Skip this one since it has a manual model download which also does not currently load\n",
    "            if 'adding-sections' in file.lower():\n",
    "                continue\n",
    "            # Skip this on Windows since there are other pieces which must be installed\n",
    "            # manually on this platform for now\n",
    "            if platform.startswith(\"win\") and 'quickumls' in file.lower():\n",
    "                continue\n",
    "                \n",
    "            notebook_full_path = os.path.join(root, file)\n",
    "            print(notebook_full_path)\n",
    "            \n",
    "            # do not run on checkpoints of notebooks!\n",
    "            if '.ipynb_checkpoints' in notebook_full_path.lower():\n",
    "                continue\n",
    "                \n",
    "            with tempfile.NamedTemporaryFile(suffix=\".ipynb\", delete=False) as fout:\n",
    "                args = [\"jupyter\", \"nbconvert\", \"--to\", \"notebook\", \"--execute\",\n",
    "                                \"--ExecutePreprocessor.timeout=1000\",\n",
    "                                # Need to specify a kernel so we don't use the default\n",
    "                                \"--ExecutePreprocessor.kernel_name=python3\",\n",
    "                                \"--output\", fout.name, notebook_full_path]\n",
    "                subprocess.check_call(args)\n",
    "            \n",
    "    "
   ]
  }
 ],
 "metadata": {
  "kernelspec": {
   "display_name": "Python 3 (ipykernel)",
   "language": "python",
   "name": "python3"
  },
  "language_info": {
   "codemirror_mode": {
    "name": "ipython",
    "version": 3
   },
   "file_extension": ".py",
   "mimetype": "text/x-python",
   "name": "python",
   "nbconvert_exporter": "python",
   "pygments_lexer": "ipython3",
   "version": "3.9.12"
  }
 },
 "nbformat": 4,
 "nbformat_minor": 5
}
