{
 "cells": [
  {
   "cell_type": "code",
   "execution_count": 1,
   "metadata": {},
   "outputs": [
    {
     "ename": "ImportError",
     "evalue": "cannot import name 'MEDSPACY_DEFAULT_SPAN_GROUP_NAME' from 'quickumls.constants' (/Users/u6022257/opt/anaconda3/lib/python3.9/site-packages/medspacy_quickumls-2.3-py3.9.egg/quickumls/constants.py)",
     "output_type": "error",
     "traceback": [
      "\u001b[0;31m---------------------------------------------------------------------------\u001b[0m",
      "\u001b[0;31mImportError\u001b[0m                               Traceback (most recent call last)",
      "Input \u001b[0;32mIn [1]\u001b[0m, in \u001b[0;36m<cell line: 6>\u001b[0;34m()\u001b[0m\n\u001b[1;32m      3\u001b[0m \u001b[38;5;28;01mfrom\u001b[39;00m \u001b[38;5;21;01mos\u001b[39;00m \u001b[38;5;28;01mimport\u001b[39;00m path\n\u001b[1;32m      4\u001b[0m \u001b[38;5;28;01mfrom\u001b[39;00m \u001b[38;5;21;01mpathlib\u001b[39;00m \u001b[38;5;28;01mimport\u001b[39;00m Path\n\u001b[0;32m----> 6\u001b[0m \u001b[38;5;28;01mfrom\u001b[39;00m \u001b[38;5;21;01mquickumls\u001b[39;00m\u001b[38;5;21;01m.\u001b[39;00m\u001b[38;5;21;01mconstants\u001b[39;00m \u001b[38;5;28;01mimport\u001b[39;00m MEDSPACY_DEFAULT_SPAN_GROUP_NAME\n\u001b[1;32m      7\u001b[0m \u001b[38;5;28;01mimport\u001b[39;00m \u001b[38;5;21;01mquickumls\u001b[39;00m\u001b[38;5;21;01m.\u001b[39;00m\u001b[38;5;21;01mspacy_component\u001b[39;00m\n\u001b[1;32m      8\u001b[0m \u001b[38;5;28;01mfrom\u001b[39;00m \u001b[38;5;21;01mmedspacy\u001b[39;00m\u001b[38;5;21;01m.\u001b[39;00m\u001b[38;5;21;01mutil\u001b[39;00m \u001b[38;5;28;01mimport\u001b[39;00m get_quickumls_demo_dir\n",
      "\u001b[0;31mImportError\u001b[0m: cannot import name 'MEDSPACY_DEFAULT_SPAN_GROUP_NAME' from 'quickumls.constants' (/Users/u6022257/opt/anaconda3/lib/python3.9/site-packages/medspacy_quickumls-2.3-py3.9.egg/quickumls/constants.py)"
     ]
    }
   ],
   "source": [
    "import sys\n",
    "\n",
    "from os import path\n",
    "from pathlib import Path\n",
    "\n",
    "from quickumls.constants import MEDSPACY_DEFAULT_SPAN_GROUP_NAME\n",
    "import quickumls.spacy_component\n",
    "from medspacy.util import get_quickumls_demo_dir\n",
    "\n",
    "sys.path.insert(0, \"..\")"
   ]
  },
  {
   "cell_type": "code",
   "execution_count": null,
   "metadata": {},
   "outputs": [],
   "source": [
    "import sys\n",
    "\n",
    "import spacy\n",
    "import medspacy\n",
    "import nltk\n",
    "\n",
    "from medspacy.util import DEFAULT_PIPENAMES\n",
    "from medspacy.visualization import visualize_ent\n",
    "from medspacy.section_detection import Sectionizer"
   ]
  },
  {
   "cell_type": "code",
   "execution_count": 3,
   "metadata": {},
   "outputs": [
    {
     "name": "stdout",
     "output_type": "stream",
     "text": [
      "Running on platform: win32\n"
     ]
    }
   ],
   "source": [
    "print('Running on platform: {}'.format(sys.platform))"
   ]
  },
  {
   "cell_type": "markdown",
   "metadata": {},
   "source": [
    "## In the notebook for QuickUMLS Default, spacy entities were used for demonstration.  These entities are the default for many spacy components as well as medspacy components but these have a limitation in that their text spans cannot overlap.  The way to work around this is to use SpanGroup results which do allow overlapping.  These examples below will demonstrate how to do this.  Note that many non-default arguments for QuickUMLS and other medspacy components require setting up a pipeline more directly as opposed to using the helper utility `medspacy.load`, but this function can be  used as helpful reference."
   ]
  },
  {
   "cell_type": "code",
   "execution_count": 4,
   "metadata": {},
   "outputs": [
    {
     "name": "stdout",
     "output_type": "stream",
     "text": [
      "quickumls_file_path:\n",
      "C:\\anaconda3\\envs\\medspacy_clean_windows\\Lib\\site-packages\\medspacy-0.2.0.1-py3.8.egg\\resources\\quickumls/QuickUMLS_SAMPLE_lowercase_Windows_unqlite\n",
      "['medspacy_quickumls']\n"
     ]
    }
   ],
   "source": [
    "nlp = spacy.blank(\"en\")\n",
    "\n",
    "quickumls_file_path = get_quickumls_demo_dir()\n",
    "\n",
    "print('quickumls_file_path:')\n",
    "print(quickumls_file_path)\n",
    "\n",
    "nlp.add_pipe(\"medspacy_quickumls\", config={\"threshold\": 0.7,\n",
    "                                           \"result_type\": \"group\",\n",
    "                                           # do not constrain to the best match for overlapping\n",
    "                                           \"best_match\": False,\n",
    "                                           \"quickumls_fp\": quickumls_file_path})\n",
    "\n",
    "print(nlp.pipe_names)"
   ]
  },
  {
   "cell_type": "code",
   "execution_count": 5,
   "metadata": {},
   "outputs": [
    {
     "name": "stdout",
     "output_type": "stream",
     "text": [
      "Total spans matched: 3\n",
      "Span text : dipalmitoyl phosphatidylcholine\n",
      "Label (UMLS CUI) : C0000039\n",
      "CUI: C0000039\n",
      "Similarity : 1.0\n",
      "Semtypes : {'T121', 'T119'}\n",
      "********************\n",
      "Span text : dipalmitoyl phosphatidylcholine dipalmitoyl\n",
      "Label (UMLS CUI) : C0000039\n",
      "CUI: C0000039\n",
      "Similarity : 0.90625\n",
      "Semtypes : {'T121', 'T119'}\n",
      "********************\n",
      "Span text : phosphatidylcholine dipalmitoyl\n",
      "Label (UMLS CUI) : C0000039\n",
      "CUI: C0000039\n",
      "Similarity : 0.84375\n",
      "Semtypes : {'T121', 'T119'}\n",
      "********************\n"
     ]
    }
   ],
   "source": [
    "# the demo data contains both of these concepts, so let's put them together\n",
    "# and allow overlap on one of the tokens\n",
    "# dipalmitoyl phosphatidylcholine\n",
    "# phosphatidylcholine, dipalmitoyl\n",
    "text = \"\"\"dipalmitoyl phosphatidylcholine dipalmitoyl\"\"\"\n",
    "\n",
    "doc = nlp(text)\n",
    "\n",
    "print('Total spans matched: {}'.format(len(doc.spans[MEDSPACY_DEFAULT_SPAN_GROUP_NAME])))\n",
    "\n",
    "for span in doc.spans[MEDSPACY_DEFAULT_SPAN_GROUP_NAME]:\n",
    "    print('Span text : {}'.format(span.text))\n",
    "    \n",
    "    # each span may have multiple matches (different CUIs and similarity) so let's loop over that\n",
    "    for umls_match in span._.umls_matches:\n",
    "        print('Label (UMLS CUI) : {}'.format(span.label_))\n",
    "        print('CUI: {}'.format(umls_match.cui))\n",
    "        print('Similarity : {}'.format(umls_match.similarity))\n",
    "        print('Semtypes : {}'.format(umls_match.semtypes))\n",
    "        print('********************')"
   ]
  },
  {
   "cell_type": "code",
   "execution_count": null,
   "metadata": {},
   "outputs": [],
   "source": []
  }
 ],
 "metadata": {
  "kernelspec": {
   "display_name": "Python 3 (ipykernel)",
   "language": "python",
   "name": "python3"
  },
  "language_info": {
   "codemirror_mode": {
    "name": "ipython",
    "version": 3
   },
   "file_extension": ".py",
   "mimetype": "text/x-python",
   "name": "python",
   "nbconvert_exporter": "python",
   "pygments_lexer": "ipython3",
   "version": "3.9.12"
  }
 },
 "nbformat": 4,
 "nbformat_minor": 4
}
