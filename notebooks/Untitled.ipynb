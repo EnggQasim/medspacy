{
 "cells": [
  {
   "cell_type": "code",
   "execution_count": 1,
   "id": "78da22e7-a49e-4f8f-a8c1-615183ba2cb4",
   "metadata": {},
   "outputs": [
    {
     "name": "stdout",
     "output_type": "stream",
     "text": [
      "/Users/u6022257/Documents/medspacy/notebooks/05-Full-Pipeline.ipynb\n"
     ]
    },
    {
     "name": "stderr",
     "output_type": "stream",
     "text": [
      "[NbConvertApp] Converting notebook /Users/u6022257/Documents/medspacy/notebooks/05-Full-Pipeline.ipynb to notebook\n",
      "[NbConvertApp] Writing 43064 bytes to /var/folders/gv/s_wjfxw103524143nmnxqllw0000gq/T/tmp6ujnltdl.ipynb\n"
     ]
    },
    {
     "name": "stdout",
     "output_type": "stream",
     "text": [
      "/Users/u6022257/Documents/medspacy/notebooks/11-QuickUMLS_Extraction.ipynb\n"
     ]
    },
    {
     "name": "stderr",
     "output_type": "stream",
     "text": [
      "[NbConvertApp] Converting notebook /Users/u6022257/Documents/medspacy/notebooks/11-QuickUMLS_Extraction.ipynb to notebook\n",
      "[NbConvertApp] Writing 26305 bytes to /var/folders/gv/s_wjfxw103524143nmnxqllw0000gq/T/tmplawo7zpk.ipynb\n"
     ]
    },
    {
     "name": "stdout",
     "output_type": "stream",
     "text": [
      "/Users/u6022257/Documents/medspacy/notebooks/07-visualizers.ipynb\n"
     ]
    },
    {
     "name": "stderr",
     "output_type": "stream",
     "text": [
      "[NbConvertApp] Converting notebook /Users/u6022257/Documents/medspacy/notebooks/07-visualizers.ipynb to notebook\n",
      "[NbConvertApp] Writing 51127 bytes to /var/folders/gv/s_wjfxw103524143nmnxqllw0000gq/T/tmpfw9bq4bg.ipynb\n"
     ]
    },
    {
     "name": "stdout",
     "output_type": "stream",
     "text": [
      "/Users/u6022257/Documents/medspacy/notebooks/03-Information-Extraction.ipynb\n"
     ]
    },
    {
     "name": "stderr",
     "output_type": "stream",
     "text": [
      "[NbConvertApp] Converting notebook /Users/u6022257/Documents/medspacy/notebooks/03-Information-Extraction.ipynb to notebook\n",
      "[NbConvertApp] Writing 41110 bytes to /var/folders/gv/s_wjfxw103524143nmnxqllw0000gq/T/tmpckzjwdo2.ipynb\n"
     ]
    },
    {
     "name": "stdout",
     "output_type": "stream",
     "text": [
      "/Users/u6022257/Documents/medspacy/notebooks/10-Custom_Tokenizer.ipynb\n"
     ]
    },
    {
     "name": "stderr",
     "output_type": "stream",
     "text": [
      "[NbConvertApp] Converting notebook /Users/u6022257/Documents/medspacy/notebooks/10-Custom_Tokenizer.ipynb to notebook\n",
      "[NbConvertApp] Writing 7996 bytes to /var/folders/gv/s_wjfxw103524143nmnxqllw0000gq/T/tmpk4fryps_.ipynb\n"
     ]
    },
    {
     "name": "stdout",
     "output_type": "stream",
     "text": [
      "/Users/u6022257/Documents/medspacy/notebooks/04-Adding-Pipeline-Components.ipynb\n"
     ]
    },
    {
     "name": "stderr",
     "output_type": "stream",
     "text": [
      "[NbConvertApp] Converting notebook /Users/u6022257/Documents/medspacy/notebooks/04-Adding-Pipeline-Components.ipynb to notebook\n",
      "[NbConvertApp] Writing 57166 bytes to /var/folders/gv/s_wjfxw103524143nmnxqllw0000gq/T/tmpfyyanlty.ipynb\n"
     ]
    },
    {
     "name": "stdout",
     "output_type": "stream",
     "text": [
      "/Users/u6022257/Documents/medspacy/notebooks/13-Extensions.ipynb\n"
     ]
    },
    {
     "name": "stderr",
     "output_type": "stream",
     "text": [
      "[NbConvertApp] Converting notebook /Users/u6022257/Documents/medspacy/notebooks/13-Extensions.ipynb to notebook\n",
      "[NbConvertApp] Writing 47252 bytes to /var/folders/gv/s_wjfxw103524143nmnxqllw0000gq/T/tmpl3w8w9i5.ipynb\n"
     ]
    },
    {
     "name": "stdout",
     "output_type": "stream",
     "text": [
      "/Users/u6022257/Documents/medspacy/notebooks/08-Preprocessing-Postprocessing.ipynb\n"
     ]
    },
    {
     "name": "stderr",
     "output_type": "stream",
     "text": [
      "[NbConvertApp] Converting notebook /Users/u6022257/Documents/medspacy/notebooks/08-Preprocessing-Postprocessing.ipynb to notebook\n",
      "[NbConvertApp] Writing 28218 bytes to /var/folders/gv/s_wjfxw103524143nmnxqllw0000gq/T/tmpctdraag_.ipynb\n"
     ]
    },
    {
     "name": "stdout",
     "output_type": "stream",
     "text": [
      "/Users/u6022257/Documents/medspacy/notebooks/01-Introduction.ipynb\n"
     ]
    },
    {
     "name": "stderr",
     "output_type": "stream",
     "text": [
      "[NbConvertApp] Converting notebook /Users/u6022257/Documents/medspacy/notebooks/01-Introduction.ipynb to notebook\n",
      "[NbConvertApp] Writing 20628 bytes to /var/folders/gv/s_wjfxw103524143nmnxqllw0000gq/T/tmpoyvltdcg.ipynb\n"
     ]
    },
    {
     "name": "stdout",
     "output_type": "stream",
     "text": [
      "/Users/u6022257/Documents/medspacy/notebooks/Extensions.ipynb\n"
     ]
    },
    {
     "name": "stderr",
     "output_type": "stream",
     "text": [
      "[NbConvertApp] Converting notebook /Users/u6022257/Documents/medspacy/notebooks/Extensions.ipynb to notebook\n",
      "[NbConvertApp] Writing 47240 bytes to /var/folders/gv/s_wjfxw103524143nmnxqllw0000gq/T/tmp9l54h9g1.ipynb\n"
     ]
    },
    {
     "name": "stdout",
     "output_type": "stream",
     "text": [
      "/Users/u6022257/Documents/medspacy/notebooks/02-Tokenizing-and-Sentence-Splitting.ipynb\n"
     ]
    },
    {
     "name": "stderr",
     "output_type": "stream",
     "text": [
      "[NbConvertApp] Converting notebook /Users/u6022257/Documents/medspacy/notebooks/02-Tokenizing-and-Sentence-Splitting.ipynb to notebook\n",
      "Traceback (most recent call last):\n",
      "  File \"/Users/u6022257/opt/anaconda3/bin/jupyter-nbconvert\", line 11, in <module>\n",
      "    sys.exit(main())\n",
      "  File \"/Users/u6022257/opt/anaconda3/lib/python3.9/site-packages/jupyter_core/application.py\", line 264, in launch_instance\n",
      "    return super(JupyterApp, cls).launch_instance(argv=argv, **kwargs)\n",
      "  File \"/Users/u6022257/opt/anaconda3/lib/python3.9/site-packages/traitlets/config/application.py\", line 846, in launch_instance\n",
      "    app.start()\n",
      "  File \"/Users/u6022257/opt/anaconda3/lib/python3.9/site-packages/nbconvert/nbconvertapp.py\", line 369, in start\n",
      "    self.convert_notebooks()\n",
      "  File \"/Users/u6022257/opt/anaconda3/lib/python3.9/site-packages/nbconvert/nbconvertapp.py\", line 541, in convert_notebooks\n",
      "    self.convert_single_notebook(notebook_filename)\n",
      "  File \"/Users/u6022257/opt/anaconda3/lib/python3.9/site-packages/nbconvert/nbconvertapp.py\", line 506, in convert_single_notebook\n",
      "    output, resources = self.export_single_notebook(notebook_filename, resources, input_buffer=input_buffer)\n",
      "  File \"/Users/u6022257/opt/anaconda3/lib/python3.9/site-packages/nbconvert/nbconvertapp.py\", line 435, in export_single_notebook\n",
      "    output, resources = self.exporter.from_filename(notebook_filename, resources=resources)\n",
      "  File \"/Users/u6022257/opt/anaconda3/lib/python3.9/site-packages/nbconvert/exporters/exporter.py\", line 190, in from_filename\n",
      "    return self.from_file(f, resources=resources, **kw)\n",
      "  File \"/Users/u6022257/opt/anaconda3/lib/python3.9/site-packages/nbconvert/exporters/exporter.py\", line 208, in from_file\n",
      "    return self.from_notebook_node(nbformat.read(file_stream, as_version=4), resources=resources, **kw)\n",
      "  File \"/Users/u6022257/opt/anaconda3/lib/python3.9/site-packages/nbconvert/exporters/notebook.py\", line 32, in from_notebook_node\n",
      "    nb_copy, resources = super().from_notebook_node(nb, resources, **kw)\n",
      "  File \"/Users/u6022257/opt/anaconda3/lib/python3.9/site-packages/nbconvert/exporters/exporter.py\", line 147, in from_notebook_node\n",
      "    nb_copy, resources = self._preprocess(nb_copy, resources)\n",
      "  File \"/Users/u6022257/opt/anaconda3/lib/python3.9/site-packages/nbconvert/exporters/exporter.py\", line 334, in _preprocess\n",
      "    nbc, resc = preprocessor(nbc, resc)\n",
      "  File \"/Users/u6022257/opt/anaconda3/lib/python3.9/site-packages/nbconvert/preprocessors/base.py\", line 47, in __call__\n",
      "    return self.preprocess(nb, resources)\n",
      "  File \"/Users/u6022257/opt/anaconda3/lib/python3.9/site-packages/nbconvert/preprocessors/execute.py\", line 84, in preprocess\n",
      "    self.preprocess_cell(cell, resources, index)\n",
      "  File \"/Users/u6022257/opt/anaconda3/lib/python3.9/site-packages/nbconvert/preprocessors/execute.py\", line 105, in preprocess_cell\n",
      "    cell = self.execute_cell(cell, index, store_history=True)\n",
      "  File \"/Users/u6022257/opt/anaconda3/lib/python3.9/site-packages/nbclient/util.py\", line 84, in wrapped\n",
      "    return just_run(coro(*args, **kwargs))\n",
      "  File \"/Users/u6022257/opt/anaconda3/lib/python3.9/site-packages/nbclient/util.py\", line 62, in just_run\n",
      "    return loop.run_until_complete(coro)\n",
      "  File \"/Users/u6022257/opt/anaconda3/lib/python3.9/asyncio/base_events.py\", line 647, in run_until_complete\n",
      "    return future.result()\n",
      "  File \"/Users/u6022257/opt/anaconda3/lib/python3.9/site-packages/nbclient/client.py\", line 965, in async_execute_cell\n",
      "    await self._check_raise_for_error(cell, cell_index, exec_reply)\n",
      "  File \"/Users/u6022257/opt/anaconda3/lib/python3.9/site-packages/nbclient/client.py\", line 862, in _check_raise_for_error\n",
      "    raise CellExecutionError.from_cell_and_msg(cell, exec_reply_content)\n",
      "nbclient.exceptions.CellExecutionError: An error occurred while executing the following cell:\n",
      "------------------\n",
      "sentencizer = PyRuSHSentencizer(rules_path=\"../resources/rush_rules.tsv\")\n",
      "------------------\n",
      "\n",
      "\u001b[0;31m---------------------------------------------------------------------------\u001b[0m\n",
      "\u001b[0;31mTypeError\u001b[0m                                 Traceback (most recent call last)\n",
      "Input \u001b[0;32mIn [12]\u001b[0m, in \u001b[0;36m<cell line: 1>\u001b[0;34m()\u001b[0m\n",
      "\u001b[0;32m----> 1\u001b[0m sentencizer \u001b[38;5;241m=\u001b[39m \u001b[43mPyRuSHSentencizer\u001b[49m\u001b[43m(\u001b[49m\u001b[43mrules_path\u001b[49m\u001b[38;5;241;43m=\u001b[39;49m\u001b[38;5;124;43m\"\u001b[39;49m\u001b[38;5;124;43m../resources/rush_rules.tsv\u001b[39;49m\u001b[38;5;124;43m\"\u001b[39;49m\u001b[43m)\u001b[49m\n",
      "\n",
      "\u001b[0;31mTypeError\u001b[0m: __init__() missing 1 required positional argument: 'nlp'\n",
      "TypeError: __init__() missing 1 required positional argument: 'nlp'\n",
      "\n"
     ]
    },
    {
     "ename": "CalledProcessError",
     "evalue": "Command '['jupyter', 'nbconvert', '--to', 'notebook', '--execute', '--ExecutePreprocessor.timeout=1000', '--ExecutePreprocessor.kernel_name=python3', '--output', '/var/folders/gv/s_wjfxw103524143nmnxqllw0000gq/T/tmp_9q2_c3z.ipynb', '/Users/u6022257/Documents/medspacy/notebooks/02-Tokenizing-and-Sentence-Splitting.ipynb']' returned non-zero exit status 1.",
     "output_type": "error",
     "traceback": [
      "\u001b[0;31m---------------------------------------------------------------------------\u001b[0m",
      "\u001b[0;31mCalledProcessError\u001b[0m                        Traceback (most recent call last)",
      "Input \u001b[0;32mIn [1]\u001b[0m, in \u001b[0;36m<cell line: 7>\u001b[0;34m()\u001b[0m\n\u001b[1;32m     38\u001b[0m \u001b[38;5;28;01mwith\u001b[39;00m tempfile\u001b[38;5;241m.\u001b[39mNamedTemporaryFile(suffix\u001b[38;5;241m=\u001b[39m\u001b[38;5;124m\"\u001b[39m\u001b[38;5;124m.ipynb\u001b[39m\u001b[38;5;124m\"\u001b[39m, delete\u001b[38;5;241m=\u001b[39m\u001b[38;5;28;01mFalse\u001b[39;00m) \u001b[38;5;28;01mas\u001b[39;00m fout:\n\u001b[1;32m     39\u001b[0m     args \u001b[38;5;241m=\u001b[39m [\u001b[38;5;124m\"\u001b[39m\u001b[38;5;124mjupyter\u001b[39m\u001b[38;5;124m\"\u001b[39m, \u001b[38;5;124m\"\u001b[39m\u001b[38;5;124mnbconvert\u001b[39m\u001b[38;5;124m\"\u001b[39m, \u001b[38;5;124m\"\u001b[39m\u001b[38;5;124m--to\u001b[39m\u001b[38;5;124m\"\u001b[39m, \u001b[38;5;124m\"\u001b[39m\u001b[38;5;124mnotebook\u001b[39m\u001b[38;5;124m\"\u001b[39m, \u001b[38;5;124m\"\u001b[39m\u001b[38;5;124m--execute\u001b[39m\u001b[38;5;124m\"\u001b[39m,\n\u001b[1;32m     40\u001b[0m                     \u001b[38;5;124m\"\u001b[39m\u001b[38;5;124m--ExecutePreprocessor.timeout=1000\u001b[39m\u001b[38;5;124m\"\u001b[39m,\n\u001b[1;32m     41\u001b[0m                     \u001b[38;5;66;03m# Need to specify a kernel so we don't use the default\u001b[39;00m\n\u001b[1;32m     42\u001b[0m                     \u001b[38;5;124m\"\u001b[39m\u001b[38;5;124m--ExecutePreprocessor.kernel_name=python3\u001b[39m\u001b[38;5;124m\"\u001b[39m,\n\u001b[1;32m     43\u001b[0m                     \u001b[38;5;124m\"\u001b[39m\u001b[38;5;124m--output\u001b[39m\u001b[38;5;124m\"\u001b[39m, fout\u001b[38;5;241m.\u001b[39mname, notebook_full_path]\n\u001b[0;32m---> 44\u001b[0m     \u001b[43msubprocess\u001b[49m\u001b[38;5;241;43m.\u001b[39;49m\u001b[43mcheck_call\u001b[49m\u001b[43m(\u001b[49m\u001b[43margs\u001b[49m\u001b[43m)\u001b[49m\n",
      "File \u001b[0;32m~/opt/anaconda3/lib/python3.9/subprocess.py:373\u001b[0m, in \u001b[0;36mcheck_call\u001b[0;34m(*popenargs, **kwargs)\u001b[0m\n\u001b[1;32m    371\u001b[0m     \u001b[38;5;28;01mif\u001b[39;00m cmd \u001b[38;5;129;01mis\u001b[39;00m \u001b[38;5;28;01mNone\u001b[39;00m:\n\u001b[1;32m    372\u001b[0m         cmd \u001b[38;5;241m=\u001b[39m popenargs[\u001b[38;5;241m0\u001b[39m]\n\u001b[0;32m--> 373\u001b[0m     \u001b[38;5;28;01mraise\u001b[39;00m CalledProcessError(retcode, cmd)\n\u001b[1;32m    374\u001b[0m \u001b[38;5;28;01mreturn\u001b[39;00m \u001b[38;5;241m0\u001b[39m\n",
      "\u001b[0;31mCalledProcessError\u001b[0m: Command '['jupyter', 'nbconvert', '--to', 'notebook', '--execute', '--ExecutePreprocessor.timeout=1000', '--ExecutePreprocessor.kernel_name=python3', '--output', '/var/folders/gv/s_wjfxw103524143nmnxqllw0000gq/T/tmp_9q2_c3z.ipynb', '/Users/u6022257/Documents/medspacy/notebooks/02-Tokenizing-and-Sentence-Splitting.ipynb']' returned non-zero exit status 1."
     ]
    }
   ],
   "source": [
    "import os\n",
    "import subprocess\n",
    "import tempfile\n",
    "from sys import platform\n",
    "\n",
    "os.chdir(\"../\" )\n",
    "for root, dirs, files in os.walk(os.path.join(os.getcwd(), \"notebooks\")):\n",
    "    for file in files:\n",
    "        if file.endswith('.ipynb'):\n",
    "            # Skip this one since it has some large dependencies and downloads\n",
    "            if 'using-pretrained-models' in file.lower():\n",
    "                continue\n",
    "            # Skip this one since it has some large dependencies and manual downloads\n",
    "            if '12-io' in file.lower():\n",
    "                continue\n",
    "            # Skip this one since it has an Exception which currently occurs intentionally\n",
    "            # Now sure if we can work around this in some way\n",
    "            if 'advanced-modifiers' in file.lower():\n",
    "                continue\n",
    "            # Skip this one since it has a manual model download which also does not currently load\n",
    "            if 'clinical-sectionizer' in file.lower():\n",
    "                continue\n",
    "            # Skip this one since it has a manual model download which also does not currently load\n",
    "            if 'adding-sections' in file.lower():\n",
    "                continue\n",
    "            # Skip this on Windows since there are other pieces which must be installed\n",
    "            # manually on this platform for now\n",
    "            if platform.startswith(\"win\") and 'quickumls' in file.lower():\n",
    "                continue\n",
    "                \n",
    "            notebook_full_path = os.path.join(root, file)\n",
    "            print(notebook_full_path)\n",
    "            \n",
    "            # do not run on checkpoints of notebooks!\n",
    "            if '.ipynb_checkpoints' in notebook_full_path.lower():\n",
    "                continue\n",
    "                \n",
    "            with tempfile.NamedTemporaryFile(suffix=\".ipynb\", delete=False) as fout:\n",
    "                args = [\"jupyter\", \"nbconvert\", \"--to\", \"notebook\", \"--execute\",\n",
    "                                \"--ExecutePreprocessor.timeout=1000\",\n",
    "                                # Need to specify a kernel so we don't use the default\n",
    "                                \"--ExecutePreprocessor.kernel_name=python3\",\n",
    "                                \"--output\", fout.name, notebook_full_path]\n",
    "                subprocess.check_call(args)\n",
    "            \n",
    "    "
   ]
  }
 ],
 "metadata": {
  "kernelspec": {
   "display_name": "Python 3 (ipykernel)",
   "language": "python",
   "name": "python3"
  },
  "language_info": {
   "codemirror_mode": {
    "name": "ipython",
    "version": 3
   },
   "file_extension": ".py",
   "mimetype": "text/x-python",
   "name": "python",
   "nbconvert_exporter": "python",
   "pygments_lexer": "ipython3",
   "version": "3.9.12"
  }
 },
 "nbformat": 4,
 "nbformat_minor": 5
}
