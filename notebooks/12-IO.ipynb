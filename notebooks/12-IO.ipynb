{
 "cells": [
  {
   "cell_type": "code",
   "execution_count": 1,
   "metadata": {
    "scrolled": true
   },
   "outputs": [],
   "source": [
    "%load_ext autoreload\n",
    "%autoreload 2"
   ]
  },
  {
   "cell_type": "code",
   "execution_count": 2,
   "metadata": {
    "scrolled": true
   },
   "outputs": [],
   "source": [
    "import sys\n",
    "sys.path.insert(0, \"..\")"
   ]
  },
  {
   "cell_type": "code",
   "execution_count": 3,
   "metadata": {
    "scrolled": true
   },
   "outputs": [],
   "source": [
    "import medspacy"
   ]
  },
  {
   "cell_type": "code",
   "execution_count": 4,
   "metadata": {},
   "outputs": [],
   "source": [
    "with open(\"./discharge_summary.txt\") as f:\n",
    "    text = f.read()"
   ]
  },
  {
   "cell_type": "code",
   "execution_count": 5,
   "metadata": {},
   "outputs": [],
   "source": [
    "enable = ['sentencizer',\n",
    " 'tagger',\n",
    " 'parser',\n",
    " 'ner',\n",
    " 'target_matcher',\n",
    " 'context',\n",
    " 'sectionizer',\n",
    " 'doc_consumer']"
   ]
  },
  {
   "cell_type": "code",
   "execution_count": 6,
   "metadata": {
    "scrolled": true
   },
   "outputs": [
    {
     "name": "stderr",
     "output_type": "stream",
     "text": [
      "/Users/alecchapman/opt/anaconda3/envs/medspacy-37/lib/python3.7/site-packages/spacy/util.py:275: UserWarning: [W031] Model 'en_info_3700_i2b2_2012' (0.1.0) requires spaCy v2.2 and is incompatible with the current spaCy version (2.3.2). This may lead to unexpected results or runtime errors. To resolve this, download a newer compatible model or retrain your custom model with the current spaCy version. For more details and available updates, run: python -m spacy validate\n",
      "  warnings.warn(warn_msg)\n"
     ]
    }
   ],
   "source": [
    "nlp = medspacy.load(\"en_info_3700_i2b2_2012\", enable=enable)"
   ]
  },
  {
   "cell_type": "code",
   "execution_count": 7,
   "metadata": {},
   "outputs": [
    {
     "data": {
      "text/plain": [
       "['sentencizer',\n",
       " 'tagger',\n",
       " 'parser',\n",
       " 'ner',\n",
       " 'target_matcher',\n",
       " 'context',\n",
       " 'sectionizer']"
      ]
     },
     "execution_count": 7,
     "metadata": {},
     "output_type": "execute_result"
    }
   ],
   "source": [
    "nlp.pipe_names"
   ]
  },
  {
   "cell_type": "code",
   "execution_count": 74,
   "metadata": {},
   "outputs": [],
   "source": [
    "doc = nlp(text)"
   ]
  },
  {
   "cell_type": "markdown",
   "metadata": {},
   "source": [
    "# I. DocConsumer"
   ]
  },
  {
   "cell_type": "code",
   "execution_count": 9,
   "metadata": {
    "scrolled": true
   },
   "outputs": [],
   "source": [
    "from medspacy.io import DocConsumer"
   ]
  },
  {
   "cell_type": "code",
   "execution_count": 10,
   "metadata": {
    "scrolled": true
   },
   "outputs": [],
   "source": [
    "doc_consumer = DocConsumer(nlp, dtypes=(\"ent\", \"context\", \"section\", \"doc\"))"
   ]
  },
  {
   "cell_type": "code",
   "execution_count": 11,
   "metadata": {},
   "outputs": [
    {
     "data": {
      "text/plain": [
       "{'ent': ['text',\n",
       "  'start_char',\n",
       "  'end_char',\n",
       "  'label_',\n",
       "  'is_negated',\n",
       "  'is_uncertain',\n",
       "  'is_historical',\n",
       "  'is_hypothetical',\n",
       "  'is_family',\n",
       "  'section_category',\n",
       "  'section_parent'],\n",
       " 'context': ['ent_text',\n",
       "  'ent_label_',\n",
       "  'ent_start_char',\n",
       "  'ent_end_char',\n",
       "  'modifier_text',\n",
       "  'modifier_category',\n",
       "  'modifier_direction',\n",
       "  'modifier_start_char',\n",
       "  'modifier_end_char',\n",
       "  'modifier_scope_start_char',\n",
       "  'modifier_scope_end_char'],\n",
       " 'section': ['section_category',\n",
       "  'section_title_text',\n",
       "  'section_title_start_char',\n",
       "  'section_title_end_char',\n",
       "  'section_title_text',\n",
       "  'section_title_start_char',\n",
       "  'section_title_end_char',\n",
       "  'section_text',\n",
       "  'section_text_start_char',\n",
       "  'section_text_end_char',\n",
       "  'section_parent'],\n",
       " 'doc': ['text']}"
      ]
     },
     "execution_count": 11,
     "metadata": {},
     "output_type": "execute_result"
    }
   ],
   "source": [
    "doc_consumer.dtype_attrs"
   ]
  },
  {
   "cell_type": "code",
   "execution_count": 75,
   "metadata": {},
   "outputs": [],
   "source": [
    "doc = doc_consumer(doc)"
   ]
  },
  {
   "cell_type": "code",
   "execution_count": null,
   "metadata": {},
   "outputs": [],
   "source": []
  },
  {
   "cell_type": "markdown",
   "metadata": {},
   "source": [
    "## Ents data"
   ]
  },
  {
   "cell_type": "code",
   "execution_count": 13,
   "metadata": {},
   "outputs": [],
   "source": [
    "ent_data = doc._.ent_data"
   ]
  },
  {
   "cell_type": "code",
   "execution_count": 14,
   "metadata": {},
   "outputs": [
    {
     "data": {
      "text/plain": [
       "odict_keys(['text', 'start_char', 'end_char', 'label_', 'is_negated', 'is_uncertain', 'is_historical', 'is_hypothetical', 'is_family', 'section_category', 'section_parent'])"
      ]
     },
     "execution_count": 14,
     "metadata": {},
     "output_type": "execute_result"
    }
   ],
   "source": [
    "ent_data.keys()"
   ]
  },
  {
   "cell_type": "code",
   "execution_count": 15,
   "metadata": {},
   "outputs": [],
   "source": [
    "ent_data_rows = doc._.get_data(\"ent\", as_rows=True)"
   ]
  },
  {
   "cell_type": "code",
   "execution_count": 16,
   "metadata": {},
   "outputs": [
    {
     "data": {
      "text/plain": [
       "('Hydrochlorothiazide',\n",
       " 163,\n",
       " 182,\n",
       " 'TREATMENT',\n",
       " False,\n",
       " False,\n",
       " False,\n",
       " False,\n",
       " False,\n",
       " 'allergies',\n",
       " None)"
      ]
     },
     "execution_count": 16,
     "metadata": {},
     "output_type": "execute_result"
    }
   ],
   "source": [
    "ent_data_rows[0]"
   ]
  },
  {
   "cell_type": "code",
   "execution_count": 18,
   "metadata": {},
   "outputs": [],
   "source": [
    "ents_df = doc._.to_dataframe(\"ent\")"
   ]
  },
  {
   "cell_type": "code",
   "execution_count": 19,
   "metadata": {},
   "outputs": [
    {
     "data": {
      "text/html": [
       "<div>\n",
       "<style scoped>\n",
       "    .dataframe tbody tr th:only-of-type {\n",
       "        vertical-align: middle;\n",
       "    }\n",
       "\n",
       "    .dataframe tbody tr th {\n",
       "        vertical-align: top;\n",
       "    }\n",
       "\n",
       "    .dataframe thead th {\n",
       "        text-align: right;\n",
       "    }\n",
       "</style>\n",
       "<table border=\"1\" class=\"dataframe\">\n",
       "  <thead>\n",
       "    <tr style=\"text-align: right;\">\n",
       "      <th></th>\n",
       "      <th>text</th>\n",
       "      <th>start_char</th>\n",
       "      <th>end_char</th>\n",
       "      <th>label_</th>\n",
       "      <th>is_negated</th>\n",
       "      <th>is_uncertain</th>\n",
       "      <th>is_historical</th>\n",
       "      <th>is_hypothetical</th>\n",
       "      <th>is_family</th>\n",
       "      <th>section_category</th>\n",
       "      <th>section_parent</th>\n",
       "    </tr>\n",
       "  </thead>\n",
       "  <tbody>\n",
       "    <tr>\n",
       "      <th>0</th>\n",
       "      <td>Hydrochlorothiazide</td>\n",
       "      <td>163</td>\n",
       "      <td>182</td>\n",
       "      <td>TREATMENT</td>\n",
       "      <td>False</td>\n",
       "      <td>False</td>\n",
       "      <td>False</td>\n",
       "      <td>False</td>\n",
       "      <td>False</td>\n",
       "      <td>allergies</td>\n",
       "      <td>None</td>\n",
       "    </tr>\n",
       "    <tr>\n",
       "      <th>1</th>\n",
       "      <td>Abdominal pain</td>\n",
       "      <td>239</td>\n",
       "      <td>253</td>\n",
       "      <td>PROBLEM</td>\n",
       "      <td>False</td>\n",
       "      <td>False</td>\n",
       "      <td>False</td>\n",
       "      <td>False</td>\n",
       "      <td>False</td>\n",
       "      <td>chief_complaint</td>\n",
       "      <td>None</td>\n",
       "    </tr>\n",
       "    <tr>\n",
       "      <th>2</th>\n",
       "      <td>Invasive Procedure</td>\n",
       "      <td>273</td>\n",
       "      <td>291</td>\n",
       "      <td>TREATMENT</td>\n",
       "      <td>False</td>\n",
       "      <td>False</td>\n",
       "      <td>False</td>\n",
       "      <td>False</td>\n",
       "      <td>False</td>\n",
       "      <td>chief_complaint</td>\n",
       "      <td>None</td>\n",
       "    </tr>\n",
       "    <tr>\n",
       "      <th>3</th>\n",
       "      <td>PICC line</td>\n",
       "      <td>293</td>\n",
       "      <td>302</td>\n",
       "      <td>TREATMENT</td>\n",
       "      <td>False</td>\n",
       "      <td>False</td>\n",
       "      <td>False</td>\n",
       "      <td>False</td>\n",
       "      <td>False</td>\n",
       "      <td>chief_complaint</td>\n",
       "      <td>None</td>\n",
       "    </tr>\n",
       "    <tr>\n",
       "      <th>4</th>\n",
       "      <td>ERCP</td>\n",
       "      <td>314</td>\n",
       "      <td>318</td>\n",
       "      <td>TEST</td>\n",
       "      <td>False</td>\n",
       "      <td>False</td>\n",
       "      <td>False</td>\n",
       "      <td>False</td>\n",
       "      <td>False</td>\n",
       "      <td>chief_complaint</td>\n",
       "      <td>None</td>\n",
       "    </tr>\n",
       "  </tbody>\n",
       "</table>\n",
       "</div>"
      ],
      "text/plain": [
       "                  text  start_char  end_char     label_  is_negated  \\\n",
       "0  Hydrochlorothiazide         163       182  TREATMENT       False   \n",
       "1       Abdominal pain         239       253    PROBLEM       False   \n",
       "2   Invasive Procedure         273       291  TREATMENT       False   \n",
       "3            PICC line         293       302  TREATMENT       False   \n",
       "4                 ERCP         314       318       TEST       False   \n",
       "\n",
       "   is_uncertain  is_historical  is_hypothetical  is_family section_category  \\\n",
       "0         False          False            False      False        allergies   \n",
       "1         False          False            False      False  chief_complaint   \n",
       "2         False          False            False      False  chief_complaint   \n",
       "3         False          False            False      False  chief_complaint   \n",
       "4         False          False            False      False  chief_complaint   \n",
       "\n",
       "  section_parent  \n",
       "0           None  \n",
       "1           None  \n",
       "2           None  \n",
       "3           None  \n",
       "4           None  "
      ]
     },
     "execution_count": 19,
     "metadata": {},
     "output_type": "execute_result"
    }
   ],
   "source": [
    "ents_df.head()"
   ]
  },
  {
   "cell_type": "code",
   "execution_count": 20,
   "metadata": {},
   "outputs": [
    {
     "data": {
      "text/html": [
       "<div>\n",
       "<style scoped>\n",
       "    .dataframe tbody tr th:only-of-type {\n",
       "        vertical-align: middle;\n",
       "    }\n",
       "\n",
       "    .dataframe tbody tr th {\n",
       "        vertical-align: top;\n",
       "    }\n",
       "\n",
       "    .dataframe thead th {\n",
       "        text-align: right;\n",
       "    }\n",
       "</style>\n",
       "<table border=\"1\" class=\"dataframe\">\n",
       "  <thead>\n",
       "    <tr style=\"text-align: right;\">\n",
       "      <th></th>\n",
       "      <th>text</th>\n",
       "      <th>start_char</th>\n",
       "      <th>end_char</th>\n",
       "      <th>label_</th>\n",
       "      <th>is_negated</th>\n",
       "      <th>is_uncertain</th>\n",
       "      <th>is_historical</th>\n",
       "      <th>is_hypothetical</th>\n",
       "      <th>is_family</th>\n",
       "      <th>section_category</th>\n",
       "      <th>section_parent</th>\n",
       "    </tr>\n",
       "  </thead>\n",
       "  <tbody>\n",
       "    <tr>\n",
       "      <th>9</th>\n",
       "      <td>metastasis</td>\n",
       "      <td>519</td>\n",
       "      <td>529</td>\n",
       "      <td>PROBLEM</td>\n",
       "      <td>True</td>\n",
       "      <td>False</td>\n",
       "      <td>False</td>\n",
       "      <td>False</td>\n",
       "      <td>False</td>\n",
       "      <td>history_of_present_illness</td>\n",
       "      <td>None</td>\n",
       "    </tr>\n",
       "    <tr>\n",
       "      <th>19</th>\n",
       "      <td>alcohol or drug use</td>\n",
       "      <td>788</td>\n",
       "      <td>807</td>\n",
       "      <td>PROBLEM</td>\n",
       "      <td>True</td>\n",
       "      <td>False</td>\n",
       "      <td>False</td>\n",
       "      <td>False</td>\n",
       "      <td>False</td>\n",
       "      <td>social_history</td>\n",
       "      <td>None</td>\n",
       "    </tr>\n",
       "  </tbody>\n",
       "</table>\n",
       "</div>"
      ],
      "text/plain": [
       "                   text  start_char  end_char   label_  is_negated  \\\n",
       "9            metastasis         519       529  PROBLEM        True   \n",
       "19  alcohol or drug use         788       807  PROBLEM        True   \n",
       "\n",
       "    is_uncertain  is_historical  is_hypothetical  is_family  \\\n",
       "9          False          False            False      False   \n",
       "19         False          False            False      False   \n",
       "\n",
       "              section_category section_parent  \n",
       "9   history_of_present_illness           None  \n",
       "19              social_history           None  "
      ]
     },
     "execution_count": 20,
     "metadata": {},
     "output_type": "execute_result"
    }
   ],
   "source": [
    "ents_df[ents_df[\"is_negated\"] == True]"
   ]
  },
  {
   "cell_type": "markdown",
   "metadata": {},
   "source": [
    "## Context data"
   ]
  },
  {
   "cell_type": "code",
   "execution_count": 21,
   "metadata": {},
   "outputs": [],
   "source": [
    "context_data = doc._.context_data"
   ]
  },
  {
   "cell_type": "code",
   "execution_count": 22,
   "metadata": {},
   "outputs": [
    {
     "data": {
      "text/plain": [
       "odict_keys(['ent_text', 'ent_label_', 'ent_start_char', 'ent_end_char', 'modifier_text', 'modifier_category', 'modifier_direction', 'modifier_start_char', 'modifier_end_char', 'modifier_scope_start_char', 'modifier_scope_end_char'])"
      ]
     },
     "execution_count": 22,
     "metadata": {},
     "output_type": "execute_result"
    }
   ],
   "source": [
    "context_data.keys()"
   ]
  },
  {
   "cell_type": "code",
   "execution_count": 23,
   "metadata": {},
   "outputs": [],
   "source": [
    "context_df = doc._.to_dataframe(\"context\")"
   ]
  },
  {
   "cell_type": "code",
   "execution_count": 24,
   "metadata": {},
   "outputs": [
    {
     "data": {
      "text/html": [
       "<div>\n",
       "<style scoped>\n",
       "    .dataframe tbody tr th:only-of-type {\n",
       "        vertical-align: middle;\n",
       "    }\n",
       "\n",
       "    .dataframe tbody tr th {\n",
       "        vertical-align: top;\n",
       "    }\n",
       "\n",
       "    .dataframe thead th {\n",
       "        text-align: right;\n",
       "    }\n",
       "</style>\n",
       "<table border=\"1\" class=\"dataframe\">\n",
       "  <thead>\n",
       "    <tr style=\"text-align: right;\">\n",
       "      <th></th>\n",
       "      <th>ent_text</th>\n",
       "      <th>ent_label_</th>\n",
       "      <th>ent_start_char</th>\n",
       "      <th>ent_end_char</th>\n",
       "      <th>modifier_text</th>\n",
       "      <th>modifier_category</th>\n",
       "      <th>modifier_direction</th>\n",
       "      <th>modifier_start_char</th>\n",
       "      <th>modifier_end_char</th>\n",
       "      <th>modifier_scope_start_char</th>\n",
       "      <th>modifier_scope_end_char</th>\n",
       "    </tr>\n",
       "  </thead>\n",
       "  <tbody>\n",
       "    <tr>\n",
       "      <th>0</th>\n",
       "      <td>metastasis</td>\n",
       "      <td>PROBLEM</td>\n",
       "      <td>519</td>\n",
       "      <td>529</td>\n",
       "      <td>no evidence of</td>\n",
       "      <td>NEGATED_EXISTENCE</td>\n",
       "      <td>FORWARD</td>\n",
       "      <td>504</td>\n",
       "      <td>518</td>\n",
       "      <td>519</td>\n",
       "      <td>518</td>\n",
       "    </tr>\n",
       "    <tr>\n",
       "      <th>1</th>\n",
       "      <td>alcohol or drug use</td>\n",
       "      <td>PROBLEM</td>\n",
       "      <td>788</td>\n",
       "      <td>807</td>\n",
       "      <td>No</td>\n",
       "      <td>NEGATED_EXISTENCE</td>\n",
       "      <td>FORWARD</td>\n",
       "      <td>785</td>\n",
       "      <td>787</td>\n",
       "      <td>788</td>\n",
       "      <td>787</td>\n",
       "    </tr>\n",
       "    <tr>\n",
       "      <th>2</th>\n",
       "      <td>stroke</td>\n",
       "      <td>PROBLEM</td>\n",
       "      <td>838</td>\n",
       "      <td>844</td>\n",
       "      <td>Mother</td>\n",
       "      <td>FAMILY</td>\n",
       "      <td>FORWARD</td>\n",
       "      <td>826</td>\n",
       "      <td>832</td>\n",
       "      <td>833</td>\n",
       "      <td>832</td>\n",
       "    </tr>\n",
       "    <tr>\n",
       "      <th>3</th>\n",
       "      <td>aspiration respiratory distress</td>\n",
       "      <td>PROBLEM</td>\n",
       "      <td>1478</td>\n",
       "      <td>1509</td>\n",
       "      <td>h/o</td>\n",
       "      <td>HISTORICAL</td>\n",
       "      <td>FORWARD</td>\n",
       "      <td>1474</td>\n",
       "      <td>1477</td>\n",
       "      <td>1478</td>\n",
       "      <td>1477</td>\n",
       "    </tr>\n",
       "    <tr>\n",
       "      <th>4</th>\n",
       "      <td>fever</td>\n",
       "      <td>PROBLEM</td>\n",
       "      <td>1652</td>\n",
       "      <td>1657</td>\n",
       "      <td>if</td>\n",
       "      <td>HYPOTHETICAL</td>\n",
       "      <td>FORWARD</td>\n",
       "      <td>1613</td>\n",
       "      <td>1615</td>\n",
       "      <td>1616</td>\n",
       "      <td>1615</td>\n",
       "    </tr>\n",
       "  </tbody>\n",
       "</table>\n",
       "</div>"
      ],
      "text/plain": [
       "                          ent_text ent_label_  ent_start_char  ent_end_char  \\\n",
       "0                       metastasis    PROBLEM             519           529   \n",
       "1              alcohol or drug use    PROBLEM             788           807   \n",
       "2                           stroke    PROBLEM             838           844   \n",
       "3  aspiration respiratory distress    PROBLEM            1478          1509   \n",
       "4                            fever    PROBLEM            1652          1657   \n",
       "\n",
       "    modifier_text  modifier_category modifier_direction  modifier_start_char  \\\n",
       "0  no evidence of  NEGATED_EXISTENCE            FORWARD                  504   \n",
       "1              No  NEGATED_EXISTENCE            FORWARD                  785   \n",
       "2          Mother             FAMILY            FORWARD                  826   \n",
       "3             h/o         HISTORICAL            FORWARD                 1474   \n",
       "4              if       HYPOTHETICAL            FORWARD                 1613   \n",
       "\n",
       "   modifier_end_char  modifier_scope_start_char  modifier_scope_end_char  \n",
       "0                518                        519                      518  \n",
       "1                787                        788                      787  \n",
       "2                832                        833                      832  \n",
       "3               1477                       1478                     1477  \n",
       "4               1615                       1616                     1615  "
      ]
     },
     "execution_count": 24,
     "metadata": {},
     "output_type": "execute_result"
    }
   ],
   "source": [
    "context_df.head()"
   ]
  },
  {
   "cell_type": "markdown",
   "metadata": {},
   "source": [
    "## Section data"
   ]
  },
  {
   "cell_type": "code",
   "execution_count": 25,
   "metadata": {},
   "outputs": [],
   "source": [
    "section_data = doc._.section_data"
   ]
  },
  {
   "cell_type": "code",
   "execution_count": 26,
   "metadata": {},
   "outputs": [
    {
     "data": {
      "text/plain": [
       "odict_keys(['section_category', 'section_title_text', 'section_title_start_char', 'section_title_end_char', 'section_text', 'section_text_start_char', 'section_text_end_char', 'section_parent'])"
      ]
     },
     "execution_count": 26,
     "metadata": {},
     "output_type": "execute_result"
    }
   ],
   "source": [
    "section_data.keys()"
   ]
  },
  {
   "cell_type": "code",
   "execution_count": 27,
   "metadata": {},
   "outputs": [],
   "source": [
    "section_data_rows = doc._.get_data(\"section\", as_rows=True)"
   ]
  },
  {
   "cell_type": "code",
   "execution_count": 28,
   "metadata": {},
   "outputs": [
    {
     "data": {
      "text/plain": [
       "(None,\n",
       " None,\n",
       " 0,\n",
       " 0,\n",
       " 'Admission Date:  [**2573-5-30**]              Discharge Date:   [**2573-7-1**]\\n\\nDate of Birth:  [**2498-8-19**]             Sex:   F\\n\\n',\n",
       " 0,\n",
       " 134,\n",
       " None)"
      ]
     },
     "execution_count": 28,
     "metadata": {},
     "output_type": "execute_result"
    }
   ],
   "source": [
    "section_data_rows[0]"
   ]
  },
  {
   "cell_type": "code",
   "execution_count": 29,
   "metadata": {},
   "outputs": [],
   "source": [
    "section_df = doc._.to_dataframe(\"section\")"
   ]
  },
  {
   "cell_type": "code",
   "execution_count": 30,
   "metadata": {},
   "outputs": [
    {
     "data": {
      "text/html": [
       "<div>\n",
       "<style scoped>\n",
       "    .dataframe tbody tr th:only-of-type {\n",
       "        vertical-align: middle;\n",
       "    }\n",
       "\n",
       "    .dataframe tbody tr th {\n",
       "        vertical-align: top;\n",
       "    }\n",
       "\n",
       "    .dataframe thead th {\n",
       "        text-align: right;\n",
       "    }\n",
       "</style>\n",
       "<table border=\"1\" class=\"dataframe\">\n",
       "  <thead>\n",
       "    <tr style=\"text-align: right;\">\n",
       "      <th></th>\n",
       "      <th>section_category</th>\n",
       "      <th>section_title_text</th>\n",
       "      <th>section_title_start_char</th>\n",
       "      <th>section_title_end_char</th>\n",
       "      <th>section_text</th>\n",
       "      <th>section_text_start_char</th>\n",
       "      <th>section_text_end_char</th>\n",
       "      <th>section_parent</th>\n",
       "    </tr>\n",
       "  </thead>\n",
       "  <tbody>\n",
       "    <tr>\n",
       "      <th>0</th>\n",
       "      <td>None</td>\n",
       "      <td>None</td>\n",
       "      <td>0</td>\n",
       "      <td>0</td>\n",
       "      <td>Admission Date:  [**2573-5-30**]              ...</td>\n",
       "      <td>0</td>\n",
       "      <td>134</td>\n",
       "      <td>None</td>\n",
       "    </tr>\n",
       "    <tr>\n",
       "      <th>1</th>\n",
       "      <td>other</td>\n",
       "      <td>Service:</td>\n",
       "      <td>134</td>\n",
       "      <td>142</td>\n",
       "      <td>Service: SURGERY\\n\\n</td>\n",
       "      <td>134</td>\n",
       "      <td>152</td>\n",
       "      <td>None</td>\n",
       "    </tr>\n",
       "    <tr>\n",
       "      <th>2</th>\n",
       "      <td>allergies</td>\n",
       "      <td>Allergies:</td>\n",
       "      <td>152</td>\n",
       "      <td>162</td>\n",
       "      <td>Allergies:\\nHydrochlorothiazide\\n\\nAttending:[...</td>\n",
       "      <td>152</td>\n",
       "      <td>222</td>\n",
       "      <td>None</td>\n",
       "    </tr>\n",
       "    <tr>\n",
       "      <th>3</th>\n",
       "      <td>chief_complaint</td>\n",
       "      <td>Chief Complaint:</td>\n",
       "      <td>222</td>\n",
       "      <td>238</td>\n",
       "      <td>Chief Complaint:\\nAbdominal pain\\n\\nMajor Surg...</td>\n",
       "      <td>222</td>\n",
       "      <td>350</td>\n",
       "      <td>None</td>\n",
       "    </tr>\n",
       "    <tr>\n",
       "      <th>4</th>\n",
       "      <td>history_of_present_illness</td>\n",
       "      <td>History of Present Illness:</td>\n",
       "      <td>350</td>\n",
       "      <td>377</td>\n",
       "      <td>History of Present Illness:\\n74y female with t...</td>\n",
       "      <td>350</td>\n",
       "      <td>532</td>\n",
       "      <td>None</td>\n",
       "    </tr>\n",
       "  </tbody>\n",
       "</table>\n",
       "</div>"
      ],
      "text/plain": [
       "             section_category           section_title_text  \\\n",
       "0                        None                         None   \n",
       "1                       other                     Service:   \n",
       "2                   allergies                   Allergies:   \n",
       "3             chief_complaint             Chief Complaint:   \n",
       "4  history_of_present_illness  History of Present Illness:   \n",
       "\n",
       "   section_title_start_char  section_title_end_char  \\\n",
       "0                         0                       0   \n",
       "1                       134                     142   \n",
       "2                       152                     162   \n",
       "3                       222                     238   \n",
       "4                       350                     377   \n",
       "\n",
       "                                        section_text  section_text_start_char  \\\n",
       "0  Admission Date:  [**2573-5-30**]              ...                        0   \n",
       "1                               Service: SURGERY\\n\\n                      134   \n",
       "2  Allergies:\\nHydrochlorothiazide\\n\\nAttending:[...                      152   \n",
       "3  Chief Complaint:\\nAbdominal pain\\n\\nMajor Surg...                      222   \n",
       "4  History of Present Illness:\\n74y female with t...                      350   \n",
       "\n",
       "   section_text_end_char section_parent  \n",
       "0                    134           None  \n",
       "1                    152           None  \n",
       "2                    222           None  \n",
       "3                    350           None  \n",
       "4                    532           None  "
      ]
     },
     "execution_count": 30,
     "metadata": {},
     "output_type": "execute_result"
    }
   ],
   "source": [
    "section_df.head()"
   ]
  },
  {
   "cell_type": "markdown",
   "metadata": {},
   "source": [
    "## Doc"
   ]
  },
  {
   "cell_type": "code",
   "execution_count": 31,
   "metadata": {},
   "outputs": [],
   "source": [
    "doc_data = doc._.doc_data"
   ]
  },
  {
   "cell_type": "code",
   "execution_count": 32,
   "metadata": {},
   "outputs": [
    {
     "data": {
      "text/plain": [
       "odict_keys(['text'])"
      ]
     },
     "execution_count": 32,
     "metadata": {},
     "output_type": "execute_result"
    }
   ],
   "source": [
    "doc_data.keys()"
   ]
  },
  {
   "cell_type": "code",
   "execution_count": 33,
   "metadata": {},
   "outputs": [],
   "source": [
    "doc_df = doc._.to_dataframe(\"doc\")"
   ]
  },
  {
   "cell_type": "code",
   "execution_count": 34,
   "metadata": {},
   "outputs": [
    {
     "data": {
      "text/html": [
       "<div>\n",
       "<style scoped>\n",
       "    .dataframe tbody tr th:only-of-type {\n",
       "        vertical-align: middle;\n",
       "    }\n",
       "\n",
       "    .dataframe tbody tr th {\n",
       "        vertical-align: top;\n",
       "    }\n",
       "\n",
       "    .dataframe thead th {\n",
       "        text-align: right;\n",
       "    }\n",
       "</style>\n",
       "<table border=\"1\" class=\"dataframe\">\n",
       "  <thead>\n",
       "    <tr style=\"text-align: right;\">\n",
       "      <th></th>\n",
       "      <th>text</th>\n",
       "    </tr>\n",
       "  </thead>\n",
       "  <tbody>\n",
       "    <tr>\n",
       "      <th>0</th>\n",
       "      <td>Admission Date:  [**2573-5-30**]              ...</td>\n",
       "    </tr>\n",
       "  </tbody>\n",
       "</table>\n",
       "</div>"
      ],
      "text/plain": [
       "                                                text\n",
       "0  Admission Date:  [**2573-5-30**]              ..."
      ]
     },
     "execution_count": 34,
     "metadata": {},
     "output_type": "execute_result"
    }
   ],
   "source": [
    "doc_df"
   ]
  },
  {
   "cell_type": "markdown",
   "metadata": {},
   "source": [
    "## Customizing attributes"
   ]
  },
  {
   "cell_type": "code",
   "execution_count": 42,
   "metadata": {},
   "outputs": [
    {
     "name": "stderr",
     "output_type": "stream",
     "text": [
      "/Users/alecchapman/opt/anaconda3/envs/medspacy-37/lib/python3.7/site-packages/spacy/util.py:275: UserWarning: [W031] Model 'en_info_3700_i2b2_2012' (0.1.0) requires spaCy v2.2 and is incompatible with the current spaCy version (2.3.2). This may lead to unexpected results or runtime errors. To resolve this, download a newer compatible model or retrain your custom model with the current spaCy version. For more details and available updates, run: python -m spacy validate\n",
      "  warnings.warn(warn_msg)\n"
     ]
    }
   ],
   "source": [
    "nlp2 = medspacy.load(\"en_info_3700_i2b2_2012\", enable=enable)"
   ]
  },
  {
   "cell_type": "code",
   "execution_count": 43,
   "metadata": {},
   "outputs": [],
   "source": [
    "doc_consumer2 = DocConsumer(nlp2, dtypes=(\"ent\",), \n",
    "                            dtype_attrs={\n",
    "                                \"ent\": [\n",
    "                                    \"lower_\",\n",
    "                                    \"label_\",\n",
    "                                    \"is_negated\",\n",
    "                                    \"section_category\",\n",
    "                                    \n",
    "                                ]\n",
    "                                \n",
    "                            }\n",
    ")"
   ]
  },
  {
   "cell_type": "code",
   "execution_count": 44,
   "metadata": {},
   "outputs": [],
   "source": [
    "nlp2.add_pipe(doc_consumer2)"
   ]
  },
  {
   "cell_type": "code",
   "execution_count": 72,
   "metadata": {},
   "outputs": [],
   "source": [
    "doc2 = nlp2(text)"
   ]
  },
  {
   "cell_type": "code",
   "execution_count": 73,
   "metadata": {},
   "outputs": [
    {
     "data": {
      "text/html": [
       "<div>\n",
       "<style scoped>\n",
       "    .dataframe tbody tr th:only-of-type {\n",
       "        vertical-align: middle;\n",
       "    }\n",
       "\n",
       "    .dataframe tbody tr th {\n",
       "        vertical-align: top;\n",
       "    }\n",
       "\n",
       "    .dataframe thead th {\n",
       "        text-align: right;\n",
       "    }\n",
       "</style>\n",
       "<table border=\"1\" class=\"dataframe\">\n",
       "  <thead>\n",
       "    <tr style=\"text-align: right;\">\n",
       "      <th></th>\n",
       "      <th>lower_</th>\n",
       "      <th>label_</th>\n",
       "      <th>is_negated</th>\n",
       "      <th>section_category</th>\n",
       "    </tr>\n",
       "  </thead>\n",
       "  <tbody>\n",
       "    <tr>\n",
       "      <th>0</th>\n",
       "      <td>hydrochlorothiazide</td>\n",
       "      <td>TREATMENT</td>\n",
       "      <td>False</td>\n",
       "      <td>allergies</td>\n",
       "    </tr>\n",
       "    <tr>\n",
       "      <th>1</th>\n",
       "      <td>abdominal pain</td>\n",
       "      <td>PROBLEM</td>\n",
       "      <td>False</td>\n",
       "      <td>chief_complaint</td>\n",
       "    </tr>\n",
       "    <tr>\n",
       "      <th>2</th>\n",
       "      <td>invasive procedure</td>\n",
       "      <td>TREATMENT</td>\n",
       "      <td>False</td>\n",
       "      <td>chief_complaint</td>\n",
       "    </tr>\n",
       "    <tr>\n",
       "      <th>3</th>\n",
       "      <td>picc line</td>\n",
       "      <td>TREATMENT</td>\n",
       "      <td>False</td>\n",
       "      <td>chief_complaint</td>\n",
       "    </tr>\n",
       "    <tr>\n",
       "      <th>4</th>\n",
       "      <td>ercp</td>\n",
       "      <td>TEST</td>\n",
       "      <td>False</td>\n",
       "      <td>chief_complaint</td>\n",
       "    </tr>\n",
       "    <tr>\n",
       "      <th>5</th>\n",
       "      <td>sphincterotomy</td>\n",
       "      <td>TREATMENT</td>\n",
       "      <td>False</td>\n",
       "      <td>chief_complaint</td>\n",
       "    </tr>\n",
       "    <tr>\n",
       "      <th>6</th>\n",
       "      <td>a recent stroke</td>\n",
       "      <td>PROBLEM</td>\n",
       "      <td>False</td>\n",
       "      <td>history_of_present_illness</td>\n",
       "    </tr>\n",
       "    <tr>\n",
       "      <th>7</th>\n",
       "      <td>abdominal pain</td>\n",
       "      <td>PROBLEM</td>\n",
       "      <td>False</td>\n",
       "      <td>history_of_present_illness</td>\n",
       "    </tr>\n",
       "    <tr>\n",
       "      <th>8</th>\n",
       "      <td>imaging</td>\n",
       "      <td>TEST</td>\n",
       "      <td>False</td>\n",
       "      <td>history_of_present_illness</td>\n",
       "    </tr>\n",
       "    <tr>\n",
       "      <th>9</th>\n",
       "      <td>metastasis</td>\n",
       "      <td>PROBLEM</td>\n",
       "      <td>True</td>\n",
       "      <td>history_of_present_illness</td>\n",
       "    </tr>\n",
       "    <tr>\n",
       "      <th>10</th>\n",
       "      <td>colon cancer</td>\n",
       "      <td>PROBLEM</td>\n",
       "      <td>False</td>\n",
       "      <td>past_medical_history</td>\n",
       "    </tr>\n",
       "    <tr>\n",
       "      <th>11</th>\n",
       "      <td>hemicolectomy</td>\n",
       "      <td>TREATMENT</td>\n",
       "      <td>False</td>\n",
       "      <td>past_medical_history</td>\n",
       "    </tr>\n",
       "    <tr>\n",
       "      <th>12</th>\n",
       "      <td>xrt</td>\n",
       "      <td>TREATMENT</td>\n",
       "      <td>False</td>\n",
       "      <td>past_medical_history</td>\n",
       "    </tr>\n",
       "    <tr>\n",
       "      <th>13</th>\n",
       "      <td>chemo</td>\n",
       "      <td>TREATMENT</td>\n",
       "      <td>False</td>\n",
       "      <td>past_medical_history</td>\n",
       "    </tr>\n",
       "    <tr>\n",
       "      <th>14</th>\n",
       "      <td>colonoscopy</td>\n",
       "      <td>TEST</td>\n",
       "      <td>False</td>\n",
       "      <td>past_medical_history</td>\n",
       "    </tr>\n",
       "    <tr>\n",
       "      <th>15</th>\n",
       "      <td>cea</td>\n",
       "      <td>TEST</td>\n",
       "      <td>False</td>\n",
       "      <td>past_medical_history</td>\n",
       "    </tr>\n",
       "    <tr>\n",
       "      <th>16</th>\n",
       "      <td>hypertension</td>\n",
       "      <td>PROBLEM</td>\n",
       "      <td>False</td>\n",
       "      <td>past_medical_history</td>\n",
       "    </tr>\n",
       "    <tr>\n",
       "      <th>17</th>\n",
       "      <td>married</td>\n",
       "      <td>TREATMENT</td>\n",
       "      <td>False</td>\n",
       "      <td>social_history</td>\n",
       "    </tr>\n",
       "    <tr>\n",
       "      <th>18</th>\n",
       "      <td>former tobacco use</td>\n",
       "      <td>PROBLEM</td>\n",
       "      <td>False</td>\n",
       "      <td>social_history</td>\n",
       "    </tr>\n",
       "    <tr>\n",
       "      <th>19</th>\n",
       "      <td>alcohol or drug use</td>\n",
       "      <td>PROBLEM</td>\n",
       "      <td>True</td>\n",
       "      <td>social_history</td>\n",
       "    </tr>\n",
       "    <tr>\n",
       "      <th>20</th>\n",
       "      <td>stroke</td>\n",
       "      <td>PROBLEM</td>\n",
       "      <td>False</td>\n",
       "      <td>family_history</td>\n",
       "    </tr>\n",
       "    <tr>\n",
       "      <th>21</th>\n",
       "      <td>ultrasound</td>\n",
       "      <td>TEST</td>\n",
       "      <td>False</td>\n",
       "      <td>hospital_course</td>\n",
       "    </tr>\n",
       "    <tr>\n",
       "      <th>22</th>\n",
       "      <td>pancreatic duct dilitation</td>\n",
       "      <td>PROBLEM</td>\n",
       "      <td>False</td>\n",
       "      <td>hospital_course</td>\n",
       "    </tr>\n",
       "    <tr>\n",
       "      <th>23</th>\n",
       "      <td>miconazole</td>\n",
       "      <td>TREATMENT</td>\n",
       "      <td>False</td>\n",
       "      <td>medications</td>\n",
       "    </tr>\n",
       "    <tr>\n",
       "      <th>24</th>\n",
       "      <td>heparin sodium</td>\n",
       "      <td>TREATMENT</td>\n",
       "      <td>False</td>\n",
       "      <td>medications</td>\n",
       "    </tr>\n",
       "    <tr>\n",
       "      <th>25</th>\n",
       "      <td>porcine</td>\n",
       "      <td>TREATMENT</td>\n",
       "      <td>False</td>\n",
       "      <td>medications</td>\n",
       "    </tr>\n",
       "    <tr>\n",
       "      <th>26</th>\n",
       "      <td>injection</td>\n",
       "      <td>TREATMENT</td>\n",
       "      <td>False</td>\n",
       "      <td>medications</td>\n",
       "    </tr>\n",
       "    <tr>\n",
       "      <th>27</th>\n",
       "      <td>type 2 dm</td>\n",
       "      <td>PROBLEM</td>\n",
       "      <td>False</td>\n",
       "      <td>observation_and_plan</td>\n",
       "    </tr>\n",
       "    <tr>\n",
       "      <th>28</th>\n",
       "      <td>pancreatitis</td>\n",
       "      <td>PROBLEM</td>\n",
       "      <td>False</td>\n",
       "      <td>observation_and_plan</td>\n",
       "    </tr>\n",
       "    <tr>\n",
       "      <th>29</th>\n",
       "      <td>htn</td>\n",
       "      <td>PROBLEM</td>\n",
       "      <td>False</td>\n",
       "      <td>observation_and_plan</td>\n",
       "    </tr>\n",
       "    <tr>\n",
       "      <th>30</th>\n",
       "      <td>aspiration respiratory distress</td>\n",
       "      <td>PROBLEM</td>\n",
       "      <td>False</td>\n",
       "      <td>observation_and_plan</td>\n",
       "    </tr>\n",
       "    <tr>\n",
       "      <th>31</th>\n",
       "      <td>fever</td>\n",
       "      <td>PROBLEM</td>\n",
       "      <td>False</td>\n",
       "      <td>patient_instructions</td>\n",
       "    </tr>\n",
       "    <tr>\n",
       "      <th>32</th>\n",
       "      <td>nausea</td>\n",
       "      <td>PROBLEM</td>\n",
       "      <td>False</td>\n",
       "      <td>patient_instructions</td>\n",
       "    </tr>\n",
       "    <tr>\n",
       "      <th>33</th>\n",
       "      <td>vomiting</td>\n",
       "      <td>PROBLEM</td>\n",
       "      <td>False</td>\n",
       "      <td>patient_instructions</td>\n",
       "    </tr>\n",
       "    <tr>\n",
       "      <th>34</th>\n",
       "      <td>abdominal pain</td>\n",
       "      <td>PROBLEM</td>\n",
       "      <td>False</td>\n",
       "      <td>patient_instructions</td>\n",
       "    </tr>\n",
       "    <tr>\n",
       "      <th>35</th>\n",
       "      <td>shortness of breath</td>\n",
       "      <td>PROBLEM</td>\n",
       "      <td>False</td>\n",
       "      <td>patient_instructions</td>\n",
       "    </tr>\n",
       "    <tr>\n",
       "      <th>36</th>\n",
       "      <td>abdominal pain</td>\n",
       "      <td>PROBLEM</td>\n",
       "      <td>False</td>\n",
       "      <td>patient_instructions</td>\n",
       "    </tr>\n",
       "    <tr>\n",
       "      <th>37</th>\n",
       "      <td>namepattern1</td>\n",
       "      <td>TREATMENT</td>\n",
       "      <td>False</td>\n",
       "      <td>signature</td>\n",
       "    </tr>\n",
       "  </tbody>\n",
       "</table>\n",
       "</div>"
      ],
      "text/plain": [
       "                             lower_     label_  is_negated  \\\n",
       "0               hydrochlorothiazide  TREATMENT       False   \n",
       "1                    abdominal pain    PROBLEM       False   \n",
       "2                invasive procedure  TREATMENT       False   \n",
       "3                         picc line  TREATMENT       False   \n",
       "4                              ercp       TEST       False   \n",
       "5                    sphincterotomy  TREATMENT       False   \n",
       "6                   a recent stroke    PROBLEM       False   \n",
       "7                    abdominal pain    PROBLEM       False   \n",
       "8                           imaging       TEST       False   \n",
       "9                        metastasis    PROBLEM        True   \n",
       "10                     colon cancer    PROBLEM       False   \n",
       "11                    hemicolectomy  TREATMENT       False   \n",
       "12                              xrt  TREATMENT       False   \n",
       "13                            chemo  TREATMENT       False   \n",
       "14                      colonoscopy       TEST       False   \n",
       "15                              cea       TEST       False   \n",
       "16                     hypertension    PROBLEM       False   \n",
       "17                          married  TREATMENT       False   \n",
       "18               former tobacco use    PROBLEM       False   \n",
       "19              alcohol or drug use    PROBLEM        True   \n",
       "20                           stroke    PROBLEM       False   \n",
       "21                       ultrasound       TEST       False   \n",
       "22       pancreatic duct dilitation    PROBLEM       False   \n",
       "23                       miconazole  TREATMENT       False   \n",
       "24                   heparin sodium  TREATMENT       False   \n",
       "25                          porcine  TREATMENT       False   \n",
       "26                        injection  TREATMENT       False   \n",
       "27                        type 2 dm    PROBLEM       False   \n",
       "28                     pancreatitis    PROBLEM       False   \n",
       "29                              htn    PROBLEM       False   \n",
       "30  aspiration respiratory distress    PROBLEM       False   \n",
       "31                            fever    PROBLEM       False   \n",
       "32                           nausea    PROBLEM       False   \n",
       "33                         vomiting    PROBLEM       False   \n",
       "34                   abdominal pain    PROBLEM       False   \n",
       "35              shortness of breath    PROBLEM       False   \n",
       "36                   abdominal pain    PROBLEM       False   \n",
       "37                     namepattern1  TREATMENT       False   \n",
       "\n",
       "              section_category  \n",
       "0                    allergies  \n",
       "1              chief_complaint  \n",
       "2              chief_complaint  \n",
       "3              chief_complaint  \n",
       "4              chief_complaint  \n",
       "5              chief_complaint  \n",
       "6   history_of_present_illness  \n",
       "7   history_of_present_illness  \n",
       "8   history_of_present_illness  \n",
       "9   history_of_present_illness  \n",
       "10        past_medical_history  \n",
       "11        past_medical_history  \n",
       "12        past_medical_history  \n",
       "13        past_medical_history  \n",
       "14        past_medical_history  \n",
       "15        past_medical_history  \n",
       "16        past_medical_history  \n",
       "17              social_history  \n",
       "18              social_history  \n",
       "19              social_history  \n",
       "20              family_history  \n",
       "21             hospital_course  \n",
       "22             hospital_course  \n",
       "23                 medications  \n",
       "24                 medications  \n",
       "25                 medications  \n",
       "26                 medications  \n",
       "27        observation_and_plan  \n",
       "28        observation_and_plan  \n",
       "29        observation_and_plan  \n",
       "30        observation_and_plan  \n",
       "31        patient_instructions  \n",
       "32        patient_instructions  \n",
       "33        patient_instructions  \n",
       "34        patient_instructions  \n",
       "35        patient_instructions  \n",
       "36        patient_instructions  \n",
       "37                   signature  "
      ]
     },
     "execution_count": 73,
     "metadata": {},
     "output_type": "execute_result"
    }
   ],
   "source": [
    "doc2._.to_dataframe(\"ent\")"
   ]
  },
  {
   "cell_type": "code",
   "execution_count": null,
   "metadata": {},
   "outputs": [],
   "source": []
  },
  {
   "cell_type": "markdown",
   "metadata": {},
   "source": [
    "# Writer and Reader"
   ]
  },
  {
   "cell_type": "code",
   "execution_count": 57,
   "metadata": {},
   "outputs": [],
   "source": [
    "from medspacy.io.db import DbWriter, DbReader, DbConnect"
   ]
  },
  {
   "cell_type": "code",
   "execution_count": 51,
   "metadata": {},
   "outputs": [
    {
     "name": "stderr",
     "output_type": "stream",
     "text": [
      "/Users/alecchapman/opt/anaconda3/envs/medspacy-37/lib/python3.7/tempfile.py:798: ResourceWarning: Implicitly cleaning up <TemporaryDirectory '/var/folders/sh/sk9tgnm50_sfyn9wlc1n5d_r0000gn/T/tmptxm2vb_s'>\n",
      "  _warnings.warn(warn_message, ResourceWarning)\n"
     ]
    }
   ],
   "source": [
    "import tempfile, os\n",
    "tmpdirname = tempfile.TemporaryDirectory()\n",
    "db = os.path.join(tmpdirname.name, \"test.db\")"
   ]
  },
  {
   "cell_type": "markdown",
   "metadata": {},
   "source": [
    "## DbConn"
   ]
  },
  {
   "cell_type": "code",
   "execution_count": 52,
   "metadata": {},
   "outputs": [],
   "source": [
    "import sqlite3"
   ]
  },
  {
   "cell_type": "code",
   "execution_count": 53,
   "metadata": {},
   "outputs": [],
   "source": [
    "sq3_conn = sqlite3.connect(db)"
   ]
  },
  {
   "cell_type": "code",
   "execution_count": 59,
   "metadata": {},
   "outputs": [
    {
     "name": "stdout",
     "output_type": "stream",
     "text": [
      "Opened connection to None.None\n"
     ]
    }
   ],
   "source": [
    "conn = DbConnect(conn=sq3_conn)"
   ]
  },
  {
   "cell_type": "markdown",
   "metadata": {},
   "source": [
    "## DbWriter"
   ]
  },
  {
   "cell_type": "code",
   "execution_count": 67,
   "metadata": {},
   "outputs": [],
   "source": [
    "# TODO: Provide this as a default\n",
    "col_types = [\n",
    "    \"varchar(1000)\",\n",
    "    \"int\",\n",
    "    \"int\",\n",
    "    \"varchar(100)\",\n",
    "    \"int\",\n",
    "    \"int\",\n",
    "    \"int\",\n",
    "    \"int\",\n",
    "    \"int\",\n",
    "    \"varchar(100)\",\n",
    "    \"varchar(100)\"\n",
    "]"
   ]
  },
  {
   "cell_type": "code",
   "execution_count": 77,
   "metadata": {},
   "outputs": [
    {
     "data": {
      "text/plain": [
       "['text',\n",
       " 'start_char',\n",
       " 'end_char',\n",
       " 'label_',\n",
       " 'is_negated',\n",
       " 'is_uncertain',\n",
       " 'is_historical',\n",
       " 'is_hypothetical',\n",
       " 'is_family',\n",
       " 'section_category',\n",
       " 'section_parent']"
      ]
     },
     "execution_count": 77,
     "metadata": {},
     "output_type": "execute_result"
    }
   ],
   "source": [
    "doc_consumer.dtype_attrs[\"ent\"]"
   ]
  },
  {
   "cell_type": "code",
   "execution_count": 68,
   "metadata": {},
   "outputs": [
    {
     "name": "stdout",
     "output_type": "stream",
     "text": [
      "text varchar(1000)\n",
      "start_char int\n",
      "end_char int\n",
      "label_ varchar(100)\n",
      "is_negated int\n",
      "is_uncertain int\n",
      "is_historical int\n",
      "is_hypothetical int\n",
      "is_family int\n",
      "section_category varchar(100)\n",
      "section_parent varchar(100)\n"
     ]
    }
   ],
   "source": [
    "for (name, typ) in zip(doc_consumer.dtype_attrs[\"ent\"], col_types):\n",
    "    print(name, typ)"
   ]
  },
  {
   "cell_type": "code",
   "execution_count": 69,
   "metadata": {},
   "outputs": [
    {
     "name": "stdout",
     "output_type": "stream",
     "text": [
      "Created table ents with query: CREATE TABLE ents (text varchar(1000), start_char int, end_char int, label_ varchar(100), is_negated int, is_uncertain int, is_historical int, is_hypothetical int, is_family int, section_category varchar(100), section_parent varchar(100))\n"
     ]
    }
   ],
   "source": [
    "writer = DbWriter(conn, \"ents\", cols=doc_consumer.dtype_attrs[\"ent\"], col_types=col_types,\n",
    "                 create_table=True)"
   ]
  },
  {
   "cell_type": "code",
   "execution_count": 76,
   "metadata": {},
   "outputs": [
    {
     "name": "stdout",
     "output_type": "stream",
     "text": [
      "Wrote 38 rows with query: INSERT INTO ents (text, start_char, end_char, label_, is_negated, is_uncertain, is_historical, is_hypothetical, is_family, section_category, section_parent) VALUES (?, ?, ?, ?, ?, ?, ?, ?, ?, ?, ?)\n"
     ]
    }
   ],
   "source": [
    "writer.write(doc._.to_dataframe(\"ent\"))"
   ]
  },
  {
   "cell_type": "code",
   "execution_count": null,
   "metadata": {},
   "outputs": [],
   "source": []
  },
  {
   "cell_type": "markdown",
   "metadata": {},
   "source": [
    "## DbReader\n",
    "This is probably supposed to read documents, not results, but just doing this to demonostrate this works"
   ]
  },
  {
   "cell_type": "code",
   "execution_count": 99,
   "metadata": {},
   "outputs": [],
   "source": [
    "read_query = \"\"\"\n",
    "SELECT *\n",
    "FROM ents\n",
    "\"\"\""
   ]
  },
  {
   "cell_type": "code",
   "execution_count": 100,
   "metadata": {},
   "outputs": [],
   "source": [
    "reader = DbReader(conn, read_query)"
   ]
  },
  {
   "cell_type": "code",
   "execution_count": 101,
   "metadata": {},
   "outputs": [
    {
     "name": "stdout",
     "output_type": "stream",
     "text": [
      "Read 38 rows with query: \n",
      "SELECT *\n",
      "FROM ents\n",
      "\n"
     ]
    }
   ],
   "source": [
    "rslts = reader.read()"
   ]
  },
  {
   "cell_type": "code",
   "execution_count": 102,
   "metadata": {},
   "outputs": [
    {
     "data": {
      "text/plain": [
       "('Hydrochlorothiazide',\n",
       " 163,\n",
       " 182,\n",
       " 'TREATMENT',\n",
       " 0,\n",
       " 0,\n",
       " 0,\n",
       " 0,\n",
       " 0,\n",
       " 'allergies',\n",
       " None)"
      ]
     },
     "execution_count": 102,
     "metadata": {},
     "output_type": "execute_result"
    }
   ],
   "source": [
    "rslts[0]"
   ]
  },
  {
   "cell_type": "markdown",
   "metadata": {},
   "source": [
    "## Pipeline\n",
    "Need to refactor"
   ]
  },
  {
   "cell_type": "code",
   "execution_count": null,
   "metadata": {},
   "outputs": [],
   "source": []
  }
 ],
 "metadata": {
  "kernelspec": {
   "display_name": "Python 3",
   "language": "python",
   "name": "python3"
  },
  "language_info": {
   "codemirror_mode": {
    "name": "ipython",
    "version": 3
   },
   "file_extension": ".py",
   "mimetype": "text/x-python",
   "name": "python",
   "nbconvert_exporter": "python",
   "pygments_lexer": "ipython3",
   "version": "3.7.9"
  }
 },
 "nbformat": 4,
 "nbformat_minor": 4
}
