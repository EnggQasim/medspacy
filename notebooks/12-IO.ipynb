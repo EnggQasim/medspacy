{
 "cells": [
  {
   "cell_type": "markdown",
   "metadata": {},
   "source": [
    "# Input/Outpt (IO)\n",
    "Once you've processed a text or corpus with medspaCy, a next step is often to save and analyze the information you've extracted. `medpsacy.io` contains utilities for reading documents, converting processed docs into structured data, and writing your results to disk or to a database."
   ]
  },
  {
   "cell_type": "code",
   "execution_count": null,
   "metadata": {
    "scrolled": true
   },
   "outputs": [],
   "source": [
    "%load_ext autoreload\n",
    "%autoreload 2"
   ]
  },
  {
   "cell_type": "code",
   "execution_count": 2,
   "metadata": {},
   "outputs": [],
   "source": [
    "import warnings\n",
    "warnings.filterwarnings(\"ignore\")"
   ]
  },
  {
   "cell_type": "code",
   "execution_count": 3,
   "metadata": {
    "scrolled": true
   },
   "outputs": [],
   "source": [
    "import sys\n",
    "sys.path.insert(0, \"..\")"
   ]
  },
  {
   "cell_type": "code",
   "execution_count": 4,
   "metadata": {
    "scrolled": true
   },
   "outputs": [],
   "source": [
    "import medspacy"
   ]
  },
  {
   "cell_type": "code",
   "execution_count": 5,
   "metadata": {},
   "outputs": [],
   "source": [
    "import sqlite3"
   ]
  },
  {
   "cell_type": "code",
   "execution_count": 6,
   "metadata": {},
   "outputs": [],
   "source": [
    "# If you haven't already, install this pre-trained i2b2 2012 model\n",
    "# !pip install https://github.com/abchapman93/spacy_models/raw/master/releases/en_info_3700_i2b2_2012-0.1.0/dist/en_info_3700_i2b2_2012-0.1.0.tar.gz"
   ]
  },
  {
   "cell_type": "code",
   "execution_count": 7,
   "metadata": {
    "scrolled": true
   },
   "outputs": [],
   "source": [
    "enable = ['sentencizer',\n",
    " 'tagger',\n",
    " 'parser',\n",
    " 'ner',\n",
    " 'target_matcher',\n",
    " 'context',\n",
    " 'sectionizer']\n",
    "nlp = medspacy.load(\"en_info_3700_i2b2_2012\", enable=enable)"
   ]
  },
  {
   "cell_type": "code",
   "execution_count": 8,
   "metadata": {},
   "outputs": [
    {
     "data": {
      "text/plain": [
       "['sentencizer',\n",
       " 'tagger',\n",
       " 'parser',\n",
       " 'ner',\n",
       " 'target_matcher',\n",
       " 'context',\n",
       " 'sectionizer']"
      ]
     },
     "execution_count": 8,
     "metadata": {},
     "output_type": "execute_result"
    }
   ],
   "source": [
    "nlp.pipe_names"
   ]
  },
  {
   "cell_type": "code",
   "execution_count": null,
   "metadata": {},
   "outputs": [],
   "source": []
  },
  {
   "cell_type": "markdown",
   "metadata": {},
   "source": [
    "As an example, we'll use a very simple sqlite database containing two sample documents."
   ]
  },
  {
   "cell_type": "code",
   "execution_count": 9,
   "metadata": {},
   "outputs": [],
   "source": [
    "import sqlite3 as sqlite"
   ]
  },
  {
   "cell_type": "code",
   "execution_count": 10,
   "metadata": {},
   "outputs": [],
   "source": [
    "from helpers import create_medspacy_demo_db"
   ]
  },
  {
   "cell_type": "code",
   "execution_count": 11,
   "metadata": {},
   "outputs": [
    {
     "name": "stdout",
     "output_type": "stream",
     "text": [
      "File medspacy_demo.db already exists\n"
     ]
    }
   ],
   "source": [
    "create_medspacy_demo_db()"
   ]
  },
  {
   "cell_type": "code",
   "execution_count": 12,
   "metadata": {},
   "outputs": [],
   "source": [
    "conn = sqlite.connect(\"medspacy_demo.db\")"
   ]
  },
  {
   "cell_type": "code",
   "execution_count": 13,
   "metadata": {},
   "outputs": [],
   "source": [
    "cursor = conn.cursor()"
   ]
  },
  {
   "cell_type": "code",
   "execution_count": 14,
   "metadata": {},
   "outputs": [
    {
     "data": {
      "text/plain": [
       "<sqlite3.Cursor at 0x11daaf5e0>"
      ]
     },
     "execution_count": 14,
     "metadata": {},
     "output_type": "execute_result"
    }
   ],
   "source": [
    "cursor.execute(\"SELECT text FROM texts;\")"
   ]
  },
  {
   "cell_type": "code",
   "execution_count": 15,
   "metadata": {},
   "outputs": [],
   "source": [
    "text = cursor.fetchone()[0]"
   ]
  },
  {
   "cell_type": "code",
   "execution_count": 16,
   "metadata": {},
   "outputs": [
    {
     "name": "stdout",
     "output_type": "stream",
     "text": [
      "Admission Date:  [**2573-5-30**]              Discharge Date:   [**2573-7-1**]\n",
      "\n",
      "Date of Birth:  [**2498-8-19**]             Sex:   F\n",
      "\n",
      "Service: SURGERY\n",
      "\n",
      "Allergies:\n",
      "Hydrochlorothiazide\n",
      "\n",
      "Attending:[**First Name3 (LF) 1893**]\n",
      "Chief Complaint:\n",
      "Abdominal pain\n",
      "\n",
      "Major Surgical or Invasive Procedure:\n",
      "PICC line [**6-25**]\n",
      "ERCP w/ sphincterotomy [**5-31**]\n",
      "\n",
      "\n",
      "History of Present Illness:\n",
      "74y female with type 2 dm and a recent stroke affecting her\n",
      "speech, who presents with 2 days of abdominal pain. Imaging sh\n"
     ]
    }
   ],
   "source": [
    "print(text[:500])"
   ]
  },
  {
   "cell_type": "code",
   "execution_count": 17,
   "metadata": {},
   "outputs": [],
   "source": [
    "conn.close()"
   ]
  },
  {
   "cell_type": "code",
   "execution_count": 18,
   "metadata": {},
   "outputs": [],
   "source": [
    "doc = nlp(text)"
   ]
  },
  {
   "cell_type": "markdown",
   "metadata": {},
   "source": [
    "# I. DocConsumer\n",
    "The `DocConsumer` class takes the attributes extracted by medspaCy and converts them into structured data. There are four different data types that the `DocConsumer` will extract:\n",
    "- **\"ent\"**: Extract information about the spans in `doc.ents`. Each row will represent a single entity and can include either native spaCy attributes (ie., `ent.label_`) or custom attrributes (ie., `ent._.is_negated`)\n",
    "- **\"section\"**: Each row will represent a section of the document and includes attributes such as the section text and category\n",
    "- **\"context\"**: This represents the entity-modifier pairs extracted by ConText\n",
    "- **\"doc\"**: A single row for the entire doc. By default this will only include `doc.text`, but you can add other underscore attributes\n",
    "\n",
    "Let's create a `DocConsumer` with all four of these data types. We'll use the default attributes for now but will show how to customize them later."
   ]
  },
  {
   "cell_type": "code",
   "execution_count": 19,
   "metadata": {
    "scrolled": true
   },
   "outputs": [],
   "source": [
    "from medspacy.io import DocConsumer"
   ]
  },
  {
   "cell_type": "code",
   "execution_count": 20,
   "metadata": {
    "scrolled": true
   },
   "outputs": [],
   "source": [
    "doc_consumer = DocConsumer(nlp, dtypes=(\"ent\", \"context\", \"section\", \"doc\"))"
   ]
  },
  {
   "cell_type": "markdown",
   "metadata": {},
   "source": [
    "`dtype_attrs` maps the data types to the corresponding attributes/columns"
   ]
  },
  {
   "cell_type": "code",
   "execution_count": 21,
   "metadata": {},
   "outputs": [
    {
     "data": {
      "text/plain": [
       "{'ent': ['text',\n",
       "  'start_char',\n",
       "  'end_char',\n",
       "  'label_',\n",
       "  'is_negated',\n",
       "  'is_uncertain',\n",
       "  'is_historical',\n",
       "  'is_hypothetical',\n",
       "  'is_family',\n",
       "  'section_category',\n",
       "  'section_parent'],\n",
       " 'context': ['ent_text',\n",
       "  'ent_label_',\n",
       "  'ent_start_char',\n",
       "  'ent_end_char',\n",
       "  'modifier_text',\n",
       "  'modifier_category',\n",
       "  'modifier_direction',\n",
       "  'modifier_start_char',\n",
       "  'modifier_end_char',\n",
       "  'modifier_scope_start_char',\n",
       "  'modifier_scope_end_char'],\n",
       " 'section': ['section_category',\n",
       "  'section_title_text',\n",
       "  'section_title_start_char',\n",
       "  'section_title_end_char',\n",
       "  'section_title_text',\n",
       "  'section_title_start_char',\n",
       "  'section_title_end_char',\n",
       "  'section_text',\n",
       "  'section_text_start_char',\n",
       "  'section_text_end_char',\n",
       "  'section_parent'],\n",
       " 'doc': ['text']}"
      ]
     },
     "execution_count": 21,
     "metadata": {},
     "output_type": "execute_result"
    }
   ],
   "source": [
    "doc_consumer.dtype_attrs"
   ]
  },
  {
   "cell_type": "markdown",
   "metadata": {},
   "source": [
    "Now when we process our doc, we can get the relevant information from the `doc._.data` attribute. This is a nested dictionary where the outermost keys are the data types, and for each data type is an ordered dictionary mapping an attribute to the column of values for each ent."
   ]
  },
  {
   "cell_type": "code",
   "execution_count": 22,
   "metadata": {},
   "outputs": [],
   "source": [
    "doc = doc_consumer(doc)"
   ]
  },
  {
   "cell_type": "code",
   "execution_count": 23,
   "metadata": {
    "scrolled": true
   },
   "outputs": [
    {
     "data": {
      "text/plain": [
       "{'ent': OrderedDict([('text',\n",
       "               ['Hydrochlorothiazide',\n",
       "                'Abdominal pain',\n",
       "                'Invasive Procedure',\n",
       "                'PICC line',\n",
       "                'ERCP',\n",
       "                'sphincterotomy',\n",
       "                'a recent stroke',\n",
       "                'abdominal pain',\n",
       "                'Imaging',\n",
       "                'metastasis',\n",
       "                'Colon cancer',\n",
       "                'hemicolectomy',\n",
       "                'XRT',\n",
       "                'chemo',\n",
       "                'colonoscopy',\n",
       "                'CEA',\n",
       "                'Hypertension',\n",
       "                'Married',\n",
       "                'former tobacco use',\n",
       "                'alcohol or drug use',\n",
       "                'stroke',\n",
       "                'Ultrasound',\n",
       "                'pancreatic duct dilitation',\n",
       "                'Miconazole',\n",
       "                'Heparin Sodium',\n",
       "                'Porcine',\n",
       "                'Injection',\n",
       "                'Type 2 DM',\n",
       "                'Pancreatitis',\n",
       "                'HTN',\n",
       "                'aspiration respiratory distress',\n",
       "                'fever',\n",
       "                'nausea',\n",
       "                'vomiting',\n",
       "                'abdominal pain',\n",
       "                'shortness of breath',\n",
       "                'abdominal pain',\n",
       "                'NamePattern1']),\n",
       "              ('start_char',\n",
       "               [163,\n",
       "                239,\n",
       "                273,\n",
       "                293,\n",
       "                314,\n",
       "                322,\n",
       "                408,\n",
       "                474,\n",
       "                490,\n",
       "                519,\n",
       "                557,\n",
       "                600,\n",
       "                615,\n",
       "                620,\n",
       "                632,\n",
       "                657,\n",
       "                726,\n",
       "                756,\n",
       "                765,\n",
       "                788,\n",
       "                838,\n",
       "                990,\n",
       "                1039,\n",
       "                1151,\n",
       "                1242,\n",
       "                1258,\n",
       "                1303,\n",
       "                1447,\n",
       "                1457,\n",
       "                1470,\n",
       "                1478,\n",
       "                1652,\n",
       "                1666,\n",
       "                1674,\n",
       "                1684,\n",
       "                1700,\n",
       "                1721,\n",
       "                2007]),\n",
       "              ('end_char',\n",
       "               [182,\n",
       "                253,\n",
       "                291,\n",
       "                302,\n",
       "                318,\n",
       "                336,\n",
       "                423,\n",
       "                488,\n",
       "                497,\n",
       "                529,\n",
       "                569,\n",
       "                613,\n",
       "                618,\n",
       "                625,\n",
       "                643,\n",
       "                660,\n",
       "                738,\n",
       "                763,\n",
       "                783,\n",
       "                807,\n",
       "                844,\n",
       "                1000,\n",
       "                1065,\n",
       "                1161,\n",
       "                1256,\n",
       "                1265,\n",
       "                1312,\n",
       "                1456,\n",
       "                1469,\n",
       "                1473,\n",
       "                1509,\n",
       "                1657,\n",
       "                1672,\n",
       "                1682,\n",
       "                1698,\n",
       "                1719,\n",
       "                1735,\n",
       "                2019]),\n",
       "              ('label_',\n",
       "               ['TREATMENT',\n",
       "                'PROBLEM',\n",
       "                'TREATMENT',\n",
       "                'TREATMENT',\n",
       "                'TEST',\n",
       "                'TREATMENT',\n",
       "                'PROBLEM',\n",
       "                'PROBLEM',\n",
       "                'TEST',\n",
       "                'PROBLEM',\n",
       "                'PROBLEM',\n",
       "                'TREATMENT',\n",
       "                'TREATMENT',\n",
       "                'TREATMENT',\n",
       "                'TEST',\n",
       "                'TEST',\n",
       "                'PROBLEM',\n",
       "                'TREATMENT',\n",
       "                'PROBLEM',\n",
       "                'PROBLEM',\n",
       "                'PROBLEM',\n",
       "                'TEST',\n",
       "                'PROBLEM',\n",
       "                'TREATMENT',\n",
       "                'TREATMENT',\n",
       "                'TREATMENT',\n",
       "                'TREATMENT',\n",
       "                'PROBLEM',\n",
       "                'PROBLEM',\n",
       "                'PROBLEM',\n",
       "                'PROBLEM',\n",
       "                'PROBLEM',\n",
       "                'PROBLEM',\n",
       "                'PROBLEM',\n",
       "                'PROBLEM',\n",
       "                'PROBLEM',\n",
       "                'PROBLEM',\n",
       "                'TREATMENT']),\n",
       "              ('is_negated',\n",
       "               [False,\n",
       "                False,\n",
       "                False,\n",
       "                False,\n",
       "                False,\n",
       "                False,\n",
       "                False,\n",
       "                False,\n",
       "                False,\n",
       "                True,\n",
       "                False,\n",
       "                False,\n",
       "                False,\n",
       "                False,\n",
       "                False,\n",
       "                False,\n",
       "                False,\n",
       "                False,\n",
       "                False,\n",
       "                True,\n",
       "                False,\n",
       "                False,\n",
       "                False,\n",
       "                False,\n",
       "                False,\n",
       "                False,\n",
       "                False,\n",
       "                False,\n",
       "                False,\n",
       "                False,\n",
       "                False,\n",
       "                False,\n",
       "                False,\n",
       "                False,\n",
       "                False,\n",
       "                False,\n",
       "                False,\n",
       "                False]),\n",
       "              ('is_uncertain',\n",
       "               [False,\n",
       "                False,\n",
       "                False,\n",
       "                False,\n",
       "                False,\n",
       "                False,\n",
       "                False,\n",
       "                False,\n",
       "                False,\n",
       "                False,\n",
       "                False,\n",
       "                False,\n",
       "                False,\n",
       "                False,\n",
       "                False,\n",
       "                False,\n",
       "                False,\n",
       "                False,\n",
       "                False,\n",
       "                False,\n",
       "                False,\n",
       "                False,\n",
       "                False,\n",
       "                False,\n",
       "                False,\n",
       "                False,\n",
       "                False,\n",
       "                False,\n",
       "                False,\n",
       "                False,\n",
       "                False,\n",
       "                False,\n",
       "                False,\n",
       "                False,\n",
       "                False,\n",
       "                False,\n",
       "                False,\n",
       "                False]),\n",
       "              ('is_historical',\n",
       "               [False,\n",
       "                False,\n",
       "                False,\n",
       "                False,\n",
       "                False,\n",
       "                False,\n",
       "                False,\n",
       "                False,\n",
       "                False,\n",
       "                False,\n",
       "                False,\n",
       "                False,\n",
       "                False,\n",
       "                False,\n",
       "                False,\n",
       "                False,\n",
       "                False,\n",
       "                False,\n",
       "                False,\n",
       "                False,\n",
       "                False,\n",
       "                False,\n",
       "                False,\n",
       "                False,\n",
       "                False,\n",
       "                False,\n",
       "                False,\n",
       "                False,\n",
       "                False,\n",
       "                False,\n",
       "                True,\n",
       "                False,\n",
       "                False,\n",
       "                False,\n",
       "                False,\n",
       "                False,\n",
       "                False,\n",
       "                False]),\n",
       "              ('is_hypothetical',\n",
       "               [False,\n",
       "                False,\n",
       "                False,\n",
       "                False,\n",
       "                False,\n",
       "                False,\n",
       "                False,\n",
       "                False,\n",
       "                False,\n",
       "                False,\n",
       "                False,\n",
       "                False,\n",
       "                False,\n",
       "                False,\n",
       "                False,\n",
       "                False,\n",
       "                False,\n",
       "                False,\n",
       "                False,\n",
       "                False,\n",
       "                False,\n",
       "                False,\n",
       "                False,\n",
       "                False,\n",
       "                False,\n",
       "                False,\n",
       "                False,\n",
       "                False,\n",
       "                False,\n",
       "                False,\n",
       "                False,\n",
       "                True,\n",
       "                True,\n",
       "                True,\n",
       "                True,\n",
       "                True,\n",
       "                True,\n",
       "                False]),\n",
       "              ('is_family',\n",
       "               [False,\n",
       "                False,\n",
       "                False,\n",
       "                False,\n",
       "                False,\n",
       "                False,\n",
       "                False,\n",
       "                False,\n",
       "                False,\n",
       "                False,\n",
       "                False,\n",
       "                False,\n",
       "                False,\n",
       "                False,\n",
       "                False,\n",
       "                False,\n",
       "                False,\n",
       "                False,\n",
       "                False,\n",
       "                False,\n",
       "                True,\n",
       "                False,\n",
       "                False,\n",
       "                False,\n",
       "                False,\n",
       "                False,\n",
       "                False,\n",
       "                False,\n",
       "                False,\n",
       "                False,\n",
       "                False,\n",
       "                False,\n",
       "                False,\n",
       "                False,\n",
       "                False,\n",
       "                False,\n",
       "                False,\n",
       "                False]),\n",
       "              ('section_category',\n",
       "               ['allergies',\n",
       "                'chief_complaint',\n",
       "                'chief_complaint',\n",
       "                'chief_complaint',\n",
       "                'chief_complaint',\n",
       "                'chief_complaint',\n",
       "                'history_of_present_illness',\n",
       "                'history_of_present_illness',\n",
       "                'history_of_present_illness',\n",
       "                'history_of_present_illness',\n",
       "                'past_medical_history',\n",
       "                'past_medical_history',\n",
       "                'past_medical_history',\n",
       "                'past_medical_history',\n",
       "                'past_medical_history',\n",
       "                'past_medical_history',\n",
       "                'past_medical_history',\n",
       "                'social_history',\n",
       "                'social_history',\n",
       "                'social_history',\n",
       "                'family_history',\n",
       "                'hospital_course',\n",
       "                'hospital_course',\n",
       "                'medications',\n",
       "                'medications',\n",
       "                'medications',\n",
       "                'medications',\n",
       "                'observation_and_plan',\n",
       "                'observation_and_plan',\n",
       "                'observation_and_plan',\n",
       "                'observation_and_plan',\n",
       "                'patient_instructions',\n",
       "                'patient_instructions',\n",
       "                'patient_instructions',\n",
       "                'patient_instructions',\n",
       "                'patient_instructions',\n",
       "                'patient_instructions',\n",
       "                'signature']),\n",
       "              ('section_parent',\n",
       "               [None,\n",
       "                None,\n",
       "                None,\n",
       "                None,\n",
       "                None,\n",
       "                None,\n",
       "                None,\n",
       "                None,\n",
       "                None,\n",
       "                None,\n",
       "                None,\n",
       "                None,\n",
       "                None,\n",
       "                None,\n",
       "                None,\n",
       "                None,\n",
       "                None,\n",
       "                None,\n",
       "                None,\n",
       "                None,\n",
       "                None,\n",
       "                None,\n",
       "                None,\n",
       "                None,\n",
       "                None,\n",
       "                None,\n",
       "                None,\n",
       "                None,\n",
       "                None,\n",
       "                None,\n",
       "                None,\n",
       "                None,\n",
       "                None,\n",
       "                None,\n",
       "                None,\n",
       "                None,\n",
       "                None,\n",
       "                None])]),\n",
       " 'context': OrderedDict([('ent_text',\n",
       "               ['metastasis',\n",
       "                'alcohol or drug use',\n",
       "                'stroke',\n",
       "                'aspiration respiratory distress',\n",
       "                'fever',\n",
       "                'nausea',\n",
       "                'vomiting',\n",
       "                'abdominal pain',\n",
       "                'shortness of breath',\n",
       "                'abdominal pain']),\n",
       "              ('ent_label_',\n",
       "               ['PROBLEM',\n",
       "                'PROBLEM',\n",
       "                'PROBLEM',\n",
       "                'PROBLEM',\n",
       "                'PROBLEM',\n",
       "                'PROBLEM',\n",
       "                'PROBLEM',\n",
       "                'PROBLEM',\n",
       "                'PROBLEM',\n",
       "                'PROBLEM']),\n",
       "              ('ent_start_char',\n",
       "               [519, 788, 838, 1478, 1652, 1666, 1674, 1684, 1700, 1721]),\n",
       "              ('ent_end_char',\n",
       "               [529, 807, 844, 1509, 1657, 1672, 1682, 1698, 1719, 1735]),\n",
       "              ('modifier_text',\n",
       "               ['no evidence of',\n",
       "                'No',\n",
       "                'Mother',\n",
       "                'h/o',\n",
       "                'if',\n",
       "                'if',\n",
       "                'if',\n",
       "                'if',\n",
       "                'if',\n",
       "                'if']),\n",
       "              ('modifier_category',\n",
       "               ['NEGATED_EXISTENCE',\n",
       "                'NEGATED_EXISTENCE',\n",
       "                'FAMILY',\n",
       "                'HISTORICAL',\n",
       "                'HYPOTHETICAL',\n",
       "                'HYPOTHETICAL',\n",
       "                'HYPOTHETICAL',\n",
       "                'HYPOTHETICAL',\n",
       "                'HYPOTHETICAL',\n",
       "                'HYPOTHETICAL']),\n",
       "              ('modifier_direction',\n",
       "               ['FORWARD',\n",
       "                'FORWARD',\n",
       "                'FORWARD',\n",
       "                'FORWARD',\n",
       "                'FORWARD',\n",
       "                'FORWARD',\n",
       "                'FORWARD',\n",
       "                'FORWARD',\n",
       "                'FORWARD',\n",
       "                'FORWARD']),\n",
       "              ('modifier_start_char',\n",
       "               [504, 785, 826, 1474, 1613, 1613, 1613, 1613, 1613, 1613]),\n",
       "              ('modifier_end_char',\n",
       "               [518, 787, 832, 1477, 1615, 1615, 1615, 1615, 1615, 1615]),\n",
       "              ('modifier_scope_start_char',\n",
       "               [519, 788, 833, 1478, 1616, 1616, 1616, 1616, 1616, 1616]),\n",
       "              ('modifier_scope_end_char',\n",
       "               [518, 787, 832, 1477, 1615, 1615, 1615, 1615, 1615, 1615])]),\n",
       " 'section': OrderedDict([('section_category',\n",
       "               [None,\n",
       "                'other',\n",
       "                'allergies',\n",
       "                'chief_complaint',\n",
       "                'history_of_present_illness',\n",
       "                'past_medical_history',\n",
       "                'social_history',\n",
       "                'family_history',\n",
       "                'hospital_course',\n",
       "                'medications',\n",
       "                'observation_and_plan',\n",
       "                'patient_instructions',\n",
       "                'signature']),\n",
       "              ('section_title_text',\n",
       "               [None,\n",
       "                'Service:',\n",
       "                'Allergies:',\n",
       "                'Chief Complaint:',\n",
       "                'History of Present Illness:',\n",
       "                'Past Medical History:',\n",
       "                'Social History:',\n",
       "                'Family History:',\n",
       "                'Brief Hospital Course:',\n",
       "                'Discharge Medications:',\n",
       "                'Discharge Diagnosis:',\n",
       "                'Discharge Instructions:',\n",
       "                'Signed electronically by:']),\n",
       "              ('section_title_start_char',\n",
       "               [0,\n",
       "                134,\n",
       "                152,\n",
       "                222,\n",
       "                350,\n",
       "                532,\n",
       "                740,\n",
       "                810,\n",
       "                896,\n",
       "                1125,\n",
       "                1426,\n",
       "                1512,\n",
       "                1929]),\n",
       "              ('section_title_end_char',\n",
       "               [0,\n",
       "                142,\n",
       "                162,\n",
       "                238,\n",
       "                377,\n",
       "                553,\n",
       "                755,\n",
       "                825,\n",
       "                918,\n",
       "                1147,\n",
       "                1446,\n",
       "                1535,\n",
       "                1954]),\n",
       "              ('section_text',\n",
       "               ['Admission Date:  [**2573-5-30**]              Discharge Date:   [**2573-7-1**]\\n\\nDate of Birth:  [**2498-8-19**]             Sex:   F\\n\\n',\n",
       "                'Service: SURGERY\\n\\n',\n",
       "                'Allergies:\\nHydrochlorothiazide\\n\\nAttending:[**First Name3 (LF) 1893**]\\n',\n",
       "                'Chief Complaint:\\nAbdominal pain\\n\\nMajor Surgical or Invasive Procedure:\\nPICC line [**6-25**]\\nERCP w/ sphincterotomy [**5-31**]\\n\\n\\n',\n",
       "                'History of Present Illness:\\n74y female with type 2 dm and a recent stroke affecting her\\nspeech, who presents with 2 days of abdominal pain. Imaging shows no evidence of metastasis.\\n\\n',\n",
       "                \"Past Medical History:\\n1. Colon cancer dx'd in [**2554**], tx'd with hemicolectomy, XRT,\\nchemo. Last colonoscopy showed: Last CEA was in the 8 range\\n(down from 9)\\n2. Type II Diabetes Mellitus\\n3. Hypertension\\n\\n\",\n",
       "                'Social History:\\nMarried, former tobacco use. No alcohol or drug use.\\n\\n',\n",
       "                'Family History:\\nMother with stroke at age 82. no early deaths.\\n2 daughters- healthy\\n\\n\\n',\n",
       "                'Brief Hospital Course:\\nMs. [**Known patient lastname 2004**] was admitted on [**2573-5-30**]. Ultrasound at the time of\\nadmission demonstrated pancreatic duct dilitation and an\\nedematous gallbladder. She was admitted to the ICU.\\n',\n",
       "                'Discharge Medications:\\n1. Miconazole Nitrate 2 % Powder Sig: One (1) Appl Topical  BID\\n(2 times a day) as needed.\\n2. Heparin Sodium (Porcine) 5,000 unit/mL Solution Sig: One (1)\\nInjection TID (3 times a day).\\n3. Acetaminophen 160 mg/5 mL Elixir Sig: One (1)  PO Q4-6H\\n(every 4 to 6 hours) as needed.\\n\\n',\n",
       "                'Discharge Diagnosis:\\nType 2 DM\\nPancreatitis\\nHTN\\nh/o aspiration respiratory distress\\n\\n\\n',\n",
       "                'Discharge Instructions:\\nPatient may shower. Please call your surgeon or return to the\\nemergency room if [**Doctor First Name **] experience fever >101.5, nausea, vomiting,\\nabdominal pain, shortness of breath, abdominal pain or any\\nsignificant  change in your medical condition. A\\n\\nCompleted by: [**First Name11 (Name Pattern1) 2010**] [**Last Name (NamePattern1) 2011**] MD [**MD Number 2012**] [**2573-7-1**] @ 1404\\n',\n",
       "                'Signed electronically by: DR. [**First Name8 (NamePattern2) **] [**Last Name (NamePattern1) **]\\n on: FRI [**2573-7-2**] 8:03 AM\\n(End of Report)']),\n",
       "              ('section_text_start_char',\n",
       "               [0,\n",
       "                134,\n",
       "                152,\n",
       "                222,\n",
       "                350,\n",
       "                532,\n",
       "                740,\n",
       "                810,\n",
       "                896,\n",
       "                1125,\n",
       "                1426,\n",
       "                1512,\n",
       "                1929]),\n",
       "              ('section_text_end_char',\n",
       "               [134,\n",
       "                152,\n",
       "                222,\n",
       "                350,\n",
       "                532,\n",
       "                740,\n",
       "                810,\n",
       "                896,\n",
       "                1125,\n",
       "                1426,\n",
       "                1512,\n",
       "                1929,\n",
       "                2072]),\n",
       "              ('section_parent',\n",
       "               [None,\n",
       "                None,\n",
       "                None,\n",
       "                None,\n",
       "                None,\n",
       "                None,\n",
       "                None,\n",
       "                None,\n",
       "                None,\n",
       "                None,\n",
       "                None,\n",
       "                None,\n",
       "                None])]),\n",
       " 'doc': OrderedDict([('text',\n",
       "               [\"Admission Date:  [**2573-5-30**]              Discharge Date:   [**2573-7-1**]\\n\\nDate of Birth:  [**2498-8-19**]             Sex:   F\\n\\nService: SURGERY\\n\\nAllergies:\\nHydrochlorothiazide\\n\\nAttending:[**First Name3 (LF) 1893**]\\nChief Complaint:\\nAbdominal pain\\n\\nMajor Surgical or Invasive Procedure:\\nPICC line [**6-25**]\\nERCP w/ sphincterotomy [**5-31**]\\n\\n\\nHistory of Present Illness:\\n74y female with type 2 dm and a recent stroke affecting her\\nspeech, who presents with 2 days of abdominal pain. Imaging shows no evidence of metastasis.\\n\\nPast Medical History:\\n1. Colon cancer dx'd in [**2554**], tx'd with hemicolectomy, XRT,\\nchemo. Last colonoscopy showed: Last CEA was in the 8 range\\n(down from 9)\\n2. Type II Diabetes Mellitus\\n3. Hypertension\\n\\nSocial History:\\nMarried, former tobacco use. No alcohol or drug use.\\n\\nFamily History:\\nMother with stroke at age 82. no early deaths.\\n2 daughters- healthy\\n\\n\\nBrief Hospital Course:\\nMs. [**Known patient lastname 2004**] was admitted on [**2573-5-30**]. Ultrasound at the time of\\nadmission demonstrated pancreatic duct dilitation and an\\nedematous gallbladder. She was admitted to the ICU.\\nDischarge Medications:\\n1. Miconazole Nitrate 2 % Powder Sig: One (1) Appl Topical  BID\\n(2 times a day) as needed.\\n2. Heparin Sodium (Porcine) 5,000 unit/mL Solution Sig: One (1)\\nInjection TID (3 times a day).\\n3. Acetaminophen 160 mg/5 mL Elixir Sig: One (1)  PO Q4-6H\\n(every 4 to 6 hours) as needed.\\n\\nDischarge Diagnosis:\\nType 2 DM\\nPancreatitis\\nHTN\\nh/o aspiration respiratory distress\\n\\n\\nDischarge Instructions:\\nPatient may shower. Please call your surgeon or return to the\\nemergency room if [**Doctor First Name **] experience fever >101.5, nausea, vomiting,\\nabdominal pain, shortness of breath, abdominal pain or any\\nsignificant  change in your medical condition. A\\n\\nCompleted by: [**First Name11 (Name Pattern1) 2010**] [**Last Name (NamePattern1) 2011**] MD [**MD Number 2012**] [**2573-7-1**] @ 1404\\nSigned electronically by: DR. [**First Name8 (NamePattern2) **] [**Last Name (NamePattern1) **]\\n on: FRI [**2573-7-2**] 8:03 AM\\n(End of Report)\"])])}"
      ]
     },
     "execution_count": 23,
     "metadata": {},
     "output_type": "execute_result"
    }
   ],
   "source": [
    "doc._.data"
   ]
  },
  {
   "cell_type": "markdown",
   "metadata": {},
   "source": [
    "If you have pandas installed, you can also now convert your doc to a DataFrame for each of the four levels:"
   ]
  },
  {
   "cell_type": "code",
   "execution_count": 24,
   "metadata": {},
   "outputs": [
    {
     "name": "stderr",
     "output_type": "stream",
     "text": [
      "/Users/alecchapman/opt/anaconda3/envs/medspacy-37/lib/python3.7/importlib/_bootstrap.py:219: RuntimeWarning: numpy.ufunc size changed, may indicate binary incompatibility. Expected 192 from C header, got 216 from PyObject\n",
      "  return f(*args, **kwds)\n",
      "/Users/alecchapman/opt/anaconda3/envs/medspacy-37/lib/python3.7/importlib/_bootstrap.py:219: RuntimeWarning: numpy.ufunc size changed, may indicate binary incompatibility. Expected 192 from C header, got 216 from PyObject\n",
      "  return f(*args, **kwds)\n",
      "/Users/alecchapman/opt/anaconda3/envs/medspacy-37/lib/python3.7/importlib/_bootstrap.py:219: RuntimeWarning: numpy.ufunc size changed, may indicate binary incompatibility. Expected 192 from C header, got 216 from PyObject\n",
      "  return f(*args, **kwds)\n",
      "/Users/alecchapman/opt/anaconda3/envs/medspacy-37/lib/python3.7/importlib/_bootstrap.py:219: RuntimeWarning: numpy.ufunc size changed, may indicate binary incompatibility. Expected 192 from C header, got 216 from PyObject\n",
      "  return f(*args, **kwds)\n",
      "/Users/alecchapman/opt/anaconda3/envs/medspacy-37/lib/python3.7/importlib/_bootstrap.py:219: RuntimeWarning: numpy.ufunc size changed, may indicate binary incompatibility. Expected 192 from C header, got 216 from PyObject\n",
      "  return f(*args, **kwds)\n",
      "/Users/alecchapman/opt/anaconda3/envs/medspacy-37/lib/python3.7/importlib/_bootstrap.py:219: RuntimeWarning: numpy.ufunc size changed, may indicate binary incompatibility. Expected 192 from C header, got 216 from PyObject\n",
      "  return f(*args, **kwds)\n",
      "/Users/alecchapman/opt/anaconda3/envs/medspacy-37/lib/python3.7/importlib/_bootstrap.py:219: RuntimeWarning: numpy.ufunc size changed, may indicate binary incompatibility. Expected 192 from C header, got 216 from PyObject\n",
      "  return f(*args, **kwds)\n",
      "/Users/alecchapman/opt/anaconda3/envs/medspacy-37/lib/python3.7/importlib/_bootstrap.py:219: RuntimeWarning: numpy.ufunc size changed, may indicate binary incompatibility. Expected 192 from C header, got 216 from PyObject\n",
      "  return f(*args, **kwds)\n",
      "/Users/alecchapman/opt/anaconda3/envs/medspacy-37/lib/python3.7/importlib/_bootstrap.py:219: RuntimeWarning: numpy.ufunc size changed, may indicate binary incompatibility. Expected 192 from C header, got 216 from PyObject\n",
      "  return f(*args, **kwds)\n",
      "/Users/alecchapman/opt/anaconda3/envs/medspacy-37/lib/python3.7/importlib/_bootstrap.py:219: RuntimeWarning: numpy.ufunc size changed, may indicate binary incompatibility. Expected 192 from C header, got 216 from PyObject\n",
      "  return f(*args, **kwds)\n",
      "/Users/alecchapman/opt/anaconda3/envs/medspacy-37/lib/python3.7/importlib/_bootstrap.py:219: RuntimeWarning: numpy.ufunc size changed, may indicate binary incompatibility. Expected 192 from C header, got 216 from PyObject\n",
      "  return f(*args, **kwds)\n",
      "/Users/alecchapman/opt/anaconda3/envs/medspacy-37/lib/python3.7/importlib/_bootstrap.py:219: RuntimeWarning: numpy.ufunc size changed, may indicate binary incompatibility. Expected 192 from C header, got 216 from PyObject\n",
      "  return f(*args, **kwds)\n",
      "/Users/alecchapman/opt/anaconda3/envs/medspacy-37/lib/python3.7/importlib/_bootstrap.py:219: RuntimeWarning: numpy.ufunc size changed, may indicate binary incompatibility. Expected 192 from C header, got 216 from PyObject\n",
      "  return f(*args, **kwds)\n",
      "/Users/alecchapman/opt/anaconda3/envs/medspacy-37/lib/python3.7/importlib/_bootstrap.py:219: RuntimeWarning: numpy.ufunc size changed, may indicate binary incompatibility. Expected 192 from C header, got 216 from PyObject\n",
      "  return f(*args, **kwds)\n",
      "/Users/alecchapman/opt/anaconda3/envs/medspacy-37/lib/python3.7/importlib/_bootstrap.py:219: RuntimeWarning: numpy.ufunc size changed, may indicate binary incompatibility. Expected 192 from C header, got 216 from PyObject\n",
      "  return f(*args, **kwds)\n",
      "/Users/alecchapman/opt/anaconda3/envs/medspacy-37/lib/python3.7/importlib/_bootstrap.py:219: RuntimeWarning: numpy.ufunc size changed, may indicate binary incompatibility. Expected 192 from C header, got 216 from PyObject\n",
      "  return f(*args, **kwds)\n",
      "/Users/alecchapman/opt/anaconda3/envs/medspacy-37/lib/python3.7/importlib/_bootstrap.py:219: RuntimeWarning: numpy.ufunc size changed, may indicate binary incompatibility. Expected 192 from C header, got 216 from PyObject\n",
      "  return f(*args, **kwds)\n",
      "/Users/alecchapman/opt/anaconda3/envs/medspacy-37/lib/python3.7/importlib/_bootstrap.py:219: RuntimeWarning: numpy.ufunc size changed, may indicate binary incompatibility. Expected 192 from C header, got 216 from PyObject\n",
      "  return f(*args, **kwds)\n",
      "/Users/alecchapman/opt/anaconda3/envs/medspacy-37/lib/python3.7/importlib/_bootstrap.py:219: RuntimeWarning: numpy.ufunc size changed, may indicate binary incompatibility. Expected 192 from C header, got 216 from PyObject\n",
      "  return f(*args, **kwds)\n",
      "/Users/alecchapman/opt/anaconda3/envs/medspacy-37/lib/python3.7/importlib/_bootstrap.py:219: RuntimeWarning: numpy.ufunc size changed, may indicate binary incompatibility. Expected 192 from C header, got 216 from PyObject\n",
      "  return f(*args, **kwds)\n",
      "/Users/alecchapman/opt/anaconda3/envs/medspacy-37/lib/python3.7/importlib/_bootstrap.py:219: RuntimeWarning: numpy.ufunc size changed, may indicate binary incompatibility. Expected 192 from C header, got 216 from PyObject\n",
      "  return f(*args, **kwds)\n",
      "/Users/alecchapman/opt/anaconda3/envs/medspacy-37/lib/python3.7/importlib/_bootstrap.py:219: RuntimeWarning: numpy.ufunc size changed, may indicate binary incompatibility. Expected 192 from C header, got 216 from PyObject\n",
      "  return f(*args, **kwds)\n",
      "/Users/alecchapman/opt/anaconda3/envs/medspacy-37/lib/python3.7/importlib/_bootstrap.py:219: RuntimeWarning: numpy.ufunc size changed, may indicate binary incompatibility. Expected 192 from C header, got 216 from PyObject\n",
      "  return f(*args, **kwds)\n",
      "/Users/alecchapman/opt/anaconda3/envs/medspacy-37/lib/python3.7/importlib/_bootstrap.py:219: RuntimeWarning: numpy.ufunc size changed, may indicate binary incompatibility. Expected 192 from C header, got 216 from PyObject\n",
      "  return f(*args, **kwds)\n",
      "/Users/alecchapman/opt/anaconda3/envs/medspacy-37/lib/python3.7/importlib/_bootstrap.py:219: RuntimeWarning: numpy.ufunc size changed, may indicate binary incompatibility. Expected 192 from C header, got 216 from PyObject\n",
      "  return f(*args, **kwds)\n",
      "/Users/alecchapman/opt/anaconda3/envs/medspacy-37/lib/python3.7/importlib/_bootstrap.py:219: RuntimeWarning: numpy.ufunc size changed, may indicate binary incompatibility. Expected 192 from C header, got 216 from PyObject\n",
      "  return f(*args, **kwds)\n",
      "/Users/alecchapman/opt/anaconda3/envs/medspacy-37/lib/python3.7/importlib/_bootstrap.py:219: RuntimeWarning: numpy.ufunc size changed, may indicate binary incompatibility. Expected 192 from C header, got 216 from PyObject\n",
      "  return f(*args, **kwds)\n",
      "/Users/alecchapman/opt/anaconda3/envs/medspacy-37/lib/python3.7/importlib/_bootstrap.py:219: RuntimeWarning: numpy.ufunc size changed, may indicate binary incompatibility. Expected 192 from C header, got 216 from PyObject\n",
      "  return f(*args, **kwds)\n",
      "/Users/alecchapman/opt/anaconda3/envs/medspacy-37/lib/python3.7/importlib/_bootstrap.py:219: RuntimeWarning: numpy.ufunc size changed, may indicate binary incompatibility. Expected 192 from C header, got 216 from PyObject\n",
      "  return f(*args, **kwds)\n",
      "/Users/alecchapman/opt/anaconda3/envs/medspacy-37/lib/python3.7/importlib/_bootstrap.py:219: RuntimeWarning: numpy.ufunc size changed, may indicate binary incompatibility. Expected 192 from C header, got 216 from PyObject\n",
      "  return f(*args, **kwds)\n",
      "/Users/alecchapman/opt/anaconda3/envs/medspacy-37/lib/python3.7/importlib/_bootstrap.py:219: RuntimeWarning: numpy.ufunc size changed, may indicate binary incompatibility. Expected 192 from C header, got 216 from PyObject\n",
      "  return f(*args, **kwds)\n",
      "/Users/alecchapman/opt/anaconda3/envs/medspacy-37/lib/python3.7/importlib/_bootstrap.py:219: RuntimeWarning: numpy.ufunc size changed, may indicate binary incompatibility. Expected 192 from C header, got 216 from PyObject\n",
      "  return f(*args, **kwds)\n",
      "/Users/alecchapman/opt/anaconda3/envs/medspacy-37/lib/python3.7/importlib/_bootstrap.py:219: RuntimeWarning: numpy.ufunc size changed, may indicate binary incompatibility. Expected 192 from C header, got 216 from PyObject\n",
      "  return f(*args, **kwds)\n",
      "/Users/alecchapman/opt/anaconda3/envs/medspacy-37/lib/python3.7/importlib/_bootstrap.py:219: RuntimeWarning: numpy.ufunc size changed, may indicate binary incompatibility. Expected 192 from C header, got 216 from PyObject\n",
      "  return f(*args, **kwds)\n"
     ]
    },
    {
     "data": {
      "text/html": [
       "<div>\n",
       "<style scoped>\n",
       "    .dataframe tbody tr th:only-of-type {\n",
       "        vertical-align: middle;\n",
       "    }\n",
       "\n",
       "    .dataframe tbody tr th {\n",
       "        vertical-align: top;\n",
       "    }\n",
       "\n",
       "    .dataframe thead th {\n",
       "        text-align: right;\n",
       "    }\n",
       "</style>\n",
       "<table border=\"1\" class=\"dataframe\">\n",
       "  <thead>\n",
       "    <tr style=\"text-align: right;\">\n",
       "      <th></th>\n",
       "      <th>text</th>\n",
       "      <th>start_char</th>\n",
       "      <th>end_char</th>\n",
       "      <th>label_</th>\n",
       "      <th>is_negated</th>\n",
       "      <th>is_uncertain</th>\n",
       "      <th>is_historical</th>\n",
       "      <th>is_hypothetical</th>\n",
       "      <th>is_family</th>\n",
       "      <th>section_category</th>\n",
       "      <th>section_parent</th>\n",
       "    </tr>\n",
       "  </thead>\n",
       "  <tbody>\n",
       "    <tr>\n",
       "      <th>0</th>\n",
       "      <td>Hydrochlorothiazide</td>\n",
       "      <td>163</td>\n",
       "      <td>182</td>\n",
       "      <td>TREATMENT</td>\n",
       "      <td>False</td>\n",
       "      <td>False</td>\n",
       "      <td>False</td>\n",
       "      <td>False</td>\n",
       "      <td>False</td>\n",
       "      <td>allergies</td>\n",
       "      <td>None</td>\n",
       "    </tr>\n",
       "    <tr>\n",
       "      <th>1</th>\n",
       "      <td>Abdominal pain</td>\n",
       "      <td>239</td>\n",
       "      <td>253</td>\n",
       "      <td>PROBLEM</td>\n",
       "      <td>False</td>\n",
       "      <td>False</td>\n",
       "      <td>False</td>\n",
       "      <td>False</td>\n",
       "      <td>False</td>\n",
       "      <td>chief_complaint</td>\n",
       "      <td>None</td>\n",
       "    </tr>\n",
       "    <tr>\n",
       "      <th>2</th>\n",
       "      <td>Invasive Procedure</td>\n",
       "      <td>273</td>\n",
       "      <td>291</td>\n",
       "      <td>TREATMENT</td>\n",
       "      <td>False</td>\n",
       "      <td>False</td>\n",
       "      <td>False</td>\n",
       "      <td>False</td>\n",
       "      <td>False</td>\n",
       "      <td>chief_complaint</td>\n",
       "      <td>None</td>\n",
       "    </tr>\n",
       "    <tr>\n",
       "      <th>3</th>\n",
       "      <td>PICC line</td>\n",
       "      <td>293</td>\n",
       "      <td>302</td>\n",
       "      <td>TREATMENT</td>\n",
       "      <td>False</td>\n",
       "      <td>False</td>\n",
       "      <td>False</td>\n",
       "      <td>False</td>\n",
       "      <td>False</td>\n",
       "      <td>chief_complaint</td>\n",
       "      <td>None</td>\n",
       "    </tr>\n",
       "    <tr>\n",
       "      <th>4</th>\n",
       "      <td>ERCP</td>\n",
       "      <td>314</td>\n",
       "      <td>318</td>\n",
       "      <td>TEST</td>\n",
       "      <td>False</td>\n",
       "      <td>False</td>\n",
       "      <td>False</td>\n",
       "      <td>False</td>\n",
       "      <td>False</td>\n",
       "      <td>chief_complaint</td>\n",
       "      <td>None</td>\n",
       "    </tr>\n",
       "    <tr>\n",
       "      <th>5</th>\n",
       "      <td>sphincterotomy</td>\n",
       "      <td>322</td>\n",
       "      <td>336</td>\n",
       "      <td>TREATMENT</td>\n",
       "      <td>False</td>\n",
       "      <td>False</td>\n",
       "      <td>False</td>\n",
       "      <td>False</td>\n",
       "      <td>False</td>\n",
       "      <td>chief_complaint</td>\n",
       "      <td>None</td>\n",
       "    </tr>\n",
       "    <tr>\n",
       "      <th>6</th>\n",
       "      <td>a recent stroke</td>\n",
       "      <td>408</td>\n",
       "      <td>423</td>\n",
       "      <td>PROBLEM</td>\n",
       "      <td>False</td>\n",
       "      <td>False</td>\n",
       "      <td>False</td>\n",
       "      <td>False</td>\n",
       "      <td>False</td>\n",
       "      <td>history_of_present_illness</td>\n",
       "      <td>None</td>\n",
       "    </tr>\n",
       "    <tr>\n",
       "      <th>7</th>\n",
       "      <td>abdominal pain</td>\n",
       "      <td>474</td>\n",
       "      <td>488</td>\n",
       "      <td>PROBLEM</td>\n",
       "      <td>False</td>\n",
       "      <td>False</td>\n",
       "      <td>False</td>\n",
       "      <td>False</td>\n",
       "      <td>False</td>\n",
       "      <td>history_of_present_illness</td>\n",
       "      <td>None</td>\n",
       "    </tr>\n",
       "    <tr>\n",
       "      <th>8</th>\n",
       "      <td>Imaging</td>\n",
       "      <td>490</td>\n",
       "      <td>497</td>\n",
       "      <td>TEST</td>\n",
       "      <td>False</td>\n",
       "      <td>False</td>\n",
       "      <td>False</td>\n",
       "      <td>False</td>\n",
       "      <td>False</td>\n",
       "      <td>history_of_present_illness</td>\n",
       "      <td>None</td>\n",
       "    </tr>\n",
       "    <tr>\n",
       "      <th>9</th>\n",
       "      <td>metastasis</td>\n",
       "      <td>519</td>\n",
       "      <td>529</td>\n",
       "      <td>PROBLEM</td>\n",
       "      <td>True</td>\n",
       "      <td>False</td>\n",
       "      <td>False</td>\n",
       "      <td>False</td>\n",
       "      <td>False</td>\n",
       "      <td>history_of_present_illness</td>\n",
       "      <td>None</td>\n",
       "    </tr>\n",
       "  </tbody>\n",
       "</table>\n",
       "</div>"
      ],
      "text/plain": [
       "                  text  start_char  end_char     label_  is_negated  \\\n",
       "0  Hydrochlorothiazide         163       182  TREATMENT       False   \n",
       "1       Abdominal pain         239       253    PROBLEM       False   \n",
       "2   Invasive Procedure         273       291  TREATMENT       False   \n",
       "3            PICC line         293       302  TREATMENT       False   \n",
       "4                 ERCP         314       318       TEST       False   \n",
       "5       sphincterotomy         322       336  TREATMENT       False   \n",
       "6      a recent stroke         408       423    PROBLEM       False   \n",
       "7       abdominal pain         474       488    PROBLEM       False   \n",
       "8              Imaging         490       497       TEST       False   \n",
       "9           metastasis         519       529    PROBLEM        True   \n",
       "\n",
       "   is_uncertain  is_historical  is_hypothetical  is_family  \\\n",
       "0         False          False            False      False   \n",
       "1         False          False            False      False   \n",
       "2         False          False            False      False   \n",
       "3         False          False            False      False   \n",
       "4         False          False            False      False   \n",
       "5         False          False            False      False   \n",
       "6         False          False            False      False   \n",
       "7         False          False            False      False   \n",
       "8         False          False            False      False   \n",
       "9         False          False            False      False   \n",
       "\n",
       "             section_category section_parent  \n",
       "0                   allergies           None  \n",
       "1             chief_complaint           None  \n",
       "2             chief_complaint           None  \n",
       "3             chief_complaint           None  \n",
       "4             chief_complaint           None  \n",
       "5             chief_complaint           None  \n",
       "6  history_of_present_illness           None  \n",
       "7  history_of_present_illness           None  \n",
       "8  history_of_present_illness           None  \n",
       "9  history_of_present_illness           None  "
      ]
     },
     "execution_count": 24,
     "metadata": {},
     "output_type": "execute_result"
    }
   ],
   "source": [
    "doc._.to_dataframe(\"ent\").head(10)"
   ]
  },
  {
   "cell_type": "markdown",
   "metadata": {},
   "source": [
    "Now let's go through each of the 4 levels individually. You can specify a single level of data by either passing in the dtype to `doc._.get_data(dtype)` or accessing individual attributes."
   ]
  },
  {
   "cell_type": "markdown",
   "metadata": {},
   "source": [
    "## Ents data"
   ]
  },
  {
   "cell_type": "code",
   "execution_count": 25,
   "metadata": {},
   "outputs": [],
   "source": [
    "ent_data = doc._.ent_data"
   ]
  },
  {
   "cell_type": "code",
   "execution_count": 26,
   "metadata": {},
   "outputs": [
    {
     "data": {
      "text/plain": [
       "odict_keys(['text', 'start_char', 'end_char', 'label_', 'is_negated', 'is_uncertain', 'is_historical', 'is_hypothetical', 'is_family', 'section_category', 'section_parent'])"
      ]
     },
     "execution_count": 26,
     "metadata": {},
     "output_type": "execute_result"
    }
   ],
   "source": [
    "ent_data.keys()"
   ]
  },
  {
   "cell_type": "markdown",
   "metadata": {},
   "source": [
    "You can also access the data row-wise rather then column-wise:"
   ]
  },
  {
   "cell_type": "code",
   "execution_count": 27,
   "metadata": {},
   "outputs": [
    {
     "data": {
      "text/plain": [
       "[('Hydrochlorothiazide',\n",
       "  163,\n",
       "  182,\n",
       "  'TREATMENT',\n",
       "  False,\n",
       "  False,\n",
       "  False,\n",
       "  False,\n",
       "  False,\n",
       "  'allergies',\n",
       "  None),\n",
       " ('Abdominal pain',\n",
       "  239,\n",
       "  253,\n",
       "  'PROBLEM',\n",
       "  False,\n",
       "  False,\n",
       "  False,\n",
       "  False,\n",
       "  False,\n",
       "  'chief_complaint',\n",
       "  None)]"
      ]
     },
     "execution_count": 27,
     "metadata": {},
     "output_type": "execute_result"
    }
   ],
   "source": [
    "doc._.get_data(\"ent\", as_rows=True)[:2]"
   ]
  },
  {
   "cell_type": "code",
   "execution_count": 28,
   "metadata": {},
   "outputs": [],
   "source": [
    "ents_df = doc._.to_dataframe(\"ent\")"
   ]
  },
  {
   "cell_type": "code",
   "execution_count": 29,
   "metadata": {},
   "outputs": [
    {
     "data": {
      "text/html": [
       "<div>\n",
       "<style scoped>\n",
       "    .dataframe tbody tr th:only-of-type {\n",
       "        vertical-align: middle;\n",
       "    }\n",
       "\n",
       "    .dataframe tbody tr th {\n",
       "        vertical-align: top;\n",
       "    }\n",
       "\n",
       "    .dataframe thead th {\n",
       "        text-align: right;\n",
       "    }\n",
       "</style>\n",
       "<table border=\"1\" class=\"dataframe\">\n",
       "  <thead>\n",
       "    <tr style=\"text-align: right;\">\n",
       "      <th></th>\n",
       "      <th>text</th>\n",
       "      <th>start_char</th>\n",
       "      <th>end_char</th>\n",
       "      <th>label_</th>\n",
       "      <th>is_negated</th>\n",
       "      <th>is_uncertain</th>\n",
       "      <th>is_historical</th>\n",
       "      <th>is_hypothetical</th>\n",
       "      <th>is_family</th>\n",
       "      <th>section_category</th>\n",
       "      <th>section_parent</th>\n",
       "    </tr>\n",
       "  </thead>\n",
       "  <tbody>\n",
       "    <tr>\n",
       "      <th>0</th>\n",
       "      <td>Hydrochlorothiazide</td>\n",
       "      <td>163</td>\n",
       "      <td>182</td>\n",
       "      <td>TREATMENT</td>\n",
       "      <td>False</td>\n",
       "      <td>False</td>\n",
       "      <td>False</td>\n",
       "      <td>False</td>\n",
       "      <td>False</td>\n",
       "      <td>allergies</td>\n",
       "      <td>None</td>\n",
       "    </tr>\n",
       "    <tr>\n",
       "      <th>1</th>\n",
       "      <td>Abdominal pain</td>\n",
       "      <td>239</td>\n",
       "      <td>253</td>\n",
       "      <td>PROBLEM</td>\n",
       "      <td>False</td>\n",
       "      <td>False</td>\n",
       "      <td>False</td>\n",
       "      <td>False</td>\n",
       "      <td>False</td>\n",
       "      <td>chief_complaint</td>\n",
       "      <td>None</td>\n",
       "    </tr>\n",
       "    <tr>\n",
       "      <th>2</th>\n",
       "      <td>Invasive Procedure</td>\n",
       "      <td>273</td>\n",
       "      <td>291</td>\n",
       "      <td>TREATMENT</td>\n",
       "      <td>False</td>\n",
       "      <td>False</td>\n",
       "      <td>False</td>\n",
       "      <td>False</td>\n",
       "      <td>False</td>\n",
       "      <td>chief_complaint</td>\n",
       "      <td>None</td>\n",
       "    </tr>\n",
       "    <tr>\n",
       "      <th>3</th>\n",
       "      <td>PICC line</td>\n",
       "      <td>293</td>\n",
       "      <td>302</td>\n",
       "      <td>TREATMENT</td>\n",
       "      <td>False</td>\n",
       "      <td>False</td>\n",
       "      <td>False</td>\n",
       "      <td>False</td>\n",
       "      <td>False</td>\n",
       "      <td>chief_complaint</td>\n",
       "      <td>None</td>\n",
       "    </tr>\n",
       "    <tr>\n",
       "      <th>4</th>\n",
       "      <td>ERCP</td>\n",
       "      <td>314</td>\n",
       "      <td>318</td>\n",
       "      <td>TEST</td>\n",
       "      <td>False</td>\n",
       "      <td>False</td>\n",
       "      <td>False</td>\n",
       "      <td>False</td>\n",
       "      <td>False</td>\n",
       "      <td>chief_complaint</td>\n",
       "      <td>None</td>\n",
       "    </tr>\n",
       "  </tbody>\n",
       "</table>\n",
       "</div>"
      ],
      "text/plain": [
       "                  text  start_char  end_char     label_  is_negated  \\\n",
       "0  Hydrochlorothiazide         163       182  TREATMENT       False   \n",
       "1       Abdominal pain         239       253    PROBLEM       False   \n",
       "2   Invasive Procedure         273       291  TREATMENT       False   \n",
       "3            PICC line         293       302  TREATMENT       False   \n",
       "4                 ERCP         314       318       TEST       False   \n",
       "\n",
       "   is_uncertain  is_historical  is_hypothetical  is_family section_category  \\\n",
       "0         False          False            False      False        allergies   \n",
       "1         False          False            False      False  chief_complaint   \n",
       "2         False          False            False      False  chief_complaint   \n",
       "3         False          False            False      False  chief_complaint   \n",
       "4         False          False            False      False  chief_complaint   \n",
       "\n",
       "  section_parent  \n",
       "0           None  \n",
       "1           None  \n",
       "2           None  \n",
       "3           None  \n",
       "4           None  "
      ]
     },
     "execution_count": 29,
     "metadata": {},
     "output_type": "execute_result"
    }
   ],
   "source": [
    "ents_df.head()"
   ]
  },
  {
   "cell_type": "code",
   "execution_count": 30,
   "metadata": {},
   "outputs": [
    {
     "data": {
      "text/html": [
       "<div>\n",
       "<style scoped>\n",
       "    .dataframe tbody tr th:only-of-type {\n",
       "        vertical-align: middle;\n",
       "    }\n",
       "\n",
       "    .dataframe tbody tr th {\n",
       "        vertical-align: top;\n",
       "    }\n",
       "\n",
       "    .dataframe thead th {\n",
       "        text-align: right;\n",
       "    }\n",
       "</style>\n",
       "<table border=\"1\" class=\"dataframe\">\n",
       "  <thead>\n",
       "    <tr style=\"text-align: right;\">\n",
       "      <th></th>\n",
       "      <th>text</th>\n",
       "      <th>start_char</th>\n",
       "      <th>end_char</th>\n",
       "      <th>label_</th>\n",
       "      <th>is_negated</th>\n",
       "      <th>is_uncertain</th>\n",
       "      <th>is_historical</th>\n",
       "      <th>is_hypothetical</th>\n",
       "      <th>is_family</th>\n",
       "      <th>section_category</th>\n",
       "      <th>section_parent</th>\n",
       "    </tr>\n",
       "  </thead>\n",
       "  <tbody>\n",
       "    <tr>\n",
       "      <th>9</th>\n",
       "      <td>metastasis</td>\n",
       "      <td>519</td>\n",
       "      <td>529</td>\n",
       "      <td>PROBLEM</td>\n",
       "      <td>True</td>\n",
       "      <td>False</td>\n",
       "      <td>False</td>\n",
       "      <td>False</td>\n",
       "      <td>False</td>\n",
       "      <td>history_of_present_illness</td>\n",
       "      <td>None</td>\n",
       "    </tr>\n",
       "    <tr>\n",
       "      <th>19</th>\n",
       "      <td>alcohol or drug use</td>\n",
       "      <td>788</td>\n",
       "      <td>807</td>\n",
       "      <td>PROBLEM</td>\n",
       "      <td>True</td>\n",
       "      <td>False</td>\n",
       "      <td>False</td>\n",
       "      <td>False</td>\n",
       "      <td>False</td>\n",
       "      <td>social_history</td>\n",
       "      <td>None</td>\n",
       "    </tr>\n",
       "  </tbody>\n",
       "</table>\n",
       "</div>"
      ],
      "text/plain": [
       "                   text  start_char  end_char   label_  is_negated  \\\n",
       "9            metastasis         519       529  PROBLEM        True   \n",
       "19  alcohol or drug use         788       807  PROBLEM        True   \n",
       "\n",
       "    is_uncertain  is_historical  is_hypothetical  is_family  \\\n",
       "9          False          False            False      False   \n",
       "19         False          False            False      False   \n",
       "\n",
       "              section_category section_parent  \n",
       "9   history_of_present_illness           None  \n",
       "19              social_history           None  "
      ]
     },
     "execution_count": 30,
     "metadata": {},
     "output_type": "execute_result"
    }
   ],
   "source": [
    "ents_df[ents_df[\"is_negated\"] == True]"
   ]
  },
  {
   "cell_type": "markdown",
   "metadata": {},
   "source": [
    "## Section data"
   ]
  },
  {
   "cell_type": "code",
   "execution_count": 31,
   "metadata": {},
   "outputs": [],
   "source": [
    "section_data = doc._.section_data"
   ]
  },
  {
   "cell_type": "code",
   "execution_count": 32,
   "metadata": {},
   "outputs": [
    {
     "data": {
      "text/plain": [
       "odict_keys(['section_category', 'section_title_text', 'section_title_start_char', 'section_title_end_char', 'section_text', 'section_text_start_char', 'section_text_end_char', 'section_parent'])"
      ]
     },
     "execution_count": 32,
     "metadata": {},
     "output_type": "execute_result"
    }
   ],
   "source": [
    "section_data.keys()"
   ]
  },
  {
   "cell_type": "code",
   "execution_count": 33,
   "metadata": {},
   "outputs": [
    {
     "data": {
      "text/plain": [
       "(None,\n",
       " None,\n",
       " 0,\n",
       " 0,\n",
       " 'Admission Date:  [**2573-5-30**]              Discharge Date:   [**2573-7-1**]\\n\\nDate of Birth:  [**2498-8-19**]             Sex:   F\\n\\n',\n",
       " 0,\n",
       " 134,\n",
       " None)"
      ]
     },
     "execution_count": 33,
     "metadata": {},
     "output_type": "execute_result"
    }
   ],
   "source": [
    "doc._.get_data(\"section\", as_rows=True)[0]"
   ]
  },
  {
   "cell_type": "code",
   "execution_count": 34,
   "metadata": {},
   "outputs": [],
   "source": [
    "section_df = doc._.to_dataframe(\"section\")"
   ]
  },
  {
   "cell_type": "code",
   "execution_count": 35,
   "metadata": {},
   "outputs": [
    {
     "data": {
      "text/html": [
       "<div>\n",
       "<style scoped>\n",
       "    .dataframe tbody tr th:only-of-type {\n",
       "        vertical-align: middle;\n",
       "    }\n",
       "\n",
       "    .dataframe tbody tr th {\n",
       "        vertical-align: top;\n",
       "    }\n",
       "\n",
       "    .dataframe thead th {\n",
       "        text-align: right;\n",
       "    }\n",
       "</style>\n",
       "<table border=\"1\" class=\"dataframe\">\n",
       "  <thead>\n",
       "    <tr style=\"text-align: right;\">\n",
       "      <th></th>\n",
       "      <th>section_category</th>\n",
       "      <th>section_title_text</th>\n",
       "      <th>section_title_start_char</th>\n",
       "      <th>section_title_end_char</th>\n",
       "      <th>section_text</th>\n",
       "      <th>section_text_start_char</th>\n",
       "      <th>section_text_end_char</th>\n",
       "      <th>section_parent</th>\n",
       "    </tr>\n",
       "  </thead>\n",
       "  <tbody>\n",
       "    <tr>\n",
       "      <th>0</th>\n",
       "      <td>None</td>\n",
       "      <td>None</td>\n",
       "      <td>0</td>\n",
       "      <td>0</td>\n",
       "      <td>Admission Date:  [**2573-5-30**]              ...</td>\n",
       "      <td>0</td>\n",
       "      <td>134</td>\n",
       "      <td>None</td>\n",
       "    </tr>\n",
       "    <tr>\n",
       "      <th>1</th>\n",
       "      <td>other</td>\n",
       "      <td>Service:</td>\n",
       "      <td>134</td>\n",
       "      <td>142</td>\n",
       "      <td>Service: SURGERY\\n\\n</td>\n",
       "      <td>134</td>\n",
       "      <td>152</td>\n",
       "      <td>None</td>\n",
       "    </tr>\n",
       "    <tr>\n",
       "      <th>2</th>\n",
       "      <td>allergies</td>\n",
       "      <td>Allergies:</td>\n",
       "      <td>152</td>\n",
       "      <td>162</td>\n",
       "      <td>Allergies:\\nHydrochlorothiazide\\n\\nAttending:[...</td>\n",
       "      <td>152</td>\n",
       "      <td>222</td>\n",
       "      <td>None</td>\n",
       "    </tr>\n",
       "    <tr>\n",
       "      <th>3</th>\n",
       "      <td>chief_complaint</td>\n",
       "      <td>Chief Complaint:</td>\n",
       "      <td>222</td>\n",
       "      <td>238</td>\n",
       "      <td>Chief Complaint:\\nAbdominal pain\\n\\nMajor Surg...</td>\n",
       "      <td>222</td>\n",
       "      <td>350</td>\n",
       "      <td>None</td>\n",
       "    </tr>\n",
       "    <tr>\n",
       "      <th>4</th>\n",
       "      <td>history_of_present_illness</td>\n",
       "      <td>History of Present Illness:</td>\n",
       "      <td>350</td>\n",
       "      <td>377</td>\n",
       "      <td>History of Present Illness:\\n74y female with t...</td>\n",
       "      <td>350</td>\n",
       "      <td>532</td>\n",
       "      <td>None</td>\n",
       "    </tr>\n",
       "  </tbody>\n",
       "</table>\n",
       "</div>"
      ],
      "text/plain": [
       "             section_category           section_title_text  \\\n",
       "0                        None                         None   \n",
       "1                       other                     Service:   \n",
       "2                   allergies                   Allergies:   \n",
       "3             chief_complaint             Chief Complaint:   \n",
       "4  history_of_present_illness  History of Present Illness:   \n",
       "\n",
       "   section_title_start_char  section_title_end_char  \\\n",
       "0                         0                       0   \n",
       "1                       134                     142   \n",
       "2                       152                     162   \n",
       "3                       222                     238   \n",
       "4                       350                     377   \n",
       "\n",
       "                                        section_text  section_text_start_char  \\\n",
       "0  Admission Date:  [**2573-5-30**]              ...                        0   \n",
       "1                               Service: SURGERY\\n\\n                      134   \n",
       "2  Allergies:\\nHydrochlorothiazide\\n\\nAttending:[...                      152   \n",
       "3  Chief Complaint:\\nAbdominal pain\\n\\nMajor Surg...                      222   \n",
       "4  History of Present Illness:\\n74y female with t...                      350   \n",
       "\n",
       "   section_text_end_char section_parent  \n",
       "0                    134           None  \n",
       "1                    152           None  \n",
       "2                    222           None  \n",
       "3                    350           None  \n",
       "4                    532           None  "
      ]
     },
     "execution_count": 35,
     "metadata": {},
     "output_type": "execute_result"
    }
   ],
   "source": [
    "section_df.head()"
   ]
  },
  {
   "cell_type": "markdown",
   "metadata": {},
   "source": [
    "## Context data"
   ]
  },
  {
   "cell_type": "code",
   "execution_count": 36,
   "metadata": {},
   "outputs": [],
   "source": [
    "context_data = doc._.context_data"
   ]
  },
  {
   "cell_type": "code",
   "execution_count": 37,
   "metadata": {},
   "outputs": [
    {
     "data": {
      "text/plain": [
       "odict_keys(['ent_text', 'ent_label_', 'ent_start_char', 'ent_end_char', 'modifier_text', 'modifier_category', 'modifier_direction', 'modifier_start_char', 'modifier_end_char', 'modifier_scope_start_char', 'modifier_scope_end_char'])"
      ]
     },
     "execution_count": 37,
     "metadata": {},
     "output_type": "execute_result"
    }
   ],
   "source": [
    "context_data.keys()"
   ]
  },
  {
   "cell_type": "code",
   "execution_count": 38,
   "metadata": {},
   "outputs": [
    {
     "data": {
      "text/plain": [
       "[('metastasis',\n",
       "  'PROBLEM',\n",
       "  519,\n",
       "  529,\n",
       "  'no evidence of',\n",
       "  'NEGATED_EXISTENCE',\n",
       "  'FORWARD',\n",
       "  504,\n",
       "  518,\n",
       "  519,\n",
       "  518),\n",
       " ('alcohol or drug use',\n",
       "  'PROBLEM',\n",
       "  788,\n",
       "  807,\n",
       "  'No',\n",
       "  'NEGATED_EXISTENCE',\n",
       "  'FORWARD',\n",
       "  785,\n",
       "  787,\n",
       "  788,\n",
       "  787)]"
      ]
     },
     "execution_count": 38,
     "metadata": {},
     "output_type": "execute_result"
    }
   ],
   "source": [
    "doc._.get_data(\"context\", as_rows=True)[:2]"
   ]
  },
  {
   "cell_type": "code",
   "execution_count": 39,
   "metadata": {},
   "outputs": [],
   "source": [
    "context_df = doc._.to_dataframe(\"context\")"
   ]
  },
  {
   "cell_type": "code",
   "execution_count": 40,
   "metadata": {},
   "outputs": [
    {
     "data": {
      "text/html": [
       "<div>\n",
       "<style scoped>\n",
       "    .dataframe tbody tr th:only-of-type {\n",
       "        vertical-align: middle;\n",
       "    }\n",
       "\n",
       "    .dataframe tbody tr th {\n",
       "        vertical-align: top;\n",
       "    }\n",
       "\n",
       "    .dataframe thead th {\n",
       "        text-align: right;\n",
       "    }\n",
       "</style>\n",
       "<table border=\"1\" class=\"dataframe\">\n",
       "  <thead>\n",
       "    <tr style=\"text-align: right;\">\n",
       "      <th></th>\n",
       "      <th>ent_text</th>\n",
       "      <th>ent_label_</th>\n",
       "      <th>ent_start_char</th>\n",
       "      <th>ent_end_char</th>\n",
       "      <th>modifier_text</th>\n",
       "      <th>modifier_category</th>\n",
       "      <th>modifier_direction</th>\n",
       "      <th>modifier_start_char</th>\n",
       "      <th>modifier_end_char</th>\n",
       "      <th>modifier_scope_start_char</th>\n",
       "      <th>modifier_scope_end_char</th>\n",
       "    </tr>\n",
       "  </thead>\n",
       "  <tbody>\n",
       "    <tr>\n",
       "      <th>0</th>\n",
       "      <td>metastasis</td>\n",
       "      <td>PROBLEM</td>\n",
       "      <td>519</td>\n",
       "      <td>529</td>\n",
       "      <td>no evidence of</td>\n",
       "      <td>NEGATED_EXISTENCE</td>\n",
       "      <td>FORWARD</td>\n",
       "      <td>504</td>\n",
       "      <td>518</td>\n",
       "      <td>519</td>\n",
       "      <td>518</td>\n",
       "    </tr>\n",
       "    <tr>\n",
       "      <th>1</th>\n",
       "      <td>alcohol or drug use</td>\n",
       "      <td>PROBLEM</td>\n",
       "      <td>788</td>\n",
       "      <td>807</td>\n",
       "      <td>No</td>\n",
       "      <td>NEGATED_EXISTENCE</td>\n",
       "      <td>FORWARD</td>\n",
       "      <td>785</td>\n",
       "      <td>787</td>\n",
       "      <td>788</td>\n",
       "      <td>787</td>\n",
       "    </tr>\n",
       "    <tr>\n",
       "      <th>2</th>\n",
       "      <td>stroke</td>\n",
       "      <td>PROBLEM</td>\n",
       "      <td>838</td>\n",
       "      <td>844</td>\n",
       "      <td>Mother</td>\n",
       "      <td>FAMILY</td>\n",
       "      <td>FORWARD</td>\n",
       "      <td>826</td>\n",
       "      <td>832</td>\n",
       "      <td>833</td>\n",
       "      <td>832</td>\n",
       "    </tr>\n",
       "    <tr>\n",
       "      <th>3</th>\n",
       "      <td>aspiration respiratory distress</td>\n",
       "      <td>PROBLEM</td>\n",
       "      <td>1478</td>\n",
       "      <td>1509</td>\n",
       "      <td>h/o</td>\n",
       "      <td>HISTORICAL</td>\n",
       "      <td>FORWARD</td>\n",
       "      <td>1474</td>\n",
       "      <td>1477</td>\n",
       "      <td>1478</td>\n",
       "      <td>1477</td>\n",
       "    </tr>\n",
       "    <tr>\n",
       "      <th>4</th>\n",
       "      <td>fever</td>\n",
       "      <td>PROBLEM</td>\n",
       "      <td>1652</td>\n",
       "      <td>1657</td>\n",
       "      <td>if</td>\n",
       "      <td>HYPOTHETICAL</td>\n",
       "      <td>FORWARD</td>\n",
       "      <td>1613</td>\n",
       "      <td>1615</td>\n",
       "      <td>1616</td>\n",
       "      <td>1615</td>\n",
       "    </tr>\n",
       "  </tbody>\n",
       "</table>\n",
       "</div>"
      ],
      "text/plain": [
       "                          ent_text ent_label_  ent_start_char  ent_end_char  \\\n",
       "0                       metastasis    PROBLEM             519           529   \n",
       "1              alcohol or drug use    PROBLEM             788           807   \n",
       "2                           stroke    PROBLEM             838           844   \n",
       "3  aspiration respiratory distress    PROBLEM            1478          1509   \n",
       "4                            fever    PROBLEM            1652          1657   \n",
       "\n",
       "    modifier_text  modifier_category modifier_direction  modifier_start_char  \\\n",
       "0  no evidence of  NEGATED_EXISTENCE            FORWARD                  504   \n",
       "1              No  NEGATED_EXISTENCE            FORWARD                  785   \n",
       "2          Mother             FAMILY            FORWARD                  826   \n",
       "3             h/o         HISTORICAL            FORWARD                 1474   \n",
       "4              if       HYPOTHETICAL            FORWARD                 1613   \n",
       "\n",
       "   modifier_end_char  modifier_scope_start_char  modifier_scope_end_char  \n",
       "0                518                        519                      518  \n",
       "1                787                        788                      787  \n",
       "2                832                        833                      832  \n",
       "3               1477                       1478                     1477  \n",
       "4               1615                       1616                     1615  "
      ]
     },
     "execution_count": 40,
     "metadata": {},
     "output_type": "execute_result"
    }
   ],
   "source": [
    "context_df.head()"
   ]
  },
  {
   "cell_type": "markdown",
   "metadata": {},
   "source": [
    "## Doc"
   ]
  },
  {
   "cell_type": "code",
   "execution_count": 41,
   "metadata": {},
   "outputs": [],
   "source": [
    "doc_data = doc._.doc_data"
   ]
  },
  {
   "cell_type": "code",
   "execution_count": 42,
   "metadata": {},
   "outputs": [
    {
     "data": {
      "text/plain": [
       "odict_keys(['text'])"
      ]
     },
     "execution_count": 42,
     "metadata": {},
     "output_type": "execute_result"
    }
   ],
   "source": [
    "doc_data.keys()"
   ]
  },
  {
   "cell_type": "code",
   "execution_count": 43,
   "metadata": {},
   "outputs": [],
   "source": [
    "doc_df = doc._.to_dataframe(\"doc\")"
   ]
  },
  {
   "cell_type": "code",
   "execution_count": 44,
   "metadata": {},
   "outputs": [
    {
     "data": {
      "text/html": [
       "<div>\n",
       "<style scoped>\n",
       "    .dataframe tbody tr th:only-of-type {\n",
       "        vertical-align: middle;\n",
       "    }\n",
       "\n",
       "    .dataframe tbody tr th {\n",
       "        vertical-align: top;\n",
       "    }\n",
       "\n",
       "    .dataframe thead th {\n",
       "        text-align: right;\n",
       "    }\n",
       "</style>\n",
       "<table border=\"1\" class=\"dataframe\">\n",
       "  <thead>\n",
       "    <tr style=\"text-align: right;\">\n",
       "      <th></th>\n",
       "      <th>text</th>\n",
       "    </tr>\n",
       "  </thead>\n",
       "  <tbody>\n",
       "    <tr>\n",
       "      <th>0</th>\n",
       "      <td>Admission Date:  [**2573-5-30**]              ...</td>\n",
       "    </tr>\n",
       "  </tbody>\n",
       "</table>\n",
       "</div>"
      ],
      "text/plain": [
       "                                                text\n",
       "0  Admission Date:  [**2573-5-30**]              ..."
      ]
     },
     "execution_count": 44,
     "metadata": {},
     "output_type": "execute_result"
    }
   ],
   "source": [
    "doc_df"
   ]
  },
  {
   "cell_type": "markdown",
   "metadata": {},
   "source": [
    "## Customizing attributes\n",
    "You can customize the values in `dtype_attrs` to modify what attributes are stored. \"doc\" and \"ent\" dtypes can take additional attributes which aren't included in the default, but \"section\" and \"context\" attributes can only take subsets of the defaults.\n",
    "\n",
    "You can see the default values by calling the class method below:"
   ]
  },
  {
   "cell_type": "code",
   "execution_count": 45,
   "metadata": {},
   "outputs": [
    {
     "data": {
      "text/plain": [
       "{'ent': ['text',\n",
       "  'start_char',\n",
       "  'end_char',\n",
       "  'label_',\n",
       "  'is_negated',\n",
       "  'is_uncertain',\n",
       "  'is_historical',\n",
       "  'is_hypothetical',\n",
       "  'is_family',\n",
       "  'section_category',\n",
       "  'section_parent'],\n",
       " 'section': ['section_category',\n",
       "  'section_title_text',\n",
       "  'section_title_start_char',\n",
       "  'section_title_end_char',\n",
       "  'section_title_text',\n",
       "  'section_title_start_char',\n",
       "  'section_title_end_char',\n",
       "  'section_text',\n",
       "  'section_text_start_char',\n",
       "  'section_text_end_char',\n",
       "  'section_parent'],\n",
       " 'context': ['ent_text',\n",
       "  'ent_label_',\n",
       "  'ent_start_char',\n",
       "  'ent_end_char',\n",
       "  'modifier_text',\n",
       "  'modifier_category',\n",
       "  'modifier_direction',\n",
       "  'modifier_start_char',\n",
       "  'modifier_end_char',\n",
       "  'modifier_scope_start_char',\n",
       "  'modifier_scope_end_char'],\n",
       " 'doc': ['text']}"
      ]
     },
     "execution_count": 45,
     "metadata": {},
     "output_type": "execute_result"
    }
   ],
   "source": [
    "DocConsumer.get_default_attrs()"
   ]
  },
  {
   "cell_type": "markdown",
   "metadata": {},
   "source": [
    "Let's create a second model here and add a second `DocConsumer` with customized attributes. We'll also add a new custom attribute for `Doc`, `report_id`, and include it."
   ]
  },
  {
   "cell_type": "code",
   "execution_count": 46,
   "metadata": {},
   "outputs": [
    {
     "name": "stderr",
     "output_type": "stream",
     "text": [
      "/Users/alecchapman/opt/anaconda3/envs/medspacy-37/lib/python3.7/site-packages/spacy/util.py:275: UserWarning: [W031] Model 'en_info_3700_i2b2_2012' (0.1.0) requires spaCy v2.2 and is incompatible with the current spaCy version (2.3.2). This may lead to unexpected results or runtime errors. To resolve this, download a newer compatible model or retrain your custom model with the current spaCy version. For more details and available updates, run: python -m spacy validate\n",
      "  warnings.warn(warn_msg)\n"
     ]
    }
   ],
   "source": [
    "nlp2 = medspacy.load(\"en_info_3700_i2b2_2012\", enable=enable)"
   ]
  },
  {
   "cell_type": "code",
   "execution_count": 47,
   "metadata": {},
   "outputs": [],
   "source": [
    "from spacy.tokens import Doc\n",
    "Doc.set_extension(\"report_title\", default=\"\")"
   ]
  },
  {
   "cell_type": "code",
   "execution_count": 48,
   "metadata": {},
   "outputs": [],
   "source": [
    "doc2 = nlp2(\"There is no evidence of pneumonia.\")"
   ]
  },
  {
   "cell_type": "code",
   "execution_count": 49,
   "metadata": {},
   "outputs": [],
   "source": [
    "doc2._.report_title = \"example_document\""
   ]
  },
  {
   "cell_type": "code",
   "execution_count": 50,
   "metadata": {},
   "outputs": [],
   "source": [
    "doc_consumer2 = DocConsumer(nlp2, dtypes=(\"ent\", \"doc\"), \n",
    "                            dtype_attrs={\n",
    "                                \"ent\": [\n",
    "                                    \"lower_\",\n",
    "                                    \"label_\",\n",
    "                                    \"is_negated\",\n",
    "                                    \"section_category\",\n",
    "                                    \n",
    "                                ],\n",
    "                                \"doc\":\n",
    "                                [\"text\", \"report_title\"]\n",
    "                                \n",
    "                            }\n",
    ")"
   ]
  },
  {
   "cell_type": "code",
   "execution_count": 51,
   "metadata": {},
   "outputs": [
    {
     "data": {
      "text/plain": [
       "There is no evidence of pneumonia."
      ]
     },
     "execution_count": 51,
     "metadata": {},
     "output_type": "execute_result"
    }
   ],
   "source": [
    "doc_consumer2(doc2)"
   ]
  },
  {
   "cell_type": "code",
   "execution_count": 52,
   "metadata": {},
   "outputs": [
    {
     "data": {
      "text/html": [
       "<div>\n",
       "<style scoped>\n",
       "    .dataframe tbody tr th:only-of-type {\n",
       "        vertical-align: middle;\n",
       "    }\n",
       "\n",
       "    .dataframe tbody tr th {\n",
       "        vertical-align: top;\n",
       "    }\n",
       "\n",
       "    .dataframe thead th {\n",
       "        text-align: right;\n",
       "    }\n",
       "</style>\n",
       "<table border=\"1\" class=\"dataframe\">\n",
       "  <thead>\n",
       "    <tr style=\"text-align: right;\">\n",
       "      <th></th>\n",
       "      <th>lower_</th>\n",
       "      <th>label_</th>\n",
       "      <th>is_negated</th>\n",
       "      <th>section_category</th>\n",
       "    </tr>\n",
       "  </thead>\n",
       "  <tbody>\n",
       "    <tr>\n",
       "      <th>0</th>\n",
       "      <td>pneumonia</td>\n",
       "      <td>PROBLEM</td>\n",
       "      <td>True</td>\n",
       "      <td>None</td>\n",
       "    </tr>\n",
       "  </tbody>\n",
       "</table>\n",
       "</div>"
      ],
      "text/plain": [
       "      lower_   label_  is_negated section_category\n",
       "0  pneumonia  PROBLEM        True             None"
      ]
     },
     "execution_count": 52,
     "metadata": {},
     "output_type": "execute_result"
    }
   ],
   "source": [
    "doc2._.to_dataframe(\"ent\")"
   ]
  },
  {
   "cell_type": "code",
   "execution_count": 53,
   "metadata": {},
   "outputs": [
    {
     "data": {
      "text/html": [
       "<div>\n",
       "<style scoped>\n",
       "    .dataframe tbody tr th:only-of-type {\n",
       "        vertical-align: middle;\n",
       "    }\n",
       "\n",
       "    .dataframe tbody tr th {\n",
       "        vertical-align: top;\n",
       "    }\n",
       "\n",
       "    .dataframe thead th {\n",
       "        text-align: right;\n",
       "    }\n",
       "</style>\n",
       "<table border=\"1\" class=\"dataframe\">\n",
       "  <thead>\n",
       "    <tr style=\"text-align: right;\">\n",
       "      <th></th>\n",
       "      <th>text</th>\n",
       "      <th>report_title</th>\n",
       "    </tr>\n",
       "  </thead>\n",
       "  <tbody>\n",
       "    <tr>\n",
       "      <th>0</th>\n",
       "      <td>There is no evidence of pneumonia.</td>\n",
       "      <td>example_document</td>\n",
       "    </tr>\n",
       "  </tbody>\n",
       "</table>\n",
       "</div>"
      ],
      "text/plain": [
       "                                 text      report_title\n",
       "0  There is no evidence of pneumonia.  example_document"
      ]
     },
     "execution_count": 53,
     "metadata": {},
     "output_type": "execute_result"
    }
   ],
   "source": [
    "doc2._.to_dataframe(\"doc\")"
   ]
  },
  {
   "cell_type": "markdown",
   "metadata": {},
   "source": [
    "# Writer and Reader\n",
    "The reader and writer classes are utilities for I/O. Here we'll show how to use it to connect to a sqlite database, read in text, and write them back to a new table."
   ]
  },
  {
   "cell_type": "code",
   "execution_count": 54,
   "metadata": {},
   "outputs": [],
   "source": [
    "from medspacy.io import DbWriter, DbReader, DbConnect"
   ]
  },
  {
   "cell_type": "markdown",
   "metadata": {},
   "source": [
    "## DbConn\n",
    "DbConnect is a wrapper for either a pyodbc or sqlite3 connection. It can then be passed into the DbReader and DbWriter classes to retrieve/store document data.\n",
    "\n",
    "You can pass in either information for a pyodbc connection string or directly pass in a sqlite or pyodbc connection object. Here, we'll pass in a connection to our sqlite database."
   ]
  },
  {
   "cell_type": "code",
   "execution_count": 55,
   "metadata": {},
   "outputs": [],
   "source": [
    "sq3_conn = sqlite3.connect(\"./medspacy_demo.db\")"
   ]
  },
  {
   "cell_type": "code",
   "execution_count": 56,
   "metadata": {},
   "outputs": [],
   "source": [
    "cursor = sq3_conn.cursor()"
   ]
  },
  {
   "cell_type": "code",
   "execution_count": 57,
   "metadata": {},
   "outputs": [
    {
     "name": "stdout",
     "output_type": "stream",
     "text": [
      "Opened connection to None.None\n"
     ]
    }
   ],
   "source": [
    "conn = DbConnect(conn=sq3_conn)"
   ]
  },
  {
   "cell_type": "markdown",
   "metadata": {},
   "source": [
    "## DbReader\n",
    "DbReader is a utility fo reading docs from a database. It takes two arguments:\n",
    "- **db_conn**: A `DbConnect` object\n",
    "- **read_query**: The SQL query to read documents\n",
    "\n",
    "Calling `reader.read()` will then return the results of the specified query."
   ]
  },
  {
   "cell_type": "code",
   "execution_count": 58,
   "metadata": {},
   "outputs": [],
   "source": [
    "read_query = \"\"\"\n",
    "SELECT text\n",
    "FROM texts\n",
    "\"\"\""
   ]
  },
  {
   "cell_type": "code",
   "execution_count": 59,
   "metadata": {},
   "outputs": [],
   "source": [
    "reader = DbReader(conn, read_query)"
   ]
  },
  {
   "cell_type": "code",
   "execution_count": 60,
   "metadata": {},
   "outputs": [
    {
     "name": "stdout",
     "output_type": "stream",
     "text": [
      "Read 2 rows with query: \n",
      "SELECT text\n",
      "FROM texts\n",
      "\n"
     ]
    }
   ],
   "source": [
    "rslts = reader.read()"
   ]
  },
  {
   "cell_type": "code",
   "execution_count": 61,
   "metadata": {},
   "outputs": [],
   "source": [
    "texts = [r[0] for r in rslts]"
   ]
  },
  {
   "cell_type": "code",
   "execution_count": 62,
   "metadata": {},
   "outputs": [
    {
     "name": "stdout",
     "output_type": "stream",
     "text": [
      "Admission Date:  [**2573-5-30**]              Discharge Date:   [**2573-7-1**]\n",
      "\n",
      "Date of Birth:  [**2\n"
     ]
    }
   ],
   "source": [
    "print(texts[0][:100])"
   ]
  },
  {
   "cell_type": "code",
   "execution_count": 63,
   "metadata": {},
   "outputs": [
    {
     "name": "stdout",
     "output_type": "stream",
     "text": [
      "There is no evidence of pneumonia.\n"
     ]
    }
   ],
   "source": [
    "print(texts[1])"
   ]
  },
  {
   "cell_type": "markdown",
   "metadata": {},
   "source": [
    "#### Now we will process these docs and prepare to write them back:"
   ]
  },
  {
   "cell_type": "code",
   "execution_count": 64,
   "metadata": {},
   "outputs": [],
   "source": [
    "nlp.add_pipe(doc_consumer)"
   ]
  },
  {
   "cell_type": "code",
   "execution_count": 65,
   "metadata": {},
   "outputs": [],
   "source": [
    "docs = list(nlp.pipe(texts))"
   ]
  },
  {
   "cell_type": "markdown",
   "metadata": {},
   "source": [
    "## DbWriter\n",
    "DbWriter is a utility class for writing structured data back to a database. Here we'll use it to store out processed doc to a new table called `ents`.\n",
    "\n",
    "DbWriter takes the following arguments:\n",
    "\n",
    "- **destination_table**: The name of the table to insert values into\n",
    "- **cols**: Column names of the destination table\n",
    "- **col_types**: SQL data types of the columns\n",
    "- **doc_dtype**: DocConsumer data type, default 'ent'\n",
    "- **create_table**: Whether or not to create the table if it does not exist, default False\n",
    "- **drop_existing**: Whether to drop the table if it does exist, default False,\n",
    "- **write_batch_size**: Default 100\n",
    "\n",
    "\n",
    "Our column names will be the \"ents\" attributes in our consumer:"
   ]
  },
  {
   "cell_type": "code",
   "execution_count": 66,
   "metadata": {},
   "outputs": [
    {
     "data": {
      "text/plain": [
       "['text',\n",
       " 'start_char',\n",
       " 'end_char',\n",
       " 'label_',\n",
       " 'is_negated',\n",
       " 'is_uncertain',\n",
       " 'is_historical',\n",
       " 'is_hypothetical',\n",
       " 'is_family',\n",
       " 'section_category',\n",
       " 'section_parent']"
      ]
     },
     "execution_count": 66,
     "metadata": {},
     "output_type": "execute_result"
    }
   ],
   "source": [
    "doc_consumer.dtype_attrs[\"ent\"]"
   ]
  },
  {
   "cell_type": "markdown",
   "metadata": {},
   "source": [
    "Now we'll define the SQL datatypes for each column:"
   ]
  },
  {
   "cell_type": "code",
   "execution_count": 67,
   "metadata": {},
   "outputs": [],
   "source": [
    "col_types = [\n",
    "    \"varchar(1000)\",\n",
    "    \"int\",\n",
    "    \"int\",\n",
    "    \"varchar(100)\",\n",
    "    \"int\",\n",
    "    \"int\",\n",
    "    \"int\",\n",
    "    \"int\",\n",
    "    \"int\",\n",
    "    \"varchar(100)\",\n",
    "    \"varchar(100)\"\n",
    "]"
   ]
  },
  {
   "cell_type": "code",
   "execution_count": 68,
   "metadata": {},
   "outputs": [
    {
     "name": "stdout",
     "output_type": "stream",
     "text": [
      "text varchar(1000)\n",
      "start_char int\n",
      "end_char int\n",
      "label_ varchar(100)\n",
      "is_negated int\n",
      "is_uncertain int\n",
      "is_historical int\n",
      "is_hypothetical int\n",
      "is_family int\n",
      "section_category varchar(100)\n",
      "section_parent varchar(100)\n"
     ]
    }
   ],
   "source": [
    "for (name, typ) in zip(doc_consumer.dtype_attrs[\"ent\"], col_types):\n",
    "    print(name, typ)"
   ]
  },
  {
   "cell_type": "markdown",
   "metadata": {},
   "source": [
    "No we'll instantiate our writer and write the doc's entities to a new table:"
   ]
  },
  {
   "cell_type": "code",
   "execution_count": 69,
   "metadata": {},
   "outputs": [
    {
     "name": "stdout",
     "output_type": "stream",
     "text": [
      "Created table ents with query: CREATE TABLE ents (text varchar(1000), start_char int, end_char int, label_ varchar(100), is_negated int, is_uncertain int, is_historical int, is_hypothetical int, is_family int, section_category varchar(100), section_parent varchar(100))\n"
     ]
    }
   ],
   "source": [
    "writer = DbWriter(conn, \"ents\", cols=doc_consumer.dtype_attrs[\"ent\"], \n",
    "                  col_types=col_types,\n",
    "                  doc_dtype=\"ent\",\n",
    "                 create_table=True, drop_existing=True)"
   ]
  },
  {
   "cell_type": "code",
   "execution_count": 70,
   "metadata": {},
   "outputs": [
    {
     "name": "stdout",
     "output_type": "stream",
     "text": [
      "Wrote 38 rows with query: INSERT INTO ents (text, start_char, end_char, label_, is_negated, is_uncertain, is_historical, is_hypothetical, is_family, section_category, section_parent) VALUES (?, ?, ?, ?, ?, ?, ?, ?, ?, ?, ?)\n",
      "Wrote 1 rows with query: INSERT INTO ents (text, start_char, end_char, label_, is_negated, is_uncertain, is_historical, is_hypothetical, is_family, section_category, section_parent) VALUES (?, ?, ?, ?, ?, ?, ?, ?, ?, ?, ?)\n"
     ]
    }
   ],
   "source": [
    "for doc in docs:\n",
    "    writer.write(doc)"
   ]
  },
  {
   "cell_type": "markdown",
   "metadata": {},
   "source": [
    "Now we can query our table to retrieve the data we wrote:"
   ]
  },
  {
   "cell_type": "code",
   "execution_count": 71,
   "metadata": {},
   "outputs": [],
   "source": [
    "query = \"\"\"\n",
    "SELECT *\n",
    "FROM ents\n",
    "LIMIT 2;\n",
    "\"\"\""
   ]
  },
  {
   "cell_type": "code",
   "execution_count": 72,
   "metadata": {},
   "outputs": [
    {
     "data": {
      "text/plain": [
       "<sqlite3.Cursor at 0x127f12b90>"
      ]
     },
     "execution_count": 72,
     "metadata": {},
     "output_type": "execute_result"
    }
   ],
   "source": [
    "cursor.execute(query)"
   ]
  },
  {
   "cell_type": "code",
   "execution_count": 73,
   "metadata": {},
   "outputs": [
    {
     "data": {
      "text/plain": [
       "[('Hydrochlorothiazide',\n",
       "  163,\n",
       "  182,\n",
       "  'TREATMENT',\n",
       "  0,\n",
       "  0,\n",
       "  0,\n",
       "  0,\n",
       "  0,\n",
       "  'allergies',\n",
       "  None),\n",
       " ('Abdominal pain',\n",
       "  239,\n",
       "  253,\n",
       "  'PROBLEM',\n",
       "  0,\n",
       "  0,\n",
       "  0,\n",
       "  0,\n",
       "  0,\n",
       "  'chief_complaint',\n",
       "  None)]"
      ]
     },
     "execution_count": 73,
     "metadata": {},
     "output_type": "execute_result"
    }
   ],
   "source": [
    "cursor.fetchall()"
   ]
  },
  {
   "cell_type": "code",
   "execution_count": 74,
   "metadata": {},
   "outputs": [],
   "source": [
    "query = \"\"\"\n",
    "SELECT label_, COUNT(1)\n",
    "FROM ents\n",
    "GROUP BY label_\n",
    "\"\"\""
   ]
  },
  {
   "cell_type": "code",
   "execution_count": 75,
   "metadata": {},
   "outputs": [
    {
     "data": {
      "text/plain": [
       "<sqlite3.Cursor at 0x127f12b90>"
      ]
     },
     "execution_count": 75,
     "metadata": {},
     "output_type": "execute_result"
    }
   ],
   "source": [
    "cursor.execute(query)"
   ]
  },
  {
   "cell_type": "code",
   "execution_count": 76,
   "metadata": {},
   "outputs": [
    {
     "data": {
      "text/plain": [
       "[('PROBLEM', 21), ('TEST', 5), ('TREATMENT', 13)]"
      ]
     },
     "execution_count": 76,
     "metadata": {},
     "output_type": "execute_result"
    }
   ],
   "source": [
    "cursor.fetchall()"
   ]
  },
  {
   "cell_type": "code",
   "execution_count": null,
   "metadata": {},
   "outputs": [],
   "source": []
  },
  {
   "cell_type": "markdown",
   "metadata": {},
   "source": [
    "## Pipeline\n",
    "Once we have our reader and writer objects, we can pass them in to a `Pipeline`, which will read texts in batches, process them with NLP, and write them back to the database as specified by the writer.\n",
    "\n",
    "`Pipeline` takes the following arguments:\n",
    "- **reader: A DbReader object**\n",
    "- **writer: A Dbwriter object**\n",
    "- **nlp: A spaCy model**\n",
    "- **dtype: The DocConsumer data type to write to a database. Default \"ent**\n",
    "\n",
    "In order for the pipeline to work, the first column of both the source and destination tables must some sort of document identifier (ie., \"text_id\"). "
   ]
  },
  {
   "cell_type": "code",
   "execution_count": 77,
   "metadata": {},
   "outputs": [],
   "source": [
    "from medspacy.io import Pipeline"
   ]
  },
  {
   "cell_type": "code",
   "execution_count": 78,
   "metadata": {},
   "outputs": [
    {
     "name": "stdout",
     "output_type": "stream",
     "text": [
      "Opened connection to None.None\n"
     ]
    }
   ],
   "source": [
    "sq3_conn_read = sqlite3.connect(\"./medspacy_demo.db\")\n",
    "conn = DbConnect(conn=sq3_conn_read)"
   ]
  },
  {
   "cell_type": "code",
   "execution_count": 79,
   "metadata": {},
   "outputs": [
    {
     "name": "stdout",
     "output_type": "stream",
     "text": [
      "Created table ents with query: CREATE TABLE ents (text_id int, text varchar(1000), start_char int, end_char int, label_ varchar(100), is_negated int, is_uncertain int, is_historical int, is_hypothetical int, is_family int, section_category varchar(100), section_parent varchar(100))\n"
     ]
    }
   ],
   "source": [
    "reader = DbReader(conn, read_query=\"SELECT text_id, text FROM texts\")\n",
    "writer = DbWriter(conn, \"ents\", \n",
    "                  # Add the text_id to the column names and types\n",
    "                  cols=[\"text_id\"]+doc_consumer.dtype_attrs[\"ent\"], \n",
    "                  col_types=[\"int\"] + col_types,\n",
    "                  doc_dtype=\"ent\",\n",
    "                 create_table=True, drop_existing=True)"
   ]
  },
  {
   "cell_type": "code",
   "execution_count": 80,
   "metadata": {},
   "outputs": [],
   "source": [
    "pipeline = Pipeline(reader, writer, nlp, dtype=\"ent\")"
   ]
  },
  {
   "cell_type": "code",
   "execution_count": 81,
   "metadata": {},
   "outputs": [
    {
     "name": "stdout",
     "output_type": "stream",
     "text": [
      "Read 2 rows with query: SELECT text_id, text FROM texts\n",
      "Wrote 39 rows with query: INSERT INTO ents (text_id, text, start_char, end_char, label_, is_negated, is_uncertain, is_historical, is_hypothetical, is_family, section_category, section_parent) VALUES (?, ?, ?, ?, ?, ?, ?, ?, ?, ?, ?, ?)\n",
      "Connection closed.\n"
     ]
    }
   ],
   "source": [
    "pipeline.process()"
   ]
  },
  {
   "cell_type": "code",
   "execution_count": 82,
   "metadata": {},
   "outputs": [],
   "source": [
    "conn = sqlite3.connect(\"./medspacy_demo.db\")\n",
    "cursor = conn.cursor()"
   ]
  },
  {
   "cell_type": "code",
   "execution_count": 83,
   "metadata": {},
   "outputs": [
    {
     "data": {
      "text/plain": [
       "<sqlite3.Cursor at 0x126e976c0>"
      ]
     },
     "execution_count": 83,
     "metadata": {},
     "output_type": "execute_result"
    }
   ],
   "source": [
    "cursor.execute(\"\"\"\n",
    "SELECT text_id, label_, COUNT(1)\n",
    "FROM ents\n",
    "GROUP BY text_id, label_\n",
    "\"\"\")"
   ]
  },
  {
   "cell_type": "code",
   "execution_count": 84,
   "metadata": {},
   "outputs": [
    {
     "data": {
      "text/plain": [
       "[(1, 'PROBLEM', 20), (1, 'TEST', 5), (1, 'TREATMENT', 13), (2, 'PROBLEM', 1)]"
      ]
     },
     "execution_count": 84,
     "metadata": {},
     "output_type": "execute_result"
    }
   ],
   "source": [
    "cursor.fetchall()"
   ]
  },
  {
   "cell_type": "code",
   "execution_count": null,
   "metadata": {},
   "outputs": [],
   "source": []
  }
 ],
 "metadata": {
  "kernelspec": {
   "display_name": "Python 3",
   "language": "python",
   "name": "python3"
  },
  "language_info": {
   "codemirror_mode": {
    "name": "ipython",
    "version": 3
   },
   "file_extension": ".py",
   "mimetype": "text/x-python",
   "name": "python",
   "nbconvert_exporter": "python",
   "pygments_lexer": "ipython3",
   "version": "3.7.9"
  }
 },
 "nbformat": 4,
 "nbformat_minor": 4
}
