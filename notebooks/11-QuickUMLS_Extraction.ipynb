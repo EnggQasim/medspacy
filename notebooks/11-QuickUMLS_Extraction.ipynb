{
 "cells": [
  {
   "cell_type": "code",
   "execution_count": 1,
   "metadata": {},
   "outputs": [],
   "source": [
    "import sys\n",
    "\n",
    "import spacy\n",
    "import medspacy\n",
    "import nltk\n",
    "\n",
    "from medspacy.util import DEFAULT_PIPENAMES"
   ]
  },
  {
   "cell_type": "markdown",
   "metadata": {},
   "source": [
    "# Overview\n",
    "Example of how to enable QuickUMLS for concept extraction (CUIs) from text"
   ]
  },
  {
   "cell_type": "code",
   "execution_count": 2,
   "metadata": {},
   "outputs": [
    {
     "name": "stdout",
     "output_type": "stream",
     "text": [
      "Running on platform: darwin\n"
     ]
    }
   ],
   "source": [
    "print('Running on platform: {}'.format(sys.platform))"
   ]
  },
  {
   "cell_type": "code",
   "execution_count": 3,
   "metadata": {},
   "outputs": [
    {
     "name": "stdout",
     "output_type": "stream",
     "text": [
      "{'quickumls', 'target_matcher', 'context', 'sentencizer', 'tokenizer'}\n",
      "Loading QuickUMLS resources from a default SAMPLE of UMLS data from here: /Users/user925228/opt/anaconda3/lib/python3.8/site-packages/medspacy-0.0.1.4-py3.8.egg/resources/quickumls/QuickUMLS_SAMPLE_lowercase_POSIX_unqlite\n"
     ]
    }
   ],
   "source": [
    "# we can only use one of the following tokenizers, so let's use the medspacy tokenizer \n",
    "# which handles infixes (e.g. 'h/o', 'chf+cp', etc)\n",
    "\n",
    "medspacy_pipes = DEFAULT_PIPENAMES.copy()\n",
    "\n",
    "if 'quickumls' not in medspacy_pipes: \n",
    "    medspacy_pipes.add('quickumls')\n",
    "    \n",
    "print(medspacy_pipes)\n",
    "    \n",
    "nlp = medspacy.load(enable = medspacy_pipes)"
   ]
  },
  {
   "cell_type": "code",
   "execution_count": 4,
   "metadata": {},
   "outputs": [
    {
     "data": {
      "text/plain": [
       "['sentencizer', 'target_matcher', 'context', 'QuickUMLS matcher']"
      ]
     },
     "execution_count": 4,
     "metadata": {},
     "output_type": "execute_result"
    }
   ],
   "source": [
    "nlp.pipe_names"
   ]
  },
  {
   "cell_type": "markdown",
   "metadata": {},
   "source": [
    "# Process our document with some concepts matched in this default MRCONSO.RRF file of the sample:\n",
    "https://www.nlm.nih.gov/research/umls/new_users/online_learning/data-files/MRCONSO.RRF"
   ]
  },
  {
   "cell_type": "code",
   "execution_count": 5,
   "metadata": {},
   "outputs": [
    {
     "name": "stdout",
     "output_type": "stream",
     "text": [
      "Entity text : dipalmitoyllecithin\n",
      "Label (UMLS CUI) : C0000039\n",
      "Similarity : 0.8888888888888888\n",
      "Semtypes : {'T121', 'T119'}\n"
     ]
    }
   ],
   "source": [
    "doc = nlp('Decreased dipalmitoyllecithin content found in lung specimens')\n",
    "\n",
    "for ent in doc.ents:\n",
    "    print('Entity text : {}'.format(ent.text))\n",
    "    print('Label (UMLS CUI) : {}'.format(ent.label_))\n",
    "    print('Similarity : {}'.format(ent._.similarity))\n",
    "    print('Semtypes : {}'.format(ent._.semtypes))"
   ]
  },
  {
   "cell_type": "code",
   "execution_count": null,
   "metadata": {},
   "outputs": [],
   "source": []
  }
 ],
 "metadata": {
  "kernelspec": {
   "display_name": "Python 3",
   "language": "python",
   "name": "python3"
  },
  "language_info": {
   "codemirror_mode": {
    "name": "ipython",
    "version": 3
   },
   "file_extension": ".py",
   "mimetype": "text/x-python",
   "name": "python",
   "nbconvert_exporter": "python",
   "pygments_lexer": "ipython3",
   "version": "3.8.5"
  }
 },
 "nbformat": 4,
 "nbformat_minor": 2
}
