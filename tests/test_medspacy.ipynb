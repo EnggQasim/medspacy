{
 "cells": [
  {
   "cell_type": "code",
   "execution_count": 1,
   "id": "8f4827ca-6d1a-41cc-b392-9fcdaeefff35",
   "metadata": {},
   "outputs": [
    {
     "name": "stdout",
     "output_type": "stream",
     "text": [
      "['/Users/u6022257/Documents/medspacy/tests', '/Users/u6022257/opt/anaconda3/lib/python39.zip', '/Users/u6022257/opt/anaconda3/lib/python3.9', '/Users/u6022257/opt/anaconda3/lib/python3.9/lib-dynload', '/Users/u6022257/opt/anaconda3/lib/python3.9/site-packages/aeosa', '/Users/u6022257/opt/anaconda3/lib/python3.9/site-packages/medspacy_quickumls-2.3-py3.9.egg', '/Users/u6022257/opt/anaconda3/lib/python3.9/site-packages/quickumls_simstring-1.1.5.post1-py3.9-macosx-10.9-x86_64.egg', '../', '../medspacy', '/Users/u6022257/opt/anaconda3/lib/python3.9/site-packages/']\n"
     ]
    },
    {
     "data": {
      "text/plain": [
       "set()"
      ]
     },
     "execution_count": 1,
     "metadata": {},
     "output_type": "execute_result"
    }
   ],
   "source": [
    "import pytest\n",
    "\n",
    "import spacy\n",
    "import sys\n",
    "sys.path = ['/Users/u6022257/Documents/medspacy/tests', '/Users/u6022257/opt/anaconda3/lib/python39.zip', '/Users/u6022257/opt/anaconda3/lib/python3.9', '/Users/u6022257/opt/anaconda3/lib/python3.9/lib-dynload', '/Users/u6022257/opt/anaconda3/lib/python3.9/site-packages/aeosa', '/Users/u6022257/opt/anaconda3/lib/python3.9/site-packages/medspacy_quickumls-2.3-py3.9.egg', '/Users/u6022257/opt/anaconda3/lib/python3.9/site-packages/quickumls_simstring-1.1.5.post1-py3.9-macosx-10.9-x86_64.egg', '../', '../medspacy','/Users/u6022257/opt/anaconda3/lib/python3.9/site-packages/']\n",
    "#sys.path.append(\"../\") #need to uninstall medspacy-io to test the package code.\n",
    "#sys.path.append(\"../medspacy\")\n",
    "print(sys.path)\n",
    "import medspacy\n",
    "#import PyRuSH\n",
    "\n",
    "\n",
    "enable, disable = medspacy.util._build_pipe_names(enable=None, disable=None)\n",
    "enable\n",
    "disable"
   ]
  },
  {
   "cell_type": "code",
   "execution_count": null,
   "id": "5e67c62b-df6f-45e6-8909-38cbecfda003",
   "metadata": {},
   "outputs": [],
   "source": []
  },
  {
   "cell_type": "code",
   "execution_count": 2,
   "id": "d4a5e22d-93a7-4981-aa1b-c8c24a253f37",
   "metadata": {},
   "outputs": [
    {
     "data": {
      "text/plain": [
       "{'medspacy_context', 'medspacy_pyrush', 'medspacy_target_matcher'}"
      ]
     },
     "execution_count": 2,
     "metadata": {},
     "output_type": "execute_result"
    }
   ],
   "source": [
    "nlp = medspacy.load()\n",
    "expected_pipe_names = {\n",
    "            \"medspacy_pyrush\",\n",
    "            \"medspacy_context\",\n",
    "            \"medspacy_target_matcher\",\n",
    "        }\n",
    "set(nlp.pipe_names)"
   ]
  },
  {
   "cell_type": "code",
   "execution_count": null,
   "id": "c3493121-49d6-4acb-9fa9-95c8ef2c9a49",
   "metadata": {},
   "outputs": [],
   "source": []
  }
 ],
 "metadata": {
  "kernelspec": {
   "display_name": "Python 3 (ipykernel)",
   "language": "python",
   "name": "python3"
  },
  "language_info": {
   "codemirror_mode": {
    "name": "ipython",
    "version": 3
   },
   "file_extension": ".py",
   "mimetype": "text/x-python",
   "name": "python",
   "nbconvert_exporter": "python",
   "pygments_lexer": "ipython3",
   "version": "3.9.12"
  }
 },
 "nbformat": 4,
 "nbformat_minor": 5
}
